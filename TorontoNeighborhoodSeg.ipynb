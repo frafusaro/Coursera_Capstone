{
 "metadata": {
  "language_info": {
   "codemirror_mode": {
    "name": "ipython",
    "version": 3
   },
   "file_extension": ".py",
   "mimetype": "text/x-python",
   "name": "python",
   "nbconvert_exporter": "python",
   "pygments_lexer": "ipython3",
   "version": "3.8.3-final"
  },
  "orig_nbformat": 2,
  "kernelspec": {
   "name": "python3",
   "display_name": "Python 3.8.3 64-bit ('base': conda)",
   "metadata": {
    "interpreter": {
     "hash": "cc64209a187936078ec6109e4726b40e6687fb4cda771774313f518a25b500fc"
    }
   }
  }
 },
 "nbformat": 4,
 "nbformat_minor": 2,
 "cells": [
  {
   "source": [
    "# Toronto Neighborhood Segmentation"
   ],
   "cell_type": "markdown",
   "metadata": {}
  },
  {
   "source": [
    "## Part 1: Toronto's Neighboorhoods\n",
    "In this part we retrieve the basic information about Toronto's neighborhoods that have *M* in their postcode and summarize it in a pandas dataframe.\n",
    "The data are scrapped from the Wikipedia page: [https://en.wikipedia.org/wiki/List_of_postal_codes_of_Canada:_M](https://en.wikipedia.org/wiki/List_of_postal_codes_of_Canada:_M)."
   ],
   "cell_type": "markdown",
   "metadata": {}
  },
  {
   "source": [
    "Steps:\n",
    "- Downloading the Webpage Using Requests Library\n",
    "- Parsing Webpage HTML Using BeautifulSoup\n",
    "- Extracting Data and Building DataFrame"
   ],
   "cell_type": "markdown",
   "metadata": {}
  },
  {
   "cell_type": "code",
   "execution_count": 1,
   "metadata": {},
   "outputs": [],
   "source": [
    "#import necessary packages\n",
    "import pandas as pd \n",
    "import requests\n",
    "from bs4 import BeautifulSoup"
   ]
  },
  {
   "cell_type": "code",
   "execution_count": 2,
   "metadata": {},
   "outputs": [],
   "source": [
    "#downlaod wikipedia page using requests\n",
    "url = \"https://en.wikipedia.org/wiki/List_of_postal_codes_of_Canada:_M\"\n",
    "html_data = requests.get(url).text"
   ]
  },
  {
   "cell_type": "code",
   "execution_count": 3,
   "metadata": {},
   "outputs": [],
   "source": [
    "#parse the html data using beatiful_soup\n",
    "soup = BeautifulSoup(html_data,\"html5lib\")"
   ]
  },
  {
   "cell_type": "code",
   "execution_count": 4,
   "metadata": {},
   "outputs": [
    {
     "output_type": "execute_result",
     "data": {
      "text/plain": [
       "<title>List of postal codes of Canada: M - Wikipedia</title>"
      ]
     },
     "metadata": {},
     "execution_count": 4
    }
   ],
   "source": [
    "#get the page title\n",
    "soup.title"
   ]
  },
  {
   "source": [
    "Using Beatiful soup extract the table with the neighborhood data and store them in a dataframe ."
   ],
   "cell_type": "markdown",
   "metadata": {}
  },
  {
   "cell_type": "code",
   "execution_count": 5,
   "metadata": {},
   "outputs": [
    {
     "output_type": "execute_result",
     "data": {
      "text/plain": [
       "  PostalCode             Borough                 Neighborhood\n",
       "0      M1A\\n      Not assigned\\n               Not assigned\\n\n",
       "1      M2A\\n      Not assigned\\n               Not assigned\\n\n",
       "2      M3A\\n        North York\\n                  Parkwoods\\n\n",
       "3      M4A\\n        North York\\n           Victoria Village\\n\n",
       "4      M5A\\n  Downtown Toronto\\n  Regent Park, Harbourfront\\n"
      ],
      "text/html": "<div>\n<style scoped>\n    .dataframe tbody tr th:only-of-type {\n        vertical-align: middle;\n    }\n\n    .dataframe tbody tr th {\n        vertical-align: top;\n    }\n\n    .dataframe thead th {\n        text-align: right;\n    }\n</style>\n<table border=\"1\" class=\"dataframe\">\n  <thead>\n    <tr style=\"text-align: right;\">\n      <th></th>\n      <th>PostalCode</th>\n      <th>Borough</th>\n      <th>Neighborhood</th>\n    </tr>\n  </thead>\n  <tbody>\n    <tr>\n      <th>0</th>\n      <td>M1A\\n</td>\n      <td>Not assigned\\n</td>\n      <td>Not assigned\\n</td>\n    </tr>\n    <tr>\n      <th>1</th>\n      <td>M2A\\n</td>\n      <td>Not assigned\\n</td>\n      <td>Not assigned\\n</td>\n    </tr>\n    <tr>\n      <th>2</th>\n      <td>M3A\\n</td>\n      <td>North York\\n</td>\n      <td>Parkwoods\\n</td>\n    </tr>\n    <tr>\n      <th>3</th>\n      <td>M4A\\n</td>\n      <td>North York\\n</td>\n      <td>Victoria Village\\n</td>\n    </tr>\n    <tr>\n      <th>4</th>\n      <td>M5A\\n</td>\n      <td>Downtown Toronto\\n</td>\n      <td>Regent Park, Harbourfront\\n</td>\n    </tr>\n  </tbody>\n</table>\n</div>"
     },
     "metadata": {},
     "execution_count": 5
    }
   ],
   "source": [
    "# create the dataframe\n",
    "toronto_neighborhoods = pd.DataFrame(columns=[\n",
    "    \"PostalCode\", \n",
    "    \"Borough\", \n",
    "    \"Neighborhood\"])\n",
    "\n",
    "#extract the table, and extract data row by row, column by column\n",
    "for row in soup.find(\"tbody\").find_all(\"tr\"):\n",
    "    col = row.find_all(\"td\")\n",
    "    if col:\n",
    "        postcode = col[0].text\n",
    "        postcode = col[0].text\n",
    "        borough = col[1].text\n",
    "        neighborhood = col[2].text\n",
    "\n",
    "        toronto_neighborhoods = toronto_neighborhoods.append({\n",
    "            \"PostalCode\":postcode, \n",
    "            \"Borough\":borough, \n",
    "            \"Neighborhood\":neighborhood}, \n",
    "            ignore_index = True)\n",
    "\n",
    "toronto_neighborhoods.head()"
   ]
  },
  {
   "source": [
    "Clean the dataframe:\n",
    "- remove \"\\n\"\n",
    "- remove not assinged postal codes (rows with Borough=\"Not assigned\")\n",
    "- group Neighborhoods with same postalcode in the same row\n",
    "- replace Neihgborhood cells having \"Not Assigned\" with the name of the corresponding Borough"
   ],
   "cell_type": "markdown",
   "metadata": {}
  },
  {
   "cell_type": "code",
   "execution_count": 6,
   "metadata": {},
   "outputs": [],
   "source": [
    "#remove \"\\n\"\n",
    "toronto_neighborhoods=toronto_neighborhoods.replace(to_replace=r'\\n', value='', regex=True)"
   ]
  },
  {
   "cell_type": "code",
   "execution_count": 7,
   "metadata": {},
   "outputs": [
    {
     "output_type": "execute_result",
     "data": {
      "text/plain": [
       "  PostalCode           Borough                                 Neighborhood\n",
       "0        M3A        North York                                    Parkwoods\n",
       "1        M4A        North York                             Victoria Village\n",
       "2        M5A  Downtown Toronto                    Regent Park, Harbourfront\n",
       "3        M6A        North York             Lawrence Manor, Lawrence Heights\n",
       "4        M7A  Downtown Toronto  Queen's Park, Ontario Provincial Government"
      ],
      "text/html": "<div>\n<style scoped>\n    .dataframe tbody tr th:only-of-type {\n        vertical-align: middle;\n    }\n\n    .dataframe tbody tr th {\n        vertical-align: top;\n    }\n\n    .dataframe thead th {\n        text-align: right;\n    }\n</style>\n<table border=\"1\" class=\"dataframe\">\n  <thead>\n    <tr style=\"text-align: right;\">\n      <th></th>\n      <th>PostalCode</th>\n      <th>Borough</th>\n      <th>Neighborhood</th>\n    </tr>\n  </thead>\n  <tbody>\n    <tr>\n      <th>0</th>\n      <td>M3A</td>\n      <td>North York</td>\n      <td>Parkwoods</td>\n    </tr>\n    <tr>\n      <th>1</th>\n      <td>M4A</td>\n      <td>North York</td>\n      <td>Victoria Village</td>\n    </tr>\n    <tr>\n      <th>2</th>\n      <td>M5A</td>\n      <td>Downtown Toronto</td>\n      <td>Regent Park, Harbourfront</td>\n    </tr>\n    <tr>\n      <th>3</th>\n      <td>M6A</td>\n      <td>North York</td>\n      <td>Lawrence Manor, Lawrence Heights</td>\n    </tr>\n    <tr>\n      <th>4</th>\n      <td>M7A</td>\n      <td>Downtown Toronto</td>\n      <td>Queen's Park, Ontario Provincial Government</td>\n    </tr>\n  </tbody>\n</table>\n</div>"
     },
     "metadata": {},
     "execution_count": 7
    }
   ],
   "source": [
    "#filter out not assinged postal codes\n",
    "mask = toronto_neighborhoods['Borough']==\"Not assigned\"\n",
    "toronto_neighborhoods = toronto_neighborhoods[~mask]\n",
    "toronto_neighborhoods.reset_index(drop=True,inplace=True)\n",
    "toronto_neighborhoods.head()"
   ]
  },
  {
   "cell_type": "code",
   "execution_count": 8,
   "metadata": {},
   "outputs": [
    {
     "output_type": "stream",
     "name": "stdout",
     "text": [
      "Empty DataFrame\nColumns: [PostalCode, Borough, Neighborhood]\nIndex: []\n"
     ]
    }
   ],
   "source": [
    "# Check whether there are rows with duplicated postal code\n",
    "duplicateDFRow = toronto_neighborhoods[toronto_neighborhoods.duplicated(['PostalCode'])]\n",
    "print(duplicateDFRow)"
   ]
  },
  {
   "source": [
    "There are no rows with duplicated postal codes."
   ],
   "cell_type": "markdown",
   "metadata": {}
  },
  {
   "cell_type": "code",
   "execution_count": 9,
   "metadata": {},
   "outputs": [
    {
     "output_type": "execute_result",
     "data": {
      "text/plain": [
       "Empty DataFrame\n",
       "Columns: [PostalCode, Borough, Neighborhood]\n",
       "Index: []"
      ],
      "text/html": "<div>\n<style scoped>\n    .dataframe tbody tr th:only-of-type {\n        vertical-align: middle;\n    }\n\n    .dataframe tbody tr th {\n        vertical-align: top;\n    }\n\n    .dataframe thead th {\n        text-align: right;\n    }\n</style>\n<table border=\"1\" class=\"dataframe\">\n  <thead>\n    <tr style=\"text-align: right;\">\n      <th></th>\n      <th>PostalCode</th>\n      <th>Borough</th>\n      <th>Neighborhood</th>\n    </tr>\n  </thead>\n  <tbody>\n  </tbody>\n</table>\n</div>"
     },
     "metadata": {},
     "execution_count": 9
    }
   ],
   "source": [
    "#Check whether there are cells with not assigned Neighboorhood field\n",
    "mask_nb = toronto_neighborhoods['Neighborhood']==\"Not assigned\"\n",
    "df_nb = toronto_neighborhoods[mask_nb]\n",
    "df_nb.head()"
   ]
  },
  {
   "source": [
    "There are no rows with \"Not assigned\" Neighborhood field."
   ],
   "cell_type": "markdown",
   "metadata": {}
  },
  {
   "cell_type": "code",
   "execution_count": 10,
   "metadata": {},
   "outputs": [
    {
     "output_type": "stream",
     "name": "stdout",
     "text": [
      "Number of rows (unique postal codes with assigned borough) in the toronto_neighborhoods dataframe: 103.\n"
     ]
    }
   ],
   "source": [
    "#print out the shape of the dataframe\n",
    "print(f'Number of rows (unique postal codes with assigned borough) in the toronto_neighborhoods dataframe: {toronto_neighborhoods.shape[0]}.')"
   ]
  },
  {
   "source": [
    "### Assumption:\n",
    "For the remainder of the project we assume that we need to downselect the postal code shown in the picture below, i.e, only 12 rows.:\n",
    "\n",
    "![](https://d3c33hcgiwev3.cloudfront.net/imageAssetProxy.v1/7JXaz3NNEeiMwApe4i-fLg_40e690ae0e927abda2d4bde7d94ed133_Screen-Shot-2018-06-18-at-7.17.57-PM.png?expiry=1615593600000&hmac=unqSqgkLjy999x2SlSPGTtwyQY3V-RE76_R0fAdH2IY)\n",
    "\n",
    "Source: [https://www.coursera.org/learn/applied-data-science-capstone/peer/I1bDq/segmenting-and-clustering-neighborhoods-in-toronto/submit](https://www.coursera.org/learn/applied-data-science-capstone/peer/I1bDq/segmenting-and-clustering-neighborhoods-in-toronto/submit)"
   ],
   "cell_type": "markdown",
   "metadata": {}
  },
  {
   "cell_type": "code",
   "execution_count": 11,
   "metadata": {},
   "outputs": [
    {
     "output_type": "execute_result",
     "data": {
      "text/plain": [
       "   PostalCode           Borough  \\\n",
       "0         M5G  Downtown Toronto   \n",
       "1         M2H        North York   \n",
       "2         M4B         East York   \n",
       "3         M1J       Scarborough   \n",
       "4         M4G         East York   \n",
       "5         M4M      East Toronto   \n",
       "6         M1R       Scarborough   \n",
       "7         M9V         Etobicoke   \n",
       "8         M9L        North York   \n",
       "9         M5V  Downtown Toronto   \n",
       "10        M1B       Scarborough   \n",
       "11        M5A  Downtown Toronto   \n",
       "\n",
       "                                         Neighborhood  \n",
       "0                                  Central Bay Street  \n",
       "1                                   Hillcrest Village  \n",
       "2                     Parkview Hill, Woodbine Gardens  \n",
       "3                                 Scarborough Village  \n",
       "4                                             Leaside  \n",
       "5                                     Studio District  \n",
       "6                                   Wexford, Maryvale  \n",
       "7   South Steeles, Silverstone, Humbergate, Jamest...  \n",
       "8                                       Humber Summit  \n",
       "9   CN Tower, King and Spadina, Railway Lands, Har...  \n",
       "10                                     Malvern, Rouge  \n",
       "11                          Regent Park, Harbourfront  "
      ],
      "text/html": "<div>\n<style scoped>\n    .dataframe tbody tr th:only-of-type {\n        vertical-align: middle;\n    }\n\n    .dataframe tbody tr th {\n        vertical-align: top;\n    }\n\n    .dataframe thead th {\n        text-align: right;\n    }\n</style>\n<table border=\"1\" class=\"dataframe\">\n  <thead>\n    <tr style=\"text-align: right;\">\n      <th></th>\n      <th>PostalCode</th>\n      <th>Borough</th>\n      <th>Neighborhood</th>\n    </tr>\n  </thead>\n  <tbody>\n    <tr>\n      <th>0</th>\n      <td>M5G</td>\n      <td>Downtown Toronto</td>\n      <td>Central Bay Street</td>\n    </tr>\n    <tr>\n      <th>1</th>\n      <td>M2H</td>\n      <td>North York</td>\n      <td>Hillcrest Village</td>\n    </tr>\n    <tr>\n      <th>2</th>\n      <td>M4B</td>\n      <td>East York</td>\n      <td>Parkview Hill, Woodbine Gardens</td>\n    </tr>\n    <tr>\n      <th>3</th>\n      <td>M1J</td>\n      <td>Scarborough</td>\n      <td>Scarborough Village</td>\n    </tr>\n    <tr>\n      <th>4</th>\n      <td>M4G</td>\n      <td>East York</td>\n      <td>Leaside</td>\n    </tr>\n    <tr>\n      <th>5</th>\n      <td>M4M</td>\n      <td>East Toronto</td>\n      <td>Studio District</td>\n    </tr>\n    <tr>\n      <th>6</th>\n      <td>M1R</td>\n      <td>Scarborough</td>\n      <td>Wexford, Maryvale</td>\n    </tr>\n    <tr>\n      <th>7</th>\n      <td>M9V</td>\n      <td>Etobicoke</td>\n      <td>South Steeles, Silverstone, Humbergate, Jamest...</td>\n    </tr>\n    <tr>\n      <th>8</th>\n      <td>M9L</td>\n      <td>North York</td>\n      <td>Humber Summit</td>\n    </tr>\n    <tr>\n      <th>9</th>\n      <td>M5V</td>\n      <td>Downtown Toronto</td>\n      <td>CN Tower, King and Spadina, Railway Lands, Har...</td>\n    </tr>\n    <tr>\n      <th>10</th>\n      <td>M1B</td>\n      <td>Scarborough</td>\n      <td>Malvern, Rouge</td>\n    </tr>\n    <tr>\n      <th>11</th>\n      <td>M5A</td>\n      <td>Downtown Toronto</td>\n      <td>Regent Park, Harbourfront</td>\n    </tr>\n  </tbody>\n</table>\n</div>"
     },
     "metadata": {},
     "execution_count": 11
    }
   ],
   "source": [
    "#filter out the exact same DF rows as shown in the assignment and put them in a new dataframe\n",
    "toronto_neighborhoods_xs = pd.DataFrame(columns=[\n",
    "    \"PostalCode\", \n",
    "    \"Borough\", \n",
    "    \"Neighborhood\"])\n",
    "postalcodes = ['M5G','M2H','M4B','M1J','M4G','M4M','M1R','M9V','M9L','M5V','M1B','M5A']\n",
    "for postalcode in postalcodes:\n",
    "    row = toronto_neighborhoods[toronto_neighborhoods['PostalCode']==postalcode]\n",
    "    toronto_neighborhoods_xs = toronto_neighborhoods_xs.append(row,ignore_index=True)\n",
    "toronto_neighborhoods_xs.head(12)"
   ]
  },
  {
   "source": [
    "## Part 2: Add latitude and longitude to the Toronto Neighborhoods DataFrame"
   ],
   "cell_type": "markdown",
   "metadata": {}
  },
  {
   "source": [
    "We will retrieve latitude and longitude for each postal code from the following csv file: [http://cocl.us/Geospatial_data](http://cocl.us/Geospatial_data)."
   ],
   "cell_type": "markdown",
   "metadata": {}
  },
  {
   "cell_type": "code",
   "execution_count": 12,
   "metadata": {},
   "outputs": [
    {
     "output_type": "stream",
     "name": "stdout",
     "text": [
      "  % Total    % Received % Xferd  Average Speed   Time    Time     Time  Current\n",
      "                                 Dload  Upload   Total   Spent    Left  Speed\n",
      "100   171  100   171    0     0    737      0 --:--:-- --:--:-- --:--:--   737\n",
      "100   524    0   524    0     0    423      0 --:--:--  0:00:01 --:--:--   729\n",
      "  0     0    0     0    0     0      0      0 --:--:--  0:00:01 --:--:--     0\n",
      "  0     0    0     0    0     0      0      0 --:--:--  0:00:01 --:--:--     0\n",
      "100     4    0     4    0     0      1      0 --:--:--  0:00:02 --:--:--   666\n",
      "100  2891  100  2891    0     0    938      0  0:00:03  0:00:03 --:--:--   938\n"
     ]
    }
   ],
   "source": [
    "# Download the csv with the geospatial data\n",
    "#use -L to follow redirects (https://www.unix.com/shell-programming-and-scripting/263133-how-get-content-webpage-curl-vs-wget.html)\n",
    "!curl -o Geospatial_data.csv -L http://cocl.us/Geospatial_data/Geospatial_Coordinates.csv "
   ]
  },
  {
   "cell_type": "code",
   "execution_count": 13,
   "metadata": {},
   "outputs": [
    {
     "output_type": "execute_result",
     "data": {
      "text/plain": [
       "  Postal Code   Latitude  Longitude\n",
       "0         M1B  43.806686 -79.194353\n",
       "1         M1C  43.784535 -79.160497\n",
       "2         M1E  43.763573 -79.188711\n",
       "3         M1G  43.770992 -79.216917\n",
       "4         M1H  43.773136 -79.239476"
      ],
      "text/html": "<div>\n<style scoped>\n    .dataframe tbody tr th:only-of-type {\n        vertical-align: middle;\n    }\n\n    .dataframe tbody tr th {\n        vertical-align: top;\n    }\n\n    .dataframe thead th {\n        text-align: right;\n    }\n</style>\n<table border=\"1\" class=\"dataframe\">\n  <thead>\n    <tr style=\"text-align: right;\">\n      <th></th>\n      <th>Postal Code</th>\n      <th>Latitude</th>\n      <th>Longitude</th>\n    </tr>\n  </thead>\n  <tbody>\n    <tr>\n      <th>0</th>\n      <td>M1B</td>\n      <td>43.806686</td>\n      <td>-79.194353</td>\n    </tr>\n    <tr>\n      <th>1</th>\n      <td>M1C</td>\n      <td>43.784535</td>\n      <td>-79.160497</td>\n    </tr>\n    <tr>\n      <th>2</th>\n      <td>M1E</td>\n      <td>43.763573</td>\n      <td>-79.188711</td>\n    </tr>\n    <tr>\n      <th>3</th>\n      <td>M1G</td>\n      <td>43.770992</td>\n      <td>-79.216917</td>\n    </tr>\n    <tr>\n      <th>4</th>\n      <td>M1H</td>\n      <td>43.773136</td>\n      <td>-79.239476</td>\n    </tr>\n  </tbody>\n</table>\n</div>"
     },
     "metadata": {},
     "execution_count": 13
    }
   ],
   "source": [
    "# Read the data into a dataframe\n",
    "geo_data = pd.read_csv(\"Geospatial_data.csv\",delimiter=\",\")\n",
    "geo_data.head()"
   ]
  },
  {
   "cell_type": "code",
   "execution_count": 14,
   "metadata": {},
   "outputs": [],
   "source": [
    "#we will perform an inner join, which requires that the columns onto which the join is performed have the same name.\n",
    "geo_data.rename(columns={'Postal Code':'PostalCode'},errors=\"raise\",inplace=True) #remember to specify inplace=True to change the DF"
   ]
  },
  {
   "cell_type": "code",
   "execution_count": 15,
   "metadata": {},
   "outputs": [
    {
     "output_type": "execute_result",
     "data": {
      "text/plain": [
       "   PostalCode           Borough  \\\n",
       "0         M5G  Downtown Toronto   \n",
       "1         M2H        North York   \n",
       "2         M4B         East York   \n",
       "3         M1J       Scarborough   \n",
       "4         M4G         East York   \n",
       "5         M4M      East Toronto   \n",
       "6         M1R       Scarborough   \n",
       "7         M9V         Etobicoke   \n",
       "8         M9L        North York   \n",
       "9         M5V  Downtown Toronto   \n",
       "10        M1B       Scarborough   \n",
       "11        M5A  Downtown Toronto   \n",
       "\n",
       "                                         Neighborhood   Latitude  Longitude  \n",
       "0                                  Central Bay Street  43.657952 -79.387383  \n",
       "1                                   Hillcrest Village  43.803762 -79.363452  \n",
       "2                     Parkview Hill, Woodbine Gardens  43.706397 -79.309937  \n",
       "3                                 Scarborough Village  43.744734 -79.239476  \n",
       "4                                             Leaside  43.709060 -79.363452  \n",
       "5                                     Studio District  43.659526 -79.340923  \n",
       "6                                   Wexford, Maryvale  43.750072 -79.295849  \n",
       "7   South Steeles, Silverstone, Humbergate, Jamest...  43.739416 -79.588437  \n",
       "8                                       Humber Summit  43.756303 -79.565963  \n",
       "9   CN Tower, King and Spadina, Railway Lands, Har...  43.628947 -79.394420  \n",
       "10                                     Malvern, Rouge  43.806686 -79.194353  \n",
       "11                          Regent Park, Harbourfront  43.654260 -79.360636  "
      ],
      "text/html": "<div>\n<style scoped>\n    .dataframe tbody tr th:only-of-type {\n        vertical-align: middle;\n    }\n\n    .dataframe tbody tr th {\n        vertical-align: top;\n    }\n\n    .dataframe thead th {\n        text-align: right;\n    }\n</style>\n<table border=\"1\" class=\"dataframe\">\n  <thead>\n    <tr style=\"text-align: right;\">\n      <th></th>\n      <th>PostalCode</th>\n      <th>Borough</th>\n      <th>Neighborhood</th>\n      <th>Latitude</th>\n      <th>Longitude</th>\n    </tr>\n  </thead>\n  <tbody>\n    <tr>\n      <th>0</th>\n      <td>M5G</td>\n      <td>Downtown Toronto</td>\n      <td>Central Bay Street</td>\n      <td>43.657952</td>\n      <td>-79.387383</td>\n    </tr>\n    <tr>\n      <th>1</th>\n      <td>M2H</td>\n      <td>North York</td>\n      <td>Hillcrest Village</td>\n      <td>43.803762</td>\n      <td>-79.363452</td>\n    </tr>\n    <tr>\n      <th>2</th>\n      <td>M4B</td>\n      <td>East York</td>\n      <td>Parkview Hill, Woodbine Gardens</td>\n      <td>43.706397</td>\n      <td>-79.309937</td>\n    </tr>\n    <tr>\n      <th>3</th>\n      <td>M1J</td>\n      <td>Scarborough</td>\n      <td>Scarborough Village</td>\n      <td>43.744734</td>\n      <td>-79.239476</td>\n    </tr>\n    <tr>\n      <th>4</th>\n      <td>M4G</td>\n      <td>East York</td>\n      <td>Leaside</td>\n      <td>43.709060</td>\n      <td>-79.363452</td>\n    </tr>\n    <tr>\n      <th>5</th>\n      <td>M4M</td>\n      <td>East Toronto</td>\n      <td>Studio District</td>\n      <td>43.659526</td>\n      <td>-79.340923</td>\n    </tr>\n    <tr>\n      <th>6</th>\n      <td>M1R</td>\n      <td>Scarborough</td>\n      <td>Wexford, Maryvale</td>\n      <td>43.750072</td>\n      <td>-79.295849</td>\n    </tr>\n    <tr>\n      <th>7</th>\n      <td>M9V</td>\n      <td>Etobicoke</td>\n      <td>South Steeles, Silverstone, Humbergate, Jamest...</td>\n      <td>43.739416</td>\n      <td>-79.588437</td>\n    </tr>\n    <tr>\n      <th>8</th>\n      <td>M9L</td>\n      <td>North York</td>\n      <td>Humber Summit</td>\n      <td>43.756303</td>\n      <td>-79.565963</td>\n    </tr>\n    <tr>\n      <th>9</th>\n      <td>M5V</td>\n      <td>Downtown Toronto</td>\n      <td>CN Tower, King and Spadina, Railway Lands, Har...</td>\n      <td>43.628947</td>\n      <td>-79.394420</td>\n    </tr>\n    <tr>\n      <th>10</th>\n      <td>M1B</td>\n      <td>Scarborough</td>\n      <td>Malvern, Rouge</td>\n      <td>43.806686</td>\n      <td>-79.194353</td>\n    </tr>\n    <tr>\n      <th>11</th>\n      <td>M5A</td>\n      <td>Downtown Toronto</td>\n      <td>Regent Park, Harbourfront</td>\n      <td>43.654260</td>\n      <td>-79.360636</td>\n    </tr>\n  </tbody>\n</table>\n</div>"
     },
     "metadata": {},
     "execution_count": 15
    }
   ],
   "source": [
    "#perform the merge\n",
    "toronto_neighborhoods_xs=toronto_neighborhoods_xs.merge(geo_data,how=\"inner\",on=\"PostalCode\")\n",
    "toronto_neighborhoods_xs.head(12)"
   ]
  },
  {
   "source": [
    "The above dataframe corresponds to the [same downselected postal codes][1] ones shown in the assignment."
   ],
   "cell_type": "markdown",
   "metadata": {}
  },
  {
   "source": [
    "## Part 3: Exploring and segmenting neighborhoods in Toronto\n",
    "In this part we will explore and segment the [downselected postal areas of Toronto][1]. Segmentation will be based on the top venues for each postal code area based on the listing in FourSquare.\n",
    "Steps:\n",
    "- Look at the geographical distribution of the postal code areas on the map of the metropolitan area of Toronto\n",
    "- Set up request call for FourSquare API and test it for one single postal code\n",
    "- Retrieve top 100 venues for each postal code area and determine 10 most frequent venue categories\n",
    "- Segment postal code area based on venue categories using Kmeans clustering\n"
   ],
   "cell_type": "markdown",
   "metadata": {}
  },
  {
   "cell_type": "code",
   "execution_count": 16,
   "metadata": {},
   "outputs": [],
   "source": [
    "#Libraries\n",
    "import numpy as np # library to handle data in a vectorized manner\n",
    "\n",
    "import pandas as pd # library for data analsysis\n",
    "pd.set_option('display.max_columns', None)\n",
    "pd.set_option('display.max_rows', None)\n",
    "\n",
    "import json # library to handle JSON files\n",
    "\n",
    "from geopy.geocoders import Nominatim # convert an address into latitude and longitude values\n",
    "\n",
    "import requests # library to handle requests\n",
    "from pandas.io.json import json_normalize # tranform JSON file into a pandas dataframe\n",
    "\n",
    "# Matplotlib and associated plotting modules\n",
    "import matplotlib.cm as cm\n",
    "import matplotlib.colors as colors\n",
    "\n",
    "# import k-means from clustering stage\n",
    "from sklearn.cluster import KMeans\n",
    "\n",
    "import folium # map rendering library"
   ]
  },
  {
   "source": [
    "### Geographical distribution of downselected postal code areas"
   ],
   "cell_type": "markdown",
   "metadata": {}
  },
  {
   "cell_type": "code",
   "execution_count": 17,
   "metadata": {},
   "outputs": [
    {
     "output_type": "stream",
     "name": "stdout",
     "text": [
      "The geograpical coordinate of Manhattan are 43.6534817, -79.3839347.\n"
     ]
    }
   ],
   "source": [
    "# geographical coordinates of Toronto\n",
    "address = 'Toronto, ON, Canada'\n",
    "\n",
    "geolocator = Nominatim(user_agent=\"to_explorer\")\n",
    "location = geolocator.geocode(address)\n",
    "latitude = location.latitude\n",
    "longitude = location.longitude\n",
    "print('The geograpical coordinate of Manhattan are {}, {}.'.format(latitude, longitude))"
   ]
  },
  {
   "cell_type": "code",
   "execution_count": 36,
   "metadata": {},
   "outputs": [
    {
     "output_type": "execute_result",
     "data": {
      "text/plain": [
       "<folium.folium.Map at 0x7fcf1a47a970>"
      ],
      "text/html": "<div style=\"width:100%;\"><div style=\"position:relative;width:100%;height:0;padding-bottom:60%;\"><span style=\"color:#565656\">Make this Notebook Trusted to load map: File -> Trust Notebook</span><iframe src=\"about:blank\" style=\"position:absolute;width:100%;height:100%;left:0;top:0;border:none !important;\" data-html=%3C%21DOCTYPE%20html%3E%0A%3Chead%3E%20%20%20%20%0A%20%20%20%20%3Cmeta%20http-equiv%3D%22content-type%22%20content%3D%22text/html%3B%20charset%3DUTF-8%22%20/%3E%0A%20%20%20%20%0A%20%20%20%20%20%20%20%20%3Cscript%3E%0A%20%20%20%20%20%20%20%20%20%20%20%20L_NO_TOUCH%20%3D%20false%3B%0A%20%20%20%20%20%20%20%20%20%20%20%20L_DISABLE_3D%20%3D%20false%3B%0A%20%20%20%20%20%20%20%20%3C/script%3E%0A%20%20%20%20%0A%20%20%20%20%3Cstyle%3Ehtml%2C%20body%20%7Bwidth%3A%20100%25%3Bheight%3A%20100%25%3Bmargin%3A%200%3Bpadding%3A%200%3B%7D%3C/style%3E%0A%20%20%20%20%3Cstyle%3E%23map%20%7Bposition%3Aabsolute%3Btop%3A0%3Bbottom%3A0%3Bright%3A0%3Bleft%3A0%3B%7D%3C/style%3E%0A%20%20%20%20%3Cscript%20src%3D%22https%3A//cdn.jsdelivr.net/npm/leaflet%401.6.0/dist/leaflet.js%22%3E%3C/script%3E%0A%20%20%20%20%3Cscript%20src%3D%22https%3A//code.jquery.com/jquery-1.12.4.min.js%22%3E%3C/script%3E%0A%20%20%20%20%3Cscript%20src%3D%22https%3A//maxcdn.bootstrapcdn.com/bootstrap/3.2.0/js/bootstrap.min.js%22%3E%3C/script%3E%0A%20%20%20%20%3Cscript%20src%3D%22https%3A//cdnjs.cloudflare.com/ajax/libs/Leaflet.awesome-markers/2.0.2/leaflet.awesome-markers.js%22%3E%3C/script%3E%0A%20%20%20%20%3Clink%20rel%3D%22stylesheet%22%20href%3D%22https%3A//cdn.jsdelivr.net/npm/leaflet%401.6.0/dist/leaflet.css%22/%3E%0A%20%20%20%20%3Clink%20rel%3D%22stylesheet%22%20href%3D%22https%3A//maxcdn.bootstrapcdn.com/bootstrap/3.2.0/css/bootstrap.min.css%22/%3E%0A%20%20%20%20%3Clink%20rel%3D%22stylesheet%22%20href%3D%22https%3A//maxcdn.bootstrapcdn.com/bootstrap/3.2.0/css/bootstrap-theme.min.css%22/%3E%0A%20%20%20%20%3Clink%20rel%3D%22stylesheet%22%20href%3D%22https%3A//maxcdn.bootstrapcdn.com/font-awesome/4.6.3/css/font-awesome.min.css%22/%3E%0A%20%20%20%20%3Clink%20rel%3D%22stylesheet%22%20href%3D%22https%3A//cdnjs.cloudflare.com/ajax/libs/Leaflet.awesome-markers/2.0.2/leaflet.awesome-markers.css%22/%3E%0A%20%20%20%20%3Clink%20rel%3D%22stylesheet%22%20href%3D%22https%3A//cdn.jsdelivr.net/gh/python-visualization/folium/folium/templates/leaflet.awesome.rotate.min.css%22/%3E%0A%20%20%20%20%0A%20%20%20%20%20%20%20%20%20%20%20%20%3Cmeta%20name%3D%22viewport%22%20content%3D%22width%3Ddevice-width%2C%0A%20%20%20%20%20%20%20%20%20%20%20%20%20%20%20%20initial-scale%3D1.0%2C%20maximum-scale%3D1.0%2C%20user-scalable%3Dno%22%20/%3E%0A%20%20%20%20%20%20%20%20%20%20%20%20%3Cstyle%3E%0A%20%20%20%20%20%20%20%20%20%20%20%20%20%20%20%20%23map_4cbcbab3618f4513a342521f5148a72b%20%7B%0A%20%20%20%20%20%20%20%20%20%20%20%20%20%20%20%20%20%20%20%20position%3A%20relative%3B%0A%20%20%20%20%20%20%20%20%20%20%20%20%20%20%20%20%20%20%20%20width%3A%20100.0%25%3B%0A%20%20%20%20%20%20%20%20%20%20%20%20%20%20%20%20%20%20%20%20height%3A%20100.0%25%3B%0A%20%20%20%20%20%20%20%20%20%20%20%20%20%20%20%20%20%20%20%20left%3A%200.0%25%3B%0A%20%20%20%20%20%20%20%20%20%20%20%20%20%20%20%20%20%20%20%20top%3A%200.0%25%3B%0A%20%20%20%20%20%20%20%20%20%20%20%20%20%20%20%20%7D%0A%20%20%20%20%20%20%20%20%20%20%20%20%3C/style%3E%0A%20%20%20%20%20%20%20%20%0A%3C/head%3E%0A%3Cbody%3E%20%20%20%20%0A%20%20%20%20%0A%20%20%20%20%20%20%20%20%20%20%20%20%3Cdiv%20class%3D%22folium-map%22%20id%3D%22map_4cbcbab3618f4513a342521f5148a72b%22%20%3E%3C/div%3E%0A%20%20%20%20%20%20%20%20%0A%3C/body%3E%0A%3Cscript%3E%20%20%20%20%0A%20%20%20%20%0A%20%20%20%20%20%20%20%20%20%20%20%20var%20map_4cbcbab3618f4513a342521f5148a72b%20%3D%20L.map%28%0A%20%20%20%20%20%20%20%20%20%20%20%20%20%20%20%20%22map_4cbcbab3618f4513a342521f5148a72b%22%2C%0A%20%20%20%20%20%20%20%20%20%20%20%20%20%20%20%20%7B%0A%20%20%20%20%20%20%20%20%20%20%20%20%20%20%20%20%20%20%20%20center%3A%20%5B43.6534817%2C%20-79.3839347%5D%2C%0A%20%20%20%20%20%20%20%20%20%20%20%20%20%20%20%20%20%20%20%20crs%3A%20L.CRS.EPSG3857%2C%0A%20%20%20%20%20%20%20%20%20%20%20%20%20%20%20%20%20%20%20%20zoom%3A%2010%2C%0A%20%20%20%20%20%20%20%20%20%20%20%20%20%20%20%20%20%20%20%20zoomControl%3A%20true%2C%0A%20%20%20%20%20%20%20%20%20%20%20%20%20%20%20%20%20%20%20%20preferCanvas%3A%20false%2C%0A%20%20%20%20%20%20%20%20%20%20%20%20%20%20%20%20%7D%0A%20%20%20%20%20%20%20%20%20%20%20%20%29%3B%0A%0A%20%20%20%20%20%20%20%20%20%20%20%20%0A%0A%20%20%20%20%20%20%20%20%0A%20%20%20%20%0A%20%20%20%20%20%20%20%20%20%20%20%20var%20tile_layer_24fd14a790044649bd837212e23c718a%20%3D%20L.tileLayer%28%0A%20%20%20%20%20%20%20%20%20%20%20%20%20%20%20%20%22https%3A//%7Bs%7D.tile.openstreetmap.org/%7Bz%7D/%7Bx%7D/%7By%7D.png%22%2C%0A%20%20%20%20%20%20%20%20%20%20%20%20%20%20%20%20%7B%22attribution%22%3A%20%22Data%20by%20%5Cu0026copy%3B%20%5Cu003ca%20href%3D%5C%22http%3A//openstreetmap.org%5C%22%5Cu003eOpenStreetMap%5Cu003c/a%5Cu003e%2C%20under%20%5Cu003ca%20href%3D%5C%22http%3A//www.openstreetmap.org/copyright%5C%22%5Cu003eODbL%5Cu003c/a%5Cu003e.%22%2C%20%22detectRetina%22%3A%20false%2C%20%22maxNativeZoom%22%3A%2018%2C%20%22maxZoom%22%3A%2018%2C%20%22minZoom%22%3A%200%2C%20%22noWrap%22%3A%20false%2C%20%22opacity%22%3A%201%2C%20%22subdomains%22%3A%20%22abc%22%2C%20%22tms%22%3A%20false%7D%0A%20%20%20%20%20%20%20%20%20%20%20%20%29.addTo%28map_4cbcbab3618f4513a342521f5148a72b%29%3B%0A%20%20%20%20%20%20%20%20%0A%20%20%20%20%0A%20%20%20%20%20%20%20%20%20%20%20%20var%20circle_marker_edb5a15da52748c2a76a5b468be1be8e%20%3D%20L.circleMarker%28%0A%20%20%20%20%20%20%20%20%20%20%20%20%20%20%20%20%5B43.6579524%2C%20-79.3873826%5D%2C%0A%20%20%20%20%20%20%20%20%20%20%20%20%20%20%20%20%7B%22bubblingMouseEvents%22%3A%20true%2C%20%22color%22%3A%20%22blue%22%2C%20%22dashArray%22%3A%20null%2C%20%22dashOffset%22%3A%20null%2C%20%22fill%22%3A%20true%2C%20%22fillColor%22%3A%20%22%233186cc%22%2C%20%22fillOpacity%22%3A%200.7%2C%20%22fillRule%22%3A%20%22evenodd%22%2C%20%22lineCap%22%3A%20%22round%22%2C%20%22lineJoin%22%3A%20%22round%22%2C%20%22opacity%22%3A%201.0%2C%20%22radius%22%3A%205%2C%20%22stroke%22%3A%20true%2C%20%22weight%22%3A%203%7D%0A%20%20%20%20%20%20%20%20%20%20%20%20%29.addTo%28map_4cbcbab3618f4513a342521f5148a72b%29%3B%0A%20%20%20%20%20%20%20%20%0A%20%20%20%20%0A%20%20%20%20%20%20%20%20var%20popup_fcdcf2bfa35a465da0345a30698870dd%20%3D%20L.popup%28%7B%22maxWidth%22%3A%20%22100%25%22%7D%29%3B%0A%0A%20%20%20%20%20%20%20%20%0A%20%20%20%20%20%20%20%20%20%20%20%20var%20html_50c2bbda27de4630bb7dcf2611b8c14a%20%3D%20%24%28%60%3Cdiv%20id%3D%22html_50c2bbda27de4630bb7dcf2611b8c14a%22%20style%3D%22width%3A%20100.0%25%3B%20height%3A%20100.0%25%3B%22%3ECentral%20Bay%20Street%2C%20Downtown%20Toronto%3C/div%3E%60%29%5B0%5D%3B%0A%20%20%20%20%20%20%20%20%20%20%20%20popup_fcdcf2bfa35a465da0345a30698870dd.setContent%28html_50c2bbda27de4630bb7dcf2611b8c14a%29%3B%0A%20%20%20%20%20%20%20%20%0A%0A%20%20%20%20%20%20%20%20circle_marker_edb5a15da52748c2a76a5b468be1be8e.bindPopup%28popup_fcdcf2bfa35a465da0345a30698870dd%29%0A%20%20%20%20%20%20%20%20%3B%0A%0A%20%20%20%20%20%20%20%20%0A%20%20%20%20%0A%20%20%20%20%0A%20%20%20%20%20%20%20%20%20%20%20%20var%20circle_marker_b35a64074b6c469fba66a8218c51b1ab%20%3D%20L.circleMarker%28%0A%20%20%20%20%20%20%20%20%20%20%20%20%20%20%20%20%5B43.8037622%2C%20-79.3634517%5D%2C%0A%20%20%20%20%20%20%20%20%20%20%20%20%20%20%20%20%7B%22bubblingMouseEvents%22%3A%20true%2C%20%22color%22%3A%20%22blue%22%2C%20%22dashArray%22%3A%20null%2C%20%22dashOffset%22%3A%20null%2C%20%22fill%22%3A%20true%2C%20%22fillColor%22%3A%20%22%233186cc%22%2C%20%22fillOpacity%22%3A%200.7%2C%20%22fillRule%22%3A%20%22evenodd%22%2C%20%22lineCap%22%3A%20%22round%22%2C%20%22lineJoin%22%3A%20%22round%22%2C%20%22opacity%22%3A%201.0%2C%20%22radius%22%3A%205%2C%20%22stroke%22%3A%20true%2C%20%22weight%22%3A%203%7D%0A%20%20%20%20%20%20%20%20%20%20%20%20%29.addTo%28map_4cbcbab3618f4513a342521f5148a72b%29%3B%0A%20%20%20%20%20%20%20%20%0A%20%20%20%20%0A%20%20%20%20%20%20%20%20var%20popup_d1566874cb4849ca8b3961582ef00681%20%3D%20L.popup%28%7B%22maxWidth%22%3A%20%22100%25%22%7D%29%3B%0A%0A%20%20%20%20%20%20%20%20%0A%20%20%20%20%20%20%20%20%20%20%20%20var%20html_85cbb972bd5b4d51a888167a423d9e42%20%3D%20%24%28%60%3Cdiv%20id%3D%22html_85cbb972bd5b4d51a888167a423d9e42%22%20style%3D%22width%3A%20100.0%25%3B%20height%3A%20100.0%25%3B%22%3EHillcrest%20Village%2C%20North%20York%3C/div%3E%60%29%5B0%5D%3B%0A%20%20%20%20%20%20%20%20%20%20%20%20popup_d1566874cb4849ca8b3961582ef00681.setContent%28html_85cbb972bd5b4d51a888167a423d9e42%29%3B%0A%20%20%20%20%20%20%20%20%0A%0A%20%20%20%20%20%20%20%20circle_marker_b35a64074b6c469fba66a8218c51b1ab.bindPopup%28popup_d1566874cb4849ca8b3961582ef00681%29%0A%20%20%20%20%20%20%20%20%3B%0A%0A%20%20%20%20%20%20%20%20%0A%20%20%20%20%0A%20%20%20%20%0A%20%20%20%20%20%20%20%20%20%20%20%20var%20circle_marker_3d9cfbccb9364714bb40e78138c36078%20%3D%20L.circleMarker%28%0A%20%20%20%20%20%20%20%20%20%20%20%20%20%20%20%20%5B43.7063972%2C%20-79.309937%5D%2C%0A%20%20%20%20%20%20%20%20%20%20%20%20%20%20%20%20%7B%22bubblingMouseEvents%22%3A%20true%2C%20%22color%22%3A%20%22blue%22%2C%20%22dashArray%22%3A%20null%2C%20%22dashOffset%22%3A%20null%2C%20%22fill%22%3A%20true%2C%20%22fillColor%22%3A%20%22%233186cc%22%2C%20%22fillOpacity%22%3A%200.7%2C%20%22fillRule%22%3A%20%22evenodd%22%2C%20%22lineCap%22%3A%20%22round%22%2C%20%22lineJoin%22%3A%20%22round%22%2C%20%22opacity%22%3A%201.0%2C%20%22radius%22%3A%205%2C%20%22stroke%22%3A%20true%2C%20%22weight%22%3A%203%7D%0A%20%20%20%20%20%20%20%20%20%20%20%20%29.addTo%28map_4cbcbab3618f4513a342521f5148a72b%29%3B%0A%20%20%20%20%20%20%20%20%0A%20%20%20%20%0A%20%20%20%20%20%20%20%20var%20popup_426e686989c44fbe815fc70309ef9067%20%3D%20L.popup%28%7B%22maxWidth%22%3A%20%22100%25%22%7D%29%3B%0A%0A%20%20%20%20%20%20%20%20%0A%20%20%20%20%20%20%20%20%20%20%20%20var%20html_3e1a435eb41b4a98a62e47821736159a%20%3D%20%24%28%60%3Cdiv%20id%3D%22html_3e1a435eb41b4a98a62e47821736159a%22%20style%3D%22width%3A%20100.0%25%3B%20height%3A%20100.0%25%3B%22%3EParkview%20Hill%2C%20Woodbine%20Gardens%2C%20East%20York%3C/div%3E%60%29%5B0%5D%3B%0A%20%20%20%20%20%20%20%20%20%20%20%20popup_426e686989c44fbe815fc70309ef9067.setContent%28html_3e1a435eb41b4a98a62e47821736159a%29%3B%0A%20%20%20%20%20%20%20%20%0A%0A%20%20%20%20%20%20%20%20circle_marker_3d9cfbccb9364714bb40e78138c36078.bindPopup%28popup_426e686989c44fbe815fc70309ef9067%29%0A%20%20%20%20%20%20%20%20%3B%0A%0A%20%20%20%20%20%20%20%20%0A%20%20%20%20%0A%20%20%20%20%0A%20%20%20%20%20%20%20%20%20%20%20%20var%20circle_marker_d809b3054ee2494a8a3e0dd0b7686a9d%20%3D%20L.circleMarker%28%0A%20%20%20%20%20%20%20%20%20%20%20%20%20%20%20%20%5B43.7447342%2C%20-79.23947609999999%5D%2C%0A%20%20%20%20%20%20%20%20%20%20%20%20%20%20%20%20%7B%22bubblingMouseEvents%22%3A%20true%2C%20%22color%22%3A%20%22blue%22%2C%20%22dashArray%22%3A%20null%2C%20%22dashOffset%22%3A%20null%2C%20%22fill%22%3A%20true%2C%20%22fillColor%22%3A%20%22%233186cc%22%2C%20%22fillOpacity%22%3A%200.7%2C%20%22fillRule%22%3A%20%22evenodd%22%2C%20%22lineCap%22%3A%20%22round%22%2C%20%22lineJoin%22%3A%20%22round%22%2C%20%22opacity%22%3A%201.0%2C%20%22radius%22%3A%205%2C%20%22stroke%22%3A%20true%2C%20%22weight%22%3A%203%7D%0A%20%20%20%20%20%20%20%20%20%20%20%20%29.addTo%28map_4cbcbab3618f4513a342521f5148a72b%29%3B%0A%20%20%20%20%20%20%20%20%0A%20%20%20%20%0A%20%20%20%20%20%20%20%20var%20popup_85bc6d73418841499a70c572e4e0fbc8%20%3D%20L.popup%28%7B%22maxWidth%22%3A%20%22100%25%22%7D%29%3B%0A%0A%20%20%20%20%20%20%20%20%0A%20%20%20%20%20%20%20%20%20%20%20%20var%20html_4cf37ad2a2c348c78bc7efc3a0edebd1%20%3D%20%24%28%60%3Cdiv%20id%3D%22html_4cf37ad2a2c348c78bc7efc3a0edebd1%22%20style%3D%22width%3A%20100.0%25%3B%20height%3A%20100.0%25%3B%22%3EScarborough%20Village%2C%20Scarborough%3C/div%3E%60%29%5B0%5D%3B%0A%20%20%20%20%20%20%20%20%20%20%20%20popup_85bc6d73418841499a70c572e4e0fbc8.setContent%28html_4cf37ad2a2c348c78bc7efc3a0edebd1%29%3B%0A%20%20%20%20%20%20%20%20%0A%0A%20%20%20%20%20%20%20%20circle_marker_d809b3054ee2494a8a3e0dd0b7686a9d.bindPopup%28popup_85bc6d73418841499a70c572e4e0fbc8%29%0A%20%20%20%20%20%20%20%20%3B%0A%0A%20%20%20%20%20%20%20%20%0A%20%20%20%20%0A%20%20%20%20%0A%20%20%20%20%20%20%20%20%20%20%20%20var%20circle_marker_493555890a7f477f8748a7a08d5cfe45%20%3D%20L.circleMarker%28%0A%20%20%20%20%20%20%20%20%20%20%20%20%20%20%20%20%5B43.7090604%2C%20-79.3634517%5D%2C%0A%20%20%20%20%20%20%20%20%20%20%20%20%20%20%20%20%7B%22bubblingMouseEvents%22%3A%20true%2C%20%22color%22%3A%20%22blue%22%2C%20%22dashArray%22%3A%20null%2C%20%22dashOffset%22%3A%20null%2C%20%22fill%22%3A%20true%2C%20%22fillColor%22%3A%20%22%233186cc%22%2C%20%22fillOpacity%22%3A%200.7%2C%20%22fillRule%22%3A%20%22evenodd%22%2C%20%22lineCap%22%3A%20%22round%22%2C%20%22lineJoin%22%3A%20%22round%22%2C%20%22opacity%22%3A%201.0%2C%20%22radius%22%3A%205%2C%20%22stroke%22%3A%20true%2C%20%22weight%22%3A%203%7D%0A%20%20%20%20%20%20%20%20%20%20%20%20%29.addTo%28map_4cbcbab3618f4513a342521f5148a72b%29%3B%0A%20%20%20%20%20%20%20%20%0A%20%20%20%20%0A%20%20%20%20%20%20%20%20var%20popup_5f741950a2614585938dd4bb856684a0%20%3D%20L.popup%28%7B%22maxWidth%22%3A%20%22100%25%22%7D%29%3B%0A%0A%20%20%20%20%20%20%20%20%0A%20%20%20%20%20%20%20%20%20%20%20%20var%20html_9e24348ce12e4b81ae9dee1a4ae440a7%20%3D%20%24%28%60%3Cdiv%20id%3D%22html_9e24348ce12e4b81ae9dee1a4ae440a7%22%20style%3D%22width%3A%20100.0%25%3B%20height%3A%20100.0%25%3B%22%3ELeaside%2C%20East%20York%3C/div%3E%60%29%5B0%5D%3B%0A%20%20%20%20%20%20%20%20%20%20%20%20popup_5f741950a2614585938dd4bb856684a0.setContent%28html_9e24348ce12e4b81ae9dee1a4ae440a7%29%3B%0A%20%20%20%20%20%20%20%20%0A%0A%20%20%20%20%20%20%20%20circle_marker_493555890a7f477f8748a7a08d5cfe45.bindPopup%28popup_5f741950a2614585938dd4bb856684a0%29%0A%20%20%20%20%20%20%20%20%3B%0A%0A%20%20%20%20%20%20%20%20%0A%20%20%20%20%0A%20%20%20%20%0A%20%20%20%20%20%20%20%20%20%20%20%20var%20circle_marker_68840f19818d4a48944ec0cba9c8daa8%20%3D%20L.circleMarker%28%0A%20%20%20%20%20%20%20%20%20%20%20%20%20%20%20%20%5B43.6595255%2C%20-79.340923%5D%2C%0A%20%20%20%20%20%20%20%20%20%20%20%20%20%20%20%20%7B%22bubblingMouseEvents%22%3A%20true%2C%20%22color%22%3A%20%22blue%22%2C%20%22dashArray%22%3A%20null%2C%20%22dashOffset%22%3A%20null%2C%20%22fill%22%3A%20true%2C%20%22fillColor%22%3A%20%22%233186cc%22%2C%20%22fillOpacity%22%3A%200.7%2C%20%22fillRule%22%3A%20%22evenodd%22%2C%20%22lineCap%22%3A%20%22round%22%2C%20%22lineJoin%22%3A%20%22round%22%2C%20%22opacity%22%3A%201.0%2C%20%22radius%22%3A%205%2C%20%22stroke%22%3A%20true%2C%20%22weight%22%3A%203%7D%0A%20%20%20%20%20%20%20%20%20%20%20%20%29.addTo%28map_4cbcbab3618f4513a342521f5148a72b%29%3B%0A%20%20%20%20%20%20%20%20%0A%20%20%20%20%0A%20%20%20%20%20%20%20%20var%20popup_ba228c41ab90453a8bbcb848323f74a5%20%3D%20L.popup%28%7B%22maxWidth%22%3A%20%22100%25%22%7D%29%3B%0A%0A%20%20%20%20%20%20%20%20%0A%20%20%20%20%20%20%20%20%20%20%20%20var%20html_f5cc83a3e6bf4b88974bceb24e11093c%20%3D%20%24%28%60%3Cdiv%20id%3D%22html_f5cc83a3e6bf4b88974bceb24e11093c%22%20style%3D%22width%3A%20100.0%25%3B%20height%3A%20100.0%25%3B%22%3EStudio%20District%2C%20East%20Toronto%3C/div%3E%60%29%5B0%5D%3B%0A%20%20%20%20%20%20%20%20%20%20%20%20popup_ba228c41ab90453a8bbcb848323f74a5.setContent%28html_f5cc83a3e6bf4b88974bceb24e11093c%29%3B%0A%20%20%20%20%20%20%20%20%0A%0A%20%20%20%20%20%20%20%20circle_marker_68840f19818d4a48944ec0cba9c8daa8.bindPopup%28popup_ba228c41ab90453a8bbcb848323f74a5%29%0A%20%20%20%20%20%20%20%20%3B%0A%0A%20%20%20%20%20%20%20%20%0A%20%20%20%20%0A%20%20%20%20%0A%20%20%20%20%20%20%20%20%20%20%20%20var%20circle_marker_9c313d6d6cac427ba3c336904801c44f%20%3D%20L.circleMarker%28%0A%20%20%20%20%20%20%20%20%20%20%20%20%20%20%20%20%5B43.750071500000004%2C%20-79.2958491%5D%2C%0A%20%20%20%20%20%20%20%20%20%20%20%20%20%20%20%20%7B%22bubblingMouseEvents%22%3A%20true%2C%20%22color%22%3A%20%22blue%22%2C%20%22dashArray%22%3A%20null%2C%20%22dashOffset%22%3A%20null%2C%20%22fill%22%3A%20true%2C%20%22fillColor%22%3A%20%22%233186cc%22%2C%20%22fillOpacity%22%3A%200.7%2C%20%22fillRule%22%3A%20%22evenodd%22%2C%20%22lineCap%22%3A%20%22round%22%2C%20%22lineJoin%22%3A%20%22round%22%2C%20%22opacity%22%3A%201.0%2C%20%22radius%22%3A%205%2C%20%22stroke%22%3A%20true%2C%20%22weight%22%3A%203%7D%0A%20%20%20%20%20%20%20%20%20%20%20%20%29.addTo%28map_4cbcbab3618f4513a342521f5148a72b%29%3B%0A%20%20%20%20%20%20%20%20%0A%20%20%20%20%0A%20%20%20%20%20%20%20%20var%20popup_bc91b7dae16449d1aaaf1f63417f5ccc%20%3D%20L.popup%28%7B%22maxWidth%22%3A%20%22100%25%22%7D%29%3B%0A%0A%20%20%20%20%20%20%20%20%0A%20%20%20%20%20%20%20%20%20%20%20%20var%20html_96a56997a16544e0b5da708134a6e847%20%3D%20%24%28%60%3Cdiv%20id%3D%22html_96a56997a16544e0b5da708134a6e847%22%20style%3D%22width%3A%20100.0%25%3B%20height%3A%20100.0%25%3B%22%3EWexford%2C%20Maryvale%2C%20Scarborough%3C/div%3E%60%29%5B0%5D%3B%0A%20%20%20%20%20%20%20%20%20%20%20%20popup_bc91b7dae16449d1aaaf1f63417f5ccc.setContent%28html_96a56997a16544e0b5da708134a6e847%29%3B%0A%20%20%20%20%20%20%20%20%0A%0A%20%20%20%20%20%20%20%20circle_marker_9c313d6d6cac427ba3c336904801c44f.bindPopup%28popup_bc91b7dae16449d1aaaf1f63417f5ccc%29%0A%20%20%20%20%20%20%20%20%3B%0A%0A%20%20%20%20%20%20%20%20%0A%20%20%20%20%0A%20%20%20%20%0A%20%20%20%20%20%20%20%20%20%20%20%20var%20circle_marker_3dadec9c55fd4e52821e43361af8121a%20%3D%20L.circleMarker%28%0A%20%20%20%20%20%20%20%20%20%20%20%20%20%20%20%20%5B43.739416399999996%2C%20-79.5884369%5D%2C%0A%20%20%20%20%20%20%20%20%20%20%20%20%20%20%20%20%7B%22bubblingMouseEvents%22%3A%20true%2C%20%22color%22%3A%20%22blue%22%2C%20%22dashArray%22%3A%20null%2C%20%22dashOffset%22%3A%20null%2C%20%22fill%22%3A%20true%2C%20%22fillColor%22%3A%20%22%233186cc%22%2C%20%22fillOpacity%22%3A%200.7%2C%20%22fillRule%22%3A%20%22evenodd%22%2C%20%22lineCap%22%3A%20%22round%22%2C%20%22lineJoin%22%3A%20%22round%22%2C%20%22opacity%22%3A%201.0%2C%20%22radius%22%3A%205%2C%20%22stroke%22%3A%20true%2C%20%22weight%22%3A%203%7D%0A%20%20%20%20%20%20%20%20%20%20%20%20%29.addTo%28map_4cbcbab3618f4513a342521f5148a72b%29%3B%0A%20%20%20%20%20%20%20%20%0A%20%20%20%20%0A%20%20%20%20%20%20%20%20var%20popup_3d6355000d0d4fbd976844a47ac1a21c%20%3D%20L.popup%28%7B%22maxWidth%22%3A%20%22100%25%22%7D%29%3B%0A%0A%20%20%20%20%20%20%20%20%0A%20%20%20%20%20%20%20%20%20%20%20%20var%20html_d46a6fdc1062424aaf07c23d50a5ee62%20%3D%20%24%28%60%3Cdiv%20id%3D%22html_d46a6fdc1062424aaf07c23d50a5ee62%22%20style%3D%22width%3A%20100.0%25%3B%20height%3A%20100.0%25%3B%22%3ESouth%20Steeles%2C%20Silverstone%2C%20Humbergate%2C%20Jamestown%2C%20Mount%20Olive%2C%20Beaumond%20Heights%2C%20Thistletown%2C%20Albion%20Gardens%2C%20Etobicoke%3C/div%3E%60%29%5B0%5D%3B%0A%20%20%20%20%20%20%20%20%20%20%20%20popup_3d6355000d0d4fbd976844a47ac1a21c.setContent%28html_d46a6fdc1062424aaf07c23d50a5ee62%29%3B%0A%20%20%20%20%20%20%20%20%0A%0A%20%20%20%20%20%20%20%20circle_marker_3dadec9c55fd4e52821e43361af8121a.bindPopup%28popup_3d6355000d0d4fbd976844a47ac1a21c%29%0A%20%20%20%20%20%20%20%20%3B%0A%0A%20%20%20%20%20%20%20%20%0A%20%20%20%20%0A%20%20%20%20%0A%20%20%20%20%20%20%20%20%20%20%20%20var%20circle_marker_5633e8cfe8cf4004ad65dfb980db14b4%20%3D%20L.circleMarker%28%0A%20%20%20%20%20%20%20%20%20%20%20%20%20%20%20%20%5B43.7563033%2C%20-79.56596329999999%5D%2C%0A%20%20%20%20%20%20%20%20%20%20%20%20%20%20%20%20%7B%22bubblingMouseEvents%22%3A%20true%2C%20%22color%22%3A%20%22blue%22%2C%20%22dashArray%22%3A%20null%2C%20%22dashOffset%22%3A%20null%2C%20%22fill%22%3A%20true%2C%20%22fillColor%22%3A%20%22%233186cc%22%2C%20%22fillOpacity%22%3A%200.7%2C%20%22fillRule%22%3A%20%22evenodd%22%2C%20%22lineCap%22%3A%20%22round%22%2C%20%22lineJoin%22%3A%20%22round%22%2C%20%22opacity%22%3A%201.0%2C%20%22radius%22%3A%205%2C%20%22stroke%22%3A%20true%2C%20%22weight%22%3A%203%7D%0A%20%20%20%20%20%20%20%20%20%20%20%20%29.addTo%28map_4cbcbab3618f4513a342521f5148a72b%29%3B%0A%20%20%20%20%20%20%20%20%0A%20%20%20%20%0A%20%20%20%20%20%20%20%20var%20popup_217d903d0d604dad96e46f7aa8129bba%20%3D%20L.popup%28%7B%22maxWidth%22%3A%20%22100%25%22%7D%29%3B%0A%0A%20%20%20%20%20%20%20%20%0A%20%20%20%20%20%20%20%20%20%20%20%20var%20html_76d45eea16ee4546b06d69e32ebe82ee%20%3D%20%24%28%60%3Cdiv%20id%3D%22html_76d45eea16ee4546b06d69e32ebe82ee%22%20style%3D%22width%3A%20100.0%25%3B%20height%3A%20100.0%25%3B%22%3EHumber%20Summit%2C%20North%20York%3C/div%3E%60%29%5B0%5D%3B%0A%20%20%20%20%20%20%20%20%20%20%20%20popup_217d903d0d604dad96e46f7aa8129bba.setContent%28html_76d45eea16ee4546b06d69e32ebe82ee%29%3B%0A%20%20%20%20%20%20%20%20%0A%0A%20%20%20%20%20%20%20%20circle_marker_5633e8cfe8cf4004ad65dfb980db14b4.bindPopup%28popup_217d903d0d604dad96e46f7aa8129bba%29%0A%20%20%20%20%20%20%20%20%3B%0A%0A%20%20%20%20%20%20%20%20%0A%20%20%20%20%0A%20%20%20%20%0A%20%20%20%20%20%20%20%20%20%20%20%20var%20circle_marker_9e1a12df299b4d1495a7d1e48b984459%20%3D%20L.circleMarker%28%0A%20%20%20%20%20%20%20%20%20%20%20%20%20%20%20%20%5B43.6289467%2C%20-79.3944199%5D%2C%0A%20%20%20%20%20%20%20%20%20%20%20%20%20%20%20%20%7B%22bubblingMouseEvents%22%3A%20true%2C%20%22color%22%3A%20%22blue%22%2C%20%22dashArray%22%3A%20null%2C%20%22dashOffset%22%3A%20null%2C%20%22fill%22%3A%20true%2C%20%22fillColor%22%3A%20%22%233186cc%22%2C%20%22fillOpacity%22%3A%200.7%2C%20%22fillRule%22%3A%20%22evenodd%22%2C%20%22lineCap%22%3A%20%22round%22%2C%20%22lineJoin%22%3A%20%22round%22%2C%20%22opacity%22%3A%201.0%2C%20%22radius%22%3A%205%2C%20%22stroke%22%3A%20true%2C%20%22weight%22%3A%203%7D%0A%20%20%20%20%20%20%20%20%20%20%20%20%29.addTo%28map_4cbcbab3618f4513a342521f5148a72b%29%3B%0A%20%20%20%20%20%20%20%20%0A%20%20%20%20%0A%20%20%20%20%20%20%20%20var%20popup_1d987004b1c74026968643b3e5e815fc%20%3D%20L.popup%28%7B%22maxWidth%22%3A%20%22100%25%22%7D%29%3B%0A%0A%20%20%20%20%20%20%20%20%0A%20%20%20%20%20%20%20%20%20%20%20%20var%20html_c41ddcb45ea44702a5acf0076c4cddd8%20%3D%20%24%28%60%3Cdiv%20id%3D%22html_c41ddcb45ea44702a5acf0076c4cddd8%22%20style%3D%22width%3A%20100.0%25%3B%20height%3A%20100.0%25%3B%22%3ECN%20Tower%2C%20King%20and%20Spadina%2C%20Railway%20Lands%2C%20Harbourfront%20West%2C%20Bathurst%20Quay%2C%20South%20Niagara%2C%20Island%20airport%2C%20Downtown%20Toronto%3C/div%3E%60%29%5B0%5D%3B%0A%20%20%20%20%20%20%20%20%20%20%20%20popup_1d987004b1c74026968643b3e5e815fc.setContent%28html_c41ddcb45ea44702a5acf0076c4cddd8%29%3B%0A%20%20%20%20%20%20%20%20%0A%0A%20%20%20%20%20%20%20%20circle_marker_9e1a12df299b4d1495a7d1e48b984459.bindPopup%28popup_1d987004b1c74026968643b3e5e815fc%29%0A%20%20%20%20%20%20%20%20%3B%0A%0A%20%20%20%20%20%20%20%20%0A%20%20%20%20%0A%20%20%20%20%0A%20%20%20%20%20%20%20%20%20%20%20%20var%20circle_marker_b665e0a0636a4066a02bb04521355d3e%20%3D%20L.circleMarker%28%0A%20%20%20%20%20%20%20%20%20%20%20%20%20%20%20%20%5B43.806686299999996%2C%20-79.19435340000001%5D%2C%0A%20%20%20%20%20%20%20%20%20%20%20%20%20%20%20%20%7B%22bubblingMouseEvents%22%3A%20true%2C%20%22color%22%3A%20%22blue%22%2C%20%22dashArray%22%3A%20null%2C%20%22dashOffset%22%3A%20null%2C%20%22fill%22%3A%20true%2C%20%22fillColor%22%3A%20%22%233186cc%22%2C%20%22fillOpacity%22%3A%200.7%2C%20%22fillRule%22%3A%20%22evenodd%22%2C%20%22lineCap%22%3A%20%22round%22%2C%20%22lineJoin%22%3A%20%22round%22%2C%20%22opacity%22%3A%201.0%2C%20%22radius%22%3A%205%2C%20%22stroke%22%3A%20true%2C%20%22weight%22%3A%203%7D%0A%20%20%20%20%20%20%20%20%20%20%20%20%29.addTo%28map_4cbcbab3618f4513a342521f5148a72b%29%3B%0A%20%20%20%20%20%20%20%20%0A%20%20%20%20%0A%20%20%20%20%20%20%20%20var%20popup_1ff496d520cb48feb3bb55defb07cc0b%20%3D%20L.popup%28%7B%22maxWidth%22%3A%20%22100%25%22%7D%29%3B%0A%0A%20%20%20%20%20%20%20%20%0A%20%20%20%20%20%20%20%20%20%20%20%20var%20html_7ee0c98908e643f8818302f58bf14914%20%3D%20%24%28%60%3Cdiv%20id%3D%22html_7ee0c98908e643f8818302f58bf14914%22%20style%3D%22width%3A%20100.0%25%3B%20height%3A%20100.0%25%3B%22%3EMalvern%2C%20Rouge%2C%20Scarborough%3C/div%3E%60%29%5B0%5D%3B%0A%20%20%20%20%20%20%20%20%20%20%20%20popup_1ff496d520cb48feb3bb55defb07cc0b.setContent%28html_7ee0c98908e643f8818302f58bf14914%29%3B%0A%20%20%20%20%20%20%20%20%0A%0A%20%20%20%20%20%20%20%20circle_marker_b665e0a0636a4066a02bb04521355d3e.bindPopup%28popup_1ff496d520cb48feb3bb55defb07cc0b%29%0A%20%20%20%20%20%20%20%20%3B%0A%0A%20%20%20%20%20%20%20%20%0A%20%20%20%20%0A%20%20%20%20%0A%20%20%20%20%20%20%20%20%20%20%20%20var%20circle_marker_2933450620fd4cfbae0a231d911c698d%20%3D%20L.circleMarker%28%0A%20%20%20%20%20%20%20%20%20%20%20%20%20%20%20%20%5B43.6542599%2C%20-79.3606359%5D%2C%0A%20%20%20%20%20%20%20%20%20%20%20%20%20%20%20%20%7B%22bubblingMouseEvents%22%3A%20true%2C%20%22color%22%3A%20%22blue%22%2C%20%22dashArray%22%3A%20null%2C%20%22dashOffset%22%3A%20null%2C%20%22fill%22%3A%20true%2C%20%22fillColor%22%3A%20%22%233186cc%22%2C%20%22fillOpacity%22%3A%200.7%2C%20%22fillRule%22%3A%20%22evenodd%22%2C%20%22lineCap%22%3A%20%22round%22%2C%20%22lineJoin%22%3A%20%22round%22%2C%20%22opacity%22%3A%201.0%2C%20%22radius%22%3A%205%2C%20%22stroke%22%3A%20true%2C%20%22weight%22%3A%203%7D%0A%20%20%20%20%20%20%20%20%20%20%20%20%29.addTo%28map_4cbcbab3618f4513a342521f5148a72b%29%3B%0A%20%20%20%20%20%20%20%20%0A%20%20%20%20%0A%20%20%20%20%20%20%20%20var%20popup_3a623f42a2eb40f6abe53fa242cfa819%20%3D%20L.popup%28%7B%22maxWidth%22%3A%20%22100%25%22%7D%29%3B%0A%0A%20%20%20%20%20%20%20%20%0A%20%20%20%20%20%20%20%20%20%20%20%20var%20html_abd0f7d15e9d4fcdbcfee3996e97d3c5%20%3D%20%24%28%60%3Cdiv%20id%3D%22html_abd0f7d15e9d4fcdbcfee3996e97d3c5%22%20style%3D%22width%3A%20100.0%25%3B%20height%3A%20100.0%25%3B%22%3ERegent%20Park%2C%20Harbourfront%2C%20Downtown%20Toronto%3C/div%3E%60%29%5B0%5D%3B%0A%20%20%20%20%20%20%20%20%20%20%20%20popup_3a623f42a2eb40f6abe53fa242cfa819.setContent%28html_abd0f7d15e9d4fcdbcfee3996e97d3c5%29%3B%0A%20%20%20%20%20%20%20%20%0A%0A%20%20%20%20%20%20%20%20circle_marker_2933450620fd4cfbae0a231d911c698d.bindPopup%28popup_3a623f42a2eb40f6abe53fa242cfa819%29%0A%20%20%20%20%20%20%20%20%3B%0A%0A%20%20%20%20%20%20%20%20%0A%20%20%20%20%0A%3C/script%3E onload=\"this.contentDocument.open();this.contentDocument.write(    decodeURIComponent(this.getAttribute('data-html')));this.contentDocument.close();\" allowfullscreen webkitallowfullscreen mozallowfullscreen></iframe></div></div>"
     },
     "metadata": {},
     "execution_count": 36
    }
   ],
   "source": [
    "# create map of Toronto using latitude and longitude values\n",
    "map_toronto = folium.Map(location=[latitude, longitude], zoom_start=10)\n",
    "\n",
    "# add markers to map\n",
    "for lat, lng, borough, neighborhood in zip(toronto_neighborhoods_xs['Latitude'], toronto_neighborhoods_xs['Longitude'], toronto_neighborhoods_xs['Borough'],toronto_neighborhoods_xs['Neighborhood']):\n",
    "    label = '{}, {}'.format(neighborhood, borough)\n",
    "    label = folium.Popup(label, parse_html=True)\n",
    "    folium.CircleMarker(\n",
    "        [lat, lng],\n",
    "        radius=5,\n",
    "        popup=label,\n",
    "        color='blue',\n",
    "        fill=True,\n",
    "        fill_color='#3186cc',\n",
    "        fill_opacity=0.7,\n",
    "        parse_html=False).add_to(map_toronto)  \n",
    "    \n",
    "map_toronto"
   ]
  },
  {
   "source": [
    "The [downselected postal area codes][1] are nicely distributed over Toronto's metropolitan area. It will be intereting to see if different clusters emerge after the segmentation"
   ],
   "cell_type": "markdown",
   "metadata": {}
  },
  {
   "source": [
    "### Setup and test FourSquare API"
   ],
   "cell_type": "markdown",
   "metadata": {}
  },
  {
   "source": [
    "Set up FourSquare API"
   ],
   "cell_type": "markdown",
   "metadata": {}
  },
  {
   "cell_type": "code",
   "execution_count": 40,
   "metadata": {},
   "outputs": [],
   "source": [
    "# Define credentials\n",
    "CLIENT_ID = 'MPKNF45NHNJUW2DCFMB1TNDAWCEQAUBX2JKCPZGW3DBPZG1V' # your Foursquare ID\n",
    "CLIENT_SECRET = 'ECZM3IDRDFRA4KMHGUCOMHHG3KI33DWWANJX11ZYRWNI3M2N' # your Foursquare Secret\n",
    "ACCESS_TOKEN = 'I1ZMJZBXJZWPSR5JX10JC510IZNVP02FPEPUAFFYWUM5LXQT' # your FourSquare Access Token\n",
    "VERSION = '20180605' # Foursquare API version\n",
    "LIMIT = 100 # A default Foursquare API limit value"
   ]
  },
  {
   "source": [
    "Mike a test request for postal code area M9A (row number 7) and retrieve top 3 venues"
   ],
   "cell_type": "markdown",
   "metadata": {}
  },
  {
   "cell_type": "code",
   "execution_count": 22,
   "metadata": {},
   "outputs": [
    {
     "output_type": "stream",
     "name": "stdout",
     "text": [
      "Latitude and longitude values of South Steeles, Silverstone, Humbergate, Jamestown, Mount Olive, Beaumond Heights, Thistletown, Albion Gardens are 43.739416399999996, -79.5884369.\n"
     ]
    }
   ],
   "source": [
    "# postal area longitude and latitude\n",
    "neighborhood_latitude = toronto_neighborhoods_xs.loc[7, 'Latitude'] # neighborhood latitude value\n",
    "neighborhood_longitude = toronto_neighborhoods_xs.loc[7, 'Longitude'] # neighborhood longitude value\n",
    "\n",
    "neighborhood_name = toronto_neighborhoods_xs.loc[7, 'Neighborhood'] # neighborhood name\n",
    "\n",
    "print('Latitude and longitude values of {} are {}, {}.'.format(neighborhood_name, \n",
    "                                                               neighborhood_latitude, \n",
    "                                                               neighborhood_longitude))"
   ]
  },
  {
   "cell_type": "code",
   "execution_count": 23,
   "metadata": {},
   "outputs": [
    {
     "output_type": "execute_result",
     "data": {
      "text/plain": [
       "'https://api.foursquare.com/v2/venues/explore?client_id=MPKNF45NHNJUW2DCFMB1TNDAWCEQAUBX2JKCPZGW3DBPZG1V&client_secret=ECZM3IDRDFRA4KMHGUCOMHHG3KI33DWWANJX11ZYRWNI3M2N&ll=43.739416399999996,-79.5884369&v=20180605&radius=500&limit=3'"
      ]
     },
     "metadata": {},
     "execution_count": 23
    }
   ],
   "source": [
    "# define query\n",
    "radius = 500\n",
    "limit = 3\n",
    "url='https://api.foursquare.com/v2/venues/explore?client_id={}&client_secret={}&ll={},{}&v={}&radius={}&limit={}'.format(\n",
    "    CLIENT_ID, \n",
    "    CLIENT_SECRET, \n",
    "    neighborhood_latitude, \n",
    "    neighborhood_longitude, \n",
    "    VERSION, radius, \n",
    "    limit)\n",
    "url"
   ]
  },
  {
   "cell_type": "code",
   "execution_count": 24,
   "metadata": {},
   "outputs": [
    {
     "output_type": "execute_result",
     "data": {
      "text/plain": [
       "{'meta': {'code': 200, 'requestId': '604b4f8dccb5ce3c75f42476'},\n",
       " 'response': {'warning': {'text': \"There aren't a lot of results near you. Try something more general, reset your filters, or expand the search area.\"},\n",
       "  'headerLocation': 'Rexdale',\n",
       "  'headerFullLocation': 'Rexdale, Toronto',\n",
       "  'headerLocationGranularity': 'neighborhood',\n",
       "  'totalResults': 10,\n",
       "  'suggestedBounds': {'ne': {'lat': 43.7439164045, 'lng': -79.58222007762089},\n",
       "   'sw': {'lat': 43.734916395499994, 'lng': -79.59465372237912}},\n",
       "  'groups': [{'type': 'Recommended Places',\n",
       "    'name': 'recommended',\n",
       "    'items': [{'reasons': {'count': 0,\n",
       "       'items': [{'summary': 'This spot is popular',\n",
       "         'type': 'general',\n",
       "         'reasonName': 'globalInteractionReason'}]},\n",
       "      'venue': {'id': '4be58dc4cf200f479154133c',\n",
       "       'name': 'Shoppers Drug Mart',\n",
       "       'location': {'address': '1530 Albion Rd',\n",
       "        'crossStreet': 'Albion Mall',\n",
       "        'lat': 43.741685,\n",
       "        'lng': -79.584487,\n",
       "        'labeledLatLngs': [{'label': 'display',\n",
       "          'lat': 43.741685,\n",
       "          'lng': -79.584487}],\n",
       "        'distance': 405,\n",
       "        'postalCode': 'M9V 1B4',\n",
       "        'cc': 'CA',\n",
       "        'city': 'Etobicoke',\n",
       "        'state': 'ON',\n",
       "        'country': 'Canada',\n",
       "        'formattedAddress': ['1530 Albion Rd (Albion Mall)',\n",
       "         'Etobicoke ON M9V 1B4',\n",
       "         'Canada']},\n",
       "       'categories': [{'id': '4bf58dd8d48988d10f951735',\n",
       "         'name': 'Pharmacy',\n",
       "         'pluralName': 'Pharmacies',\n",
       "         'shortName': 'Pharmacy',\n",
       "         'icon': {'prefix': 'https://ss3.4sqi.net/img/categories_v2/shops/pharmacy_',\n",
       "          'suffix': '.png'},\n",
       "         'primary': True}],\n",
       "       'photos': {'count': 0, 'groups': []}},\n",
       "      'referralId': 'e-0-4be58dc4cf200f479154133c-0'},\n",
       "     {'reasons': {'count': 0,\n",
       "       'items': [{'summary': 'This spot is popular',\n",
       "         'type': 'general',\n",
       "         'reasonName': 'globalInteractionReason'}]},\n",
       "      'venue': {'id': '4be70e26cf200f47e334153c',\n",
       "       'name': 'Popeyes Louisiana Kitchen',\n",
       "       'location': {'address': '80-1530 Albion Rd',\n",
       "        'crossStreet': 'at Kipling Ave. (Albion Centre)',\n",
       "        'lat': 43.74120870478487,\n",
       "        'lng': -79.58433226289988,\n",
       "        'labeledLatLngs': [{'label': 'display',\n",
       "          'lat': 43.74120870478487,\n",
       "          'lng': -79.58433226289988}],\n",
       "        'distance': 385,\n",
       "        'postalCode': 'M9V 1B4',\n",
       "        'cc': 'CA',\n",
       "        'city': 'Etobicoke',\n",
       "        'state': 'ON',\n",
       "        'country': 'Canada',\n",
       "        'formattedAddress': ['80-1530 Albion Rd (at Kipling Ave. (Albion Centre))',\n",
       "         'Etobicoke ON M9V 1B4',\n",
       "         'Canada']},\n",
       "       'categories': [{'id': '4d4ae6fc7a7b7dea34424761',\n",
       "         'name': 'Fried Chicken Joint',\n",
       "         'pluralName': 'Fried Chicken Joints',\n",
       "         'shortName': 'Fried Chicken',\n",
       "         'icon': {'prefix': 'https://ss3.4sqi.net/img/categories_v2/food/friedchicken_',\n",
       "          'suffix': '.png'},\n",
       "         'primary': True}],\n",
       "       'photos': {'count': 0, 'groups': []}},\n",
       "      'referralId': 'e-0-4be70e26cf200f47e334153c-1'},\n",
       "     {'reasons': {'count': 0,\n",
       "       'items': [{'summary': 'This spot is popular',\n",
       "         'type': 'general',\n",
       "         'reasonName': 'globalInteractionReason'}]},\n",
       "      'venue': {'id': '4c633939e1621b8d48842553',\n",
       "       'name': 'Subway',\n",
       "       'location': {'address': '6210 Finch Ave West, Store 103',\n",
       "        'crossStreet': 'at Albion Rd.',\n",
       "        'lat': 43.74264512142215,\n",
       "        'lng': -79.58964323010724,\n",
       "        'labeledLatLngs': [{'label': 'display',\n",
       "          'lat': 43.74264512142215,\n",
       "          'lng': -79.58964323010724}],\n",
       "        'distance': 372,\n",
       "        'postalCode': 'M9V 0A1',\n",
       "        'cc': 'CA',\n",
       "        'city': 'Toronto',\n",
       "        'state': 'ON',\n",
       "        'country': 'Canada',\n",
       "        'formattedAddress': ['6210 Finch Ave West, Store 103 (at Albion Rd.)',\n",
       "         'Toronto ON M9V 0A1',\n",
       "         'Canada']},\n",
       "       'categories': [{'id': '4bf58dd8d48988d1c5941735',\n",
       "         'name': 'Sandwich Place',\n",
       "         'pluralName': 'Sandwich Places',\n",
       "         'shortName': 'Sandwiches',\n",
       "         'icon': {'prefix': 'https://ss3.4sqi.net/img/categories_v2/food/deli_',\n",
       "          'suffix': '.png'},\n",
       "         'primary': True}],\n",
       "       'photos': {'count': 0, 'groups': []}},\n",
       "      'referralId': 'e-0-4c633939e1621b8d48842553-2'}]}]}}"
      ]
     },
     "metadata": {},
     "execution_count": 24
    }
   ],
   "source": [
    "# make the query and examine the results\n",
    "results = requests.get(url).json()\n",
    "results"
   ]
  },
  {
   "source": [
    "We can retrieve the top listings from FourSquare. The interesting information is in `items`."
   ],
   "cell_type": "markdown",
   "metadata": {}
  },
  {
   "cell_type": "code",
   "execution_count": 29,
   "metadata": {},
   "outputs": [
    {
     "output_type": "execute_result",
     "data": {
      "text/plain": [
       "[{'reasons': {'count': 0,\n",
       "   'items': [{'summary': 'This spot is popular',\n",
       "     'type': 'general',\n",
       "     'reasonName': 'globalInteractionReason'}]},\n",
       "  'venue': {'id': '4be58dc4cf200f479154133c',\n",
       "   'name': 'Shoppers Drug Mart',\n",
       "   'location': {'address': '1530 Albion Rd',\n",
       "    'crossStreet': 'Albion Mall',\n",
       "    'lat': 43.741685,\n",
       "    'lng': -79.584487,\n",
       "    'labeledLatLngs': [{'label': 'display',\n",
       "      'lat': 43.741685,\n",
       "      'lng': -79.584487}],\n",
       "    'distance': 405,\n",
       "    'postalCode': 'M9V 1B4',\n",
       "    'cc': 'CA',\n",
       "    'city': 'Etobicoke',\n",
       "    'state': 'ON',\n",
       "    'country': 'Canada',\n",
       "    'formattedAddress': ['1530 Albion Rd (Albion Mall)',\n",
       "     'Etobicoke ON M9V 1B4',\n",
       "     'Canada']},\n",
       "   'categories': [{'id': '4bf58dd8d48988d10f951735',\n",
       "     'name': 'Pharmacy',\n",
       "     'pluralName': 'Pharmacies',\n",
       "     'shortName': 'Pharmacy',\n",
       "     'icon': {'prefix': 'https://ss3.4sqi.net/img/categories_v2/shops/pharmacy_',\n",
       "      'suffix': '.png'},\n",
       "     'primary': True}],\n",
       "   'photos': {'count': 0, 'groups': []}},\n",
       "  'referralId': 'e-0-4be58dc4cf200f479154133c-0'},\n",
       " {'reasons': {'count': 0,\n",
       "   'items': [{'summary': 'This spot is popular',\n",
       "     'type': 'general',\n",
       "     'reasonName': 'globalInteractionReason'}]},\n",
       "  'venue': {'id': '4be70e26cf200f47e334153c',\n",
       "   'name': 'Popeyes Louisiana Kitchen',\n",
       "   'location': {'address': '80-1530 Albion Rd',\n",
       "    'crossStreet': 'at Kipling Ave. (Albion Centre)',\n",
       "    'lat': 43.74120870478487,\n",
       "    'lng': -79.58433226289988,\n",
       "    'labeledLatLngs': [{'label': 'display',\n",
       "      'lat': 43.74120870478487,\n",
       "      'lng': -79.58433226289988}],\n",
       "    'distance': 385,\n",
       "    'postalCode': 'M9V 1B4',\n",
       "    'cc': 'CA',\n",
       "    'city': 'Etobicoke',\n",
       "    'state': 'ON',\n",
       "    'country': 'Canada',\n",
       "    'formattedAddress': ['80-1530 Albion Rd (at Kipling Ave. (Albion Centre))',\n",
       "     'Etobicoke ON M9V 1B4',\n",
       "     'Canada']},\n",
       "   'categories': [{'id': '4d4ae6fc7a7b7dea34424761',\n",
       "     'name': 'Fried Chicken Joint',\n",
       "     'pluralName': 'Fried Chicken Joints',\n",
       "     'shortName': 'Fried Chicken',\n",
       "     'icon': {'prefix': 'https://ss3.4sqi.net/img/categories_v2/food/friedchicken_',\n",
       "      'suffix': '.png'},\n",
       "     'primary': True}],\n",
       "   'photos': {'count': 0, 'groups': []}},\n",
       "  'referralId': 'e-0-4be70e26cf200f47e334153c-1'},\n",
       " {'reasons': {'count': 0,\n",
       "   'items': [{'summary': 'This spot is popular',\n",
       "     'type': 'general',\n",
       "     'reasonName': 'globalInteractionReason'}]},\n",
       "  'venue': {'id': '4c633939e1621b8d48842553',\n",
       "   'name': 'Subway',\n",
       "   'location': {'address': '6210 Finch Ave West, Store 103',\n",
       "    'crossStreet': 'at Albion Rd.',\n",
       "    'lat': 43.74264512142215,\n",
       "    'lng': -79.58964323010724,\n",
       "    'labeledLatLngs': [{'label': 'display',\n",
       "      'lat': 43.74264512142215,\n",
       "      'lng': -79.58964323010724}],\n",
       "    'distance': 372,\n",
       "    'postalCode': 'M9V 0A1',\n",
       "    'cc': 'CA',\n",
       "    'city': 'Toronto',\n",
       "    'state': 'ON',\n",
       "    'country': 'Canada',\n",
       "    'formattedAddress': ['6210 Finch Ave West, Store 103 (at Albion Rd.)',\n",
       "     'Toronto ON M9V 0A1',\n",
       "     'Canada']},\n",
       "   'categories': [{'id': '4bf58dd8d48988d1c5941735',\n",
       "     'name': 'Sandwich Place',\n",
       "     'pluralName': 'Sandwich Places',\n",
       "     'shortName': 'Sandwiches',\n",
       "     'icon': {'prefix': 'https://ss3.4sqi.net/img/categories_v2/food/deli_',\n",
       "      'suffix': '.png'},\n",
       "     'primary': True}],\n",
       "   'photos': {'count': 0, 'groups': []}},\n",
       "  'referralId': 'e-0-4c633939e1621b8d48842553-2'}]"
      ]
     },
     "metadata": {},
     "execution_count": 29
    }
   ],
   "source": [
    "venues = results['response']['groups'][0]['items'] \n",
    "venues"
   ]
  },
  {
   "source": [
    "Convert from json the pandas df."
   ],
   "cell_type": "markdown",
   "metadata": {}
  },
  {
   "cell_type": "code",
   "execution_count": 31,
   "metadata": {},
   "outputs": [
    {
     "output_type": "execute_result",
     "data": {
      "text/plain": [
       "                       referralId  reasons.count  \\\n",
       "0  e-0-4be58dc4cf200f479154133c-0              0   \n",
       "1  e-0-4be70e26cf200f47e334153c-1              0   \n",
       "2  e-0-4c633939e1621b8d48842553-2              0   \n",
       "\n",
       "                                       reasons.items  \\\n",
       "0  [{'summary': 'This spot is popular', 'type': '...   \n",
       "1  [{'summary': 'This spot is popular', 'type': '...   \n",
       "2  [{'summary': 'This spot is popular', 'type': '...   \n",
       "\n",
       "                   venue.id                 venue.name  \\\n",
       "0  4be58dc4cf200f479154133c         Shoppers Drug Mart   \n",
       "1  4be70e26cf200f47e334153c  Popeyes Louisiana Kitchen   \n",
       "2  4c633939e1621b8d48842553                     Subway   \n",
       "\n",
       "           venue.location.address       venue.location.crossStreet  \\\n",
       "0                  1530 Albion Rd                      Albion Mall   \n",
       "1               80-1530 Albion Rd  at Kipling Ave. (Albion Centre)   \n",
       "2  6210 Finch Ave West, Store 103                    at Albion Rd.   \n",
       "\n",
       "   venue.location.lat  venue.location.lng  \\\n",
       "0           43.741685          -79.584487   \n",
       "1           43.741209          -79.584332   \n",
       "2           43.742645          -79.589643   \n",
       "\n",
       "                       venue.location.labeledLatLngs  venue.location.distance  \\\n",
       "0  [{'label': 'display', 'lat': 43.741685, 'lng':...                      405   \n",
       "1  [{'label': 'display', 'lat': 43.74120870478487...                      385   \n",
       "2  [{'label': 'display', 'lat': 43.74264512142215...                      372   \n",
       "\n",
       "  venue.location.postalCode venue.location.cc venue.location.city  \\\n",
       "0                   M9V 1B4                CA           Etobicoke   \n",
       "1                   M9V 1B4                CA           Etobicoke   \n",
       "2                   M9V 0A1                CA             Toronto   \n",
       "\n",
       "  venue.location.state venue.location.country  \\\n",
       "0                   ON                 Canada   \n",
       "1                   ON                 Canada   \n",
       "2                   ON                 Canada   \n",
       "\n",
       "                     venue.location.formattedAddress  \\\n",
       "0  [1530 Albion Rd (Albion Mall), Etobicoke ON M9...   \n",
       "1  [80-1530 Albion Rd (at Kipling Ave. (Albion Ce...   \n",
       "2  [6210 Finch Ave West, Store 103 (at Albion Rd....   \n",
       "\n",
       "                                    venue.categories  venue.photos.count  \\\n",
       "0  [{'id': '4bf58dd8d48988d10f951735', 'name': 'P...                   0   \n",
       "1  [{'id': '4d4ae6fc7a7b7dea34424761', 'name': 'F...                   0   \n",
       "2  [{'id': '4bf58dd8d48988d1c5941735', 'name': 'S...                   0   \n",
       "\n",
       "  venue.photos.groups  \n",
       "0                  []  \n",
       "1                  []  \n",
       "2                  []  "
      ],
      "text/html": "<div>\n<style scoped>\n    .dataframe tbody tr th:only-of-type {\n        vertical-align: middle;\n    }\n\n    .dataframe tbody tr th {\n        vertical-align: top;\n    }\n\n    .dataframe thead th {\n        text-align: right;\n    }\n</style>\n<table border=\"1\" class=\"dataframe\">\n  <thead>\n    <tr style=\"text-align: right;\">\n      <th></th>\n      <th>referralId</th>\n      <th>reasons.count</th>\n      <th>reasons.items</th>\n      <th>venue.id</th>\n      <th>venue.name</th>\n      <th>venue.location.address</th>\n      <th>venue.location.crossStreet</th>\n      <th>venue.location.lat</th>\n      <th>venue.location.lng</th>\n      <th>venue.location.labeledLatLngs</th>\n      <th>venue.location.distance</th>\n      <th>venue.location.postalCode</th>\n      <th>venue.location.cc</th>\n      <th>venue.location.city</th>\n      <th>venue.location.state</th>\n      <th>venue.location.country</th>\n      <th>venue.location.formattedAddress</th>\n      <th>venue.categories</th>\n      <th>venue.photos.count</th>\n      <th>venue.photos.groups</th>\n    </tr>\n  </thead>\n  <tbody>\n    <tr>\n      <th>0</th>\n      <td>e-0-4be58dc4cf200f479154133c-0</td>\n      <td>0</td>\n      <td>[{'summary': 'This spot is popular', 'type': '...</td>\n      <td>4be58dc4cf200f479154133c</td>\n      <td>Shoppers Drug Mart</td>\n      <td>1530 Albion Rd</td>\n      <td>Albion Mall</td>\n      <td>43.741685</td>\n      <td>-79.584487</td>\n      <td>[{'label': 'display', 'lat': 43.741685, 'lng':...</td>\n      <td>405</td>\n      <td>M9V 1B4</td>\n      <td>CA</td>\n      <td>Etobicoke</td>\n      <td>ON</td>\n      <td>Canada</td>\n      <td>[1530 Albion Rd (Albion Mall), Etobicoke ON M9...</td>\n      <td>[{'id': '4bf58dd8d48988d10f951735', 'name': 'P...</td>\n      <td>0</td>\n      <td>[]</td>\n    </tr>\n    <tr>\n      <th>1</th>\n      <td>e-0-4be70e26cf200f47e334153c-1</td>\n      <td>0</td>\n      <td>[{'summary': 'This spot is popular', 'type': '...</td>\n      <td>4be70e26cf200f47e334153c</td>\n      <td>Popeyes Louisiana Kitchen</td>\n      <td>80-1530 Albion Rd</td>\n      <td>at Kipling Ave. (Albion Centre)</td>\n      <td>43.741209</td>\n      <td>-79.584332</td>\n      <td>[{'label': 'display', 'lat': 43.74120870478487...</td>\n      <td>385</td>\n      <td>M9V 1B4</td>\n      <td>CA</td>\n      <td>Etobicoke</td>\n      <td>ON</td>\n      <td>Canada</td>\n      <td>[80-1530 Albion Rd (at Kipling Ave. (Albion Ce...</td>\n      <td>[{'id': '4d4ae6fc7a7b7dea34424761', 'name': 'F...</td>\n      <td>0</td>\n      <td>[]</td>\n    </tr>\n    <tr>\n      <th>2</th>\n      <td>e-0-4c633939e1621b8d48842553-2</td>\n      <td>0</td>\n      <td>[{'summary': 'This spot is popular', 'type': '...</td>\n      <td>4c633939e1621b8d48842553</td>\n      <td>Subway</td>\n      <td>6210 Finch Ave West, Store 103</td>\n      <td>at Albion Rd.</td>\n      <td>43.742645</td>\n      <td>-79.589643</td>\n      <td>[{'label': 'display', 'lat': 43.74264512142215...</td>\n      <td>372</td>\n      <td>M9V 0A1</td>\n      <td>CA</td>\n      <td>Toronto</td>\n      <td>ON</td>\n      <td>Canada</td>\n      <td>[6210 Finch Ave West, Store 103 (at Albion Rd....</td>\n      <td>[{'id': '4bf58dd8d48988d1c5941735', 'name': 'S...</td>\n      <td>0</td>\n      <td>[]</td>\n    </tr>\n  </tbody>\n</table>\n</div>"
     },
     "metadata": {},
     "execution_count": 31
    }
   ],
   "source": [
    "# json to df\n",
    "venues_df = pd.json_normalize(venues)\n",
    "venues_df.head()"
   ]
  },
  {
   "source": [
    "### Extract 10 most frequent venues categories in each postal code area"
   ],
   "cell_type": "markdown",
   "metadata": {}
  },
  {
   "source": [
    "#### Retrieve top 100 venues for each postal code area"
   ],
   "cell_type": "markdown",
   "metadata": {}
  },
  {
   "cell_type": "code",
   "execution_count": null,
   "metadata": {},
   "outputs": [],
   "source": [
    "Define a function to retrive the top 100 venues in 1500 m radius of each postal code area.\n",
    "We use a larger radius as the downselected postal codes are relatively far away from each other."
   ]
  },
  {
   "cell_type": "code",
   "execution_count": 55,
   "metadata": {},
   "outputs": [],
   "source": [
    "def getNearbyVenues(postalcodes, names, latitudes, longitudes, radius=1500):\n",
    "    \n",
    "    venues_list=[]\n",
    "    for postalcode, name, lat, lng in zip(postalcodes, names, latitudes, longitudes):\n",
    "        print(name)\n",
    "            \n",
    "        # create the API request URL\n",
    "        url = 'https://api.foursquare.com/v2/venues/explore?&client_id={}&client_secret={}&v={}&ll={},{}&radius={}&limit={}'.format(\n",
    "            CLIENT_ID, \n",
    "            CLIENT_SECRET, \n",
    "            VERSION, \n",
    "            lat, \n",
    "            lng, \n",
    "            radius, \n",
    "            LIMIT)\n",
    "            \n",
    "        # make the GET request\n",
    "        results = requests.get(url).json()[\"response\"]['groups'][0]['items']\n",
    "        \n",
    "        # return only relevant information for each nearby venue\n",
    "        venues_list.append([(\n",
    "            postalcode,\n",
    "            name, \n",
    "            lat, \n",
    "            lng, \n",
    "            v['venue']['name'], \n",
    "            v['venue']['location']['lat'], \n",
    "            v['venue']['location']['lng'],  \n",
    "            v['venue']['categories'][0]['name']) for v in results])\n",
    "\n",
    "    nearby_venues = pd.DataFrame([item for venue_list in venues_list for item in venue_list])\n",
    "    nearby_venues.columns = [\n",
    "                  'PostalCode',\n",
    "                  'Neighborhood', \n",
    "                  'Neighborhood Latitude', \n",
    "                  'Neighborhood Longitude', \n",
    "                  'Venue', \n",
    "                  'Venue Latitude', \n",
    "                  'Venue Longitude', \n",
    "                  'Venue Category']\n",
    "    \n",
    "    return(nearby_venues)"
   ]
  },
  {
   "source": [
    "Make the request and store the venues in a dataframe"
   ],
   "cell_type": "markdown",
   "metadata": {}
  },
  {
   "cell_type": "code",
   "execution_count": 56,
   "metadata": {},
   "outputs": [
    {
     "output_type": "stream",
     "name": "stdout",
     "text": [
      "Central Bay Street\n",
      "Hillcrest Village\n",
      "Parkview Hill, Woodbine Gardens\n",
      "Scarborough Village\n",
      "Leaside\n",
      "Studio District\n",
      "Wexford, Maryvale\n",
      "South Steeles, Silverstone, Humbergate, Jamestown, Mount Olive, Beaumond Heights, Thistletown, Albion Gardens\n",
      "Humber Summit\n",
      "CN Tower, King and Spadina, Railway Lands, Harbourfront West, Bathurst Quay, South Niagara, Island airport\n",
      "Malvern, Rouge\n",
      "Regent Park, Harbourfront\n"
     ]
    }
   ],
   "source": [
    "toronto_venues = getNearbyVenues(\n",
    "    toronto_neighborhoods_xs['PostalCode'], \n",
    "    toronto_neighborhoods_xs['Neighborhood'],\n",
    "    toronto_neighborhoods_xs['Latitude'],\n",
    "    toronto_neighborhoods_xs['Longitude'])"
   ]
  },
  {
   "cell_type": "code",
   "execution_count": 57,
   "metadata": {},
   "outputs": [
    {
     "output_type": "execute_result",
     "data": {
      "text/plain": [
       "  PostalCode        Neighborhood  Neighborhood Latitude  \\\n",
       "0        M5G  Central Bay Street              43.657952   \n",
       "1        M5G  Central Bay Street              43.657952   \n",
       "2        M5G  Central Bay Street              43.657952   \n",
       "3        M5G  Central Bay Street              43.657952   \n",
       "4        M5G  Central Bay Street              43.657952   \n",
       "\n",
       "   Neighborhood Longitude              Venue  Venue Latitude  Venue Longitude  \\\n",
       "0              -79.387383      Hailed Coffee       43.658833       -79.383684   \n",
       "1              -79.387383     NEO COFFEE BAR       43.660130       -79.385830   \n",
       "2              -79.387383  College Park Area       43.659453       -79.383785   \n",
       "3              -79.387383           Mercatto       43.660391       -79.387664   \n",
       "4              -79.387383       Banh Mi Boys       43.659292       -79.381949   \n",
       "\n",
       "       Venue Category  \n",
       "0         Coffee Shop  \n",
       "1         Coffee Shop  \n",
       "2                Park  \n",
       "3  Italian Restaurant  \n",
       "4      Sandwich Place  "
      ],
      "text/html": "<div>\n<style scoped>\n    .dataframe tbody tr th:only-of-type {\n        vertical-align: middle;\n    }\n\n    .dataframe tbody tr th {\n        vertical-align: top;\n    }\n\n    .dataframe thead th {\n        text-align: right;\n    }\n</style>\n<table border=\"1\" class=\"dataframe\">\n  <thead>\n    <tr style=\"text-align: right;\">\n      <th></th>\n      <th>PostalCode</th>\n      <th>Neighborhood</th>\n      <th>Neighborhood Latitude</th>\n      <th>Neighborhood Longitude</th>\n      <th>Venue</th>\n      <th>Venue Latitude</th>\n      <th>Venue Longitude</th>\n      <th>Venue Category</th>\n    </tr>\n  </thead>\n  <tbody>\n    <tr>\n      <th>0</th>\n      <td>M5G</td>\n      <td>Central Bay Street</td>\n      <td>43.657952</td>\n      <td>-79.387383</td>\n      <td>Hailed Coffee</td>\n      <td>43.658833</td>\n      <td>-79.383684</td>\n      <td>Coffee Shop</td>\n    </tr>\n    <tr>\n      <th>1</th>\n      <td>M5G</td>\n      <td>Central Bay Street</td>\n      <td>43.657952</td>\n      <td>-79.387383</td>\n      <td>NEO COFFEE BAR</td>\n      <td>43.660130</td>\n      <td>-79.385830</td>\n      <td>Coffee Shop</td>\n    </tr>\n    <tr>\n      <th>2</th>\n      <td>M5G</td>\n      <td>Central Bay Street</td>\n      <td>43.657952</td>\n      <td>-79.387383</td>\n      <td>College Park Area</td>\n      <td>43.659453</td>\n      <td>-79.383785</td>\n      <td>Park</td>\n    </tr>\n    <tr>\n      <th>3</th>\n      <td>M5G</td>\n      <td>Central Bay Street</td>\n      <td>43.657952</td>\n      <td>-79.387383</td>\n      <td>Mercatto</td>\n      <td>43.660391</td>\n      <td>-79.387664</td>\n      <td>Italian Restaurant</td>\n    </tr>\n    <tr>\n      <th>4</th>\n      <td>M5G</td>\n      <td>Central Bay Street</td>\n      <td>43.657952</td>\n      <td>-79.387383</td>\n      <td>Banh Mi Boys</td>\n      <td>43.659292</td>\n      <td>-79.381949</td>\n      <td>Sandwich Place</td>\n    </tr>\n  </tbody>\n</table>\n</div>"
     },
     "metadata": {},
     "execution_count": 57
    }
   ],
   "source": [
    "toronto_venues.head()"
   ]
  },
  {
   "cell_type": "code",
   "execution_count": 58,
   "metadata": {},
   "outputs": [
    {
     "output_type": "stream",
     "name": "stdout",
     "text": [
      "702 venues were found.\n"
     ]
    }
   ],
   "source": [
    "print(f'{toronto_venues.shape[0]} venues were found.')"
   ]
  },
  {
   "source": [
    "The dataframe should contain 12 (postal code areas) x 100 (top venues / postal code area) = 1200 (total venues), i.e. significantly more than the venues that were found. This points to the fact that some postal code areas have lower than expected number of popular spots.\n",
    "Let's see how many venues per postal code area were found."
   ],
   "cell_type": "markdown",
   "metadata": {}
  },
  {
   "cell_type": "code",
   "execution_count": 59,
   "metadata": {},
   "outputs": [
    {
     "output_type": "execute_result",
     "data": {
      "text/plain": [
       "            Neighborhood  Neighborhood Latitude  Neighborhood Longitude  \\\n",
       "PostalCode                                                                \n",
       "M4M                  100                    100                     100   \n",
       "M5A                  100                    100                     100   \n",
       "M5G                  100                    100                     100   \n",
       "M4G                   76                     76                      76   \n",
       "M5V                   68                     68                      68   \n",
       "M2H                   54                     54                      54   \n",
       "M1R                   53                     53                      53   \n",
       "M1J                   35                     35                      35   \n",
       "M4B                   34                     34                      34   \n",
       "M1B                   32                     32                      32   \n",
       "M9V                   31                     31                      31   \n",
       "M9L                   19                     19                      19   \n",
       "\n",
       "            Venue  Venue Latitude  Venue Longitude  Venue Category  \n",
       "PostalCode                                                          \n",
       "M4M           100             100              100             100  \n",
       "M5A           100             100              100             100  \n",
       "M5G           100             100              100             100  \n",
       "M4G            76              76               76              76  \n",
       "M5V            68              68               68              68  \n",
       "M2H            54              54               54              54  \n",
       "M1R            53              53               53              53  \n",
       "M1J            35              35               35              35  \n",
       "M4B            34              34               34              34  \n",
       "M1B            32              32               32              32  \n",
       "M9V            31              31               31              31  \n",
       "M9L            19              19               19              19  "
      ],
      "text/html": "<div>\n<style scoped>\n    .dataframe tbody tr th:only-of-type {\n        vertical-align: middle;\n    }\n\n    .dataframe tbody tr th {\n        vertical-align: top;\n    }\n\n    .dataframe thead th {\n        text-align: right;\n    }\n</style>\n<table border=\"1\" class=\"dataframe\">\n  <thead>\n    <tr style=\"text-align: right;\">\n      <th></th>\n      <th>Neighborhood</th>\n      <th>Neighborhood Latitude</th>\n      <th>Neighborhood Longitude</th>\n      <th>Venue</th>\n      <th>Venue Latitude</th>\n      <th>Venue Longitude</th>\n      <th>Venue Category</th>\n    </tr>\n    <tr>\n      <th>PostalCode</th>\n      <th></th>\n      <th></th>\n      <th></th>\n      <th></th>\n      <th></th>\n      <th></th>\n      <th></th>\n    </tr>\n  </thead>\n  <tbody>\n    <tr>\n      <th>M4M</th>\n      <td>100</td>\n      <td>100</td>\n      <td>100</td>\n      <td>100</td>\n      <td>100</td>\n      <td>100</td>\n      <td>100</td>\n    </tr>\n    <tr>\n      <th>M5A</th>\n      <td>100</td>\n      <td>100</td>\n      <td>100</td>\n      <td>100</td>\n      <td>100</td>\n      <td>100</td>\n      <td>100</td>\n    </tr>\n    <tr>\n      <th>M5G</th>\n      <td>100</td>\n      <td>100</td>\n      <td>100</td>\n      <td>100</td>\n      <td>100</td>\n      <td>100</td>\n      <td>100</td>\n    </tr>\n    <tr>\n      <th>M4G</th>\n      <td>76</td>\n      <td>76</td>\n      <td>76</td>\n      <td>76</td>\n      <td>76</td>\n      <td>76</td>\n      <td>76</td>\n    </tr>\n    <tr>\n      <th>M5V</th>\n      <td>68</td>\n      <td>68</td>\n      <td>68</td>\n      <td>68</td>\n      <td>68</td>\n      <td>68</td>\n      <td>68</td>\n    </tr>\n    <tr>\n      <th>M2H</th>\n      <td>54</td>\n      <td>54</td>\n      <td>54</td>\n      <td>54</td>\n      <td>54</td>\n      <td>54</td>\n      <td>54</td>\n    </tr>\n    <tr>\n      <th>M1R</th>\n      <td>53</td>\n      <td>53</td>\n      <td>53</td>\n      <td>53</td>\n      <td>53</td>\n      <td>53</td>\n      <td>53</td>\n    </tr>\n    <tr>\n      <th>M1J</th>\n      <td>35</td>\n      <td>35</td>\n      <td>35</td>\n      <td>35</td>\n      <td>35</td>\n      <td>35</td>\n      <td>35</td>\n    </tr>\n    <tr>\n      <th>M4B</th>\n      <td>34</td>\n      <td>34</td>\n      <td>34</td>\n      <td>34</td>\n      <td>34</td>\n      <td>34</td>\n      <td>34</td>\n    </tr>\n    <tr>\n      <th>M1B</th>\n      <td>32</td>\n      <td>32</td>\n      <td>32</td>\n      <td>32</td>\n      <td>32</td>\n      <td>32</td>\n      <td>32</td>\n    </tr>\n    <tr>\n      <th>M9V</th>\n      <td>31</td>\n      <td>31</td>\n      <td>31</td>\n      <td>31</td>\n      <td>31</td>\n      <td>31</td>\n      <td>31</td>\n    </tr>\n    <tr>\n      <th>M9L</th>\n      <td>19</td>\n      <td>19</td>\n      <td>19</td>\n      <td>19</td>\n      <td>19</td>\n      <td>19</td>\n      <td>19</td>\n    </tr>\n  </tbody>\n</table>\n</div>"
     },
     "metadata": {},
     "execution_count": 59
    }
   ],
   "source": [
    "#venues grouped by postal code area sorted in descending order of venues\n",
    "toronto_venues.groupby(['PostalCode']).count().sort_values('Venue',ascending=False)"
   ]
  },
  {
   "source": [
    "Approx one third of the postal code areas feature 35 top venues and less. Let's see how many unique venue categories there are."
   ],
   "cell_type": "markdown",
   "metadata": {}
  },
  {
   "cell_type": "code",
   "execution_count": 66,
   "metadata": {},
   "outputs": [
    {
     "output_type": "stream",
     "name": "stdout",
     "text": [
      "There are 180 unique venue categories.\n"
     ]
    }
   ],
   "source": [
    "print('There are {} unique venue categories.'.format(len(toronto_venues['Venue Category'].unique())))"
   ]
  },
  {
   "source": [
    "#### Determine the 10 most frequent venue categories per postal area code."
   ],
   "cell_type": "markdown",
   "metadata": {}
  },
  {
   "source": [
    "Create category hot encoding for each venue."
   ],
   "cell_type": "markdown",
   "metadata": {}
  },
  {
   "cell_type": "code",
   "execution_count": 122,
   "metadata": {
    "tags": []
   },
   "outputs": [
    {
     "output_type": "execute_result",
     "data": {
      "text/plain": [
       "  PostalCode        Neighborhood  African Restaurant  Airport  Airport Lounge  \\\n",
       "0        M5G  Central Bay Street                   0        0               0   \n",
       "1        M5G  Central Bay Street                   0        0               0   \n",
       "2        M5G  Central Bay Street                   0        0               0   \n",
       "3        M5G  Central Bay Street                   0        0               0   \n",
       "4        M5G  Central Bay Street                   0        0               0   \n",
       "\n",
       "   American Restaurant  Animal Shelter  Antique Shop  Art Gallery  \\\n",
       "0                    0               0             0            0   \n",
       "1                    0               0             0            0   \n",
       "2                    0               0             0            0   \n",
       "3                    0               0             0            0   \n",
       "4                    0               0             0            0   \n",
       "\n",
       "   Arts & Crafts Store  Asian Restaurant  Athletics & Sports  Auto Dealership  \\\n",
       "0                    0                 0                   0                0   \n",
       "1                    0                 0                   0                0   \n",
       "2                    0                 0                   0                0   \n",
       "3                    0                 0                   0                0   \n",
       "4                    0                 0                   0                0   \n",
       "\n",
       "   Auto Garage  Automotive Shop  BBQ Joint  Baby Store  Badminton Court  \\\n",
       "0            0                0          0           0                0   \n",
       "1            0                0          0           0                0   \n",
       "2            0                0          0           0                0   \n",
       "3            0                0          0           0                0   \n",
       "4            0                0          0           0                0   \n",
       "\n",
       "   Bagel Shop  Bakery  Bank  Bar  Baseball Stadium  Beer Bar  Beer Store  \\\n",
       "0           0       0     0    0                 0         0           0   \n",
       "1           0       0     0    0                 0         0           0   \n",
       "2           0       0     0    0                 0         0           0   \n",
       "3           0       0     0    0                 0         0           0   \n",
       "4           0       0     0    0                 0         0           0   \n",
       "\n",
       "   Big Box Store  Bike Shop  Bistro  Boat or Ferry  Bookstore  \\\n",
       "0              0          0       0              0          0   \n",
       "1              0          0       0              0          0   \n",
       "2              0          0       0              0          0   \n",
       "3              0          0       0              0          0   \n",
       "4              0          0       0              0          0   \n",
       "\n",
       "   Botanical Garden  Boutique  Breakfast Spot  Brewery  Bubble Tea Shop  \\\n",
       "0                 0         0               0        0                0   \n",
       "1                 0         0               0        0                0   \n",
       "2                 0         0               0        0                0   \n",
       "3                 0         0               0        0                0   \n",
       "4                 0         0               0        0                0   \n",
       "\n",
       "   Burger Joint  Burrito Place  Bus Line  Bus Stop  Café  Campground  \\\n",
       "0             0              0         0         0     0           0   \n",
       "1             0              0         0         0     0           0   \n",
       "2             0              0         0         0     0           0   \n",
       "3             0              0         0         0     0           0   \n",
       "4             0              0         0         0     0           0   \n",
       "\n",
       "   Cantonese Restaurant  Caribbean Restaurant  Cheese Shop  \\\n",
       "0                     0                     0            0   \n",
       "1                     0                     0            0   \n",
       "2                     0                     0            0   \n",
       "3                     0                     0            0   \n",
       "4                     0                     0            0   \n",
       "\n",
       "   Chinese Restaurant  Chocolate Shop  Circus  Climbing Gym  Clothing Store  \\\n",
       "0                   0               0       0             0               0   \n",
       "1                   0               0       0             0               0   \n",
       "2                   0               0       0             0               0   \n",
       "3                   0               0       0             0               0   \n",
       "4                   0               0       0             0               0   \n",
       "\n",
       "   Cocktail Bar  Coffee Shop  Comic Shop  Concert Hall  Convenience Store  \\\n",
       "0             0            1           0             0                  0   \n",
       "1             0            1           0             0                  0   \n",
       "2             0            0           0             0                  0   \n",
       "3             0            0           0             0                  0   \n",
       "4             0            0           0             0                  0   \n",
       "\n",
       "   Cosmetics Shop  Coworking Space  Creperie  Curling Ice  Dance Studio  \\\n",
       "0               0                0         0            0             0   \n",
       "1               0                0         0            0             0   \n",
       "2               0                0         0            0             0   \n",
       "3               0                0         0            0             0   \n",
       "4               0                0         0            0             0   \n",
       "\n",
       "   Deli / Bodega  Department Store  Diner  Discount Store  \\\n",
       "0              0                 0      0               0   \n",
       "1              0                 0      0               0   \n",
       "2              0                 0      0               0   \n",
       "3              0                 0      0               0   \n",
       "4              0                 0      0               0   \n",
       "\n",
       "   Distribution Center  Dive Bar  Dog Run  Doner Restaurant  \\\n",
       "0                    0         0        0                 0   \n",
       "1                    0         0        0                 0   \n",
       "2                    0         0        0                 0   \n",
       "3                    0         0        0                 0   \n",
       "4                    0         0        0                 0   \n",
       "\n",
       "   Electronics Store  Falafel Restaurant  Farm  Farmers Market  \\\n",
       "0                  0                   0     0               0   \n",
       "1                  0                   0     0               0   \n",
       "2                  0                   0     0               0   \n",
       "3                  0                   0     0               0   \n",
       "4                  0                   0     0               0   \n",
       "\n",
       "   Fast Food Restaurant  Filipino Restaurant  Fish & Chips Shop  Fish Market  \\\n",
       "0                     0                    0                  0            0   \n",
       "1                     0                    0                  0            0   \n",
       "2                     0                    0                  0            0   \n",
       "3                     0                    0                  0            0   \n",
       "4                     0                    0                  0            0   \n",
       "\n",
       "   Flea Market  Food Court  Food Truck  French Restaurant  \\\n",
       "0            0           0           0                  0   \n",
       "1            0           0           0                  0   \n",
       "2            0           0           0                  0   \n",
       "3            0           0           0                  0   \n",
       "4            0           0           0                  0   \n",
       "\n",
       "   Fried Chicken Joint  Furniture / Home Store  Garden  Gas Station  \\\n",
       "0                    0                       0       0            0   \n",
       "1                    0                       0       0            0   \n",
       "2                    0                       0       0            0   \n",
       "3                    0                       0       0            0   \n",
       "4                    0                       0       0            0   \n",
       "\n",
       "   Gastropub  Gay Bar  Gift Shop  Golf Course  Government Building  \\\n",
       "0          0        0          0            0                    0   \n",
       "1          0        0          0            0                    0   \n",
       "2          0        0          0            0                    0   \n",
       "3          0        0          0            0                    0   \n",
       "4          0        0          0            0                    0   \n",
       "\n",
       "   Greek Restaurant  Grocery Store  Gym  Gym / Fitness Center  \\\n",
       "0                 0              0    0                     0   \n",
       "1                 0              0    0                     0   \n",
       "2                 0              0    0                     0   \n",
       "3                 0              0    0                     0   \n",
       "4                 0              0    0                     0   \n",
       "\n",
       "   Harbor / Marina  Historic Site  Hookah Bar  Hostel  Hotel  Hotel Bar  \\\n",
       "0                0              0           0       0      0          0   \n",
       "1                0              0           0       0      0          0   \n",
       "2                0              0           0       0      0          0   \n",
       "3                0              0           0       0      0          0   \n",
       "4                0              0           0       0      0          0   \n",
       "\n",
       "   Housing Development  Ice Cream Shop  Indian Chinese Restaurant  \\\n",
       "0                    0               0                          0   \n",
       "1                    0               0                          0   \n",
       "2                    0               0                          0   \n",
       "3                    0               0                          0   \n",
       "4                    0               0                          0   \n",
       "\n",
       "   Indian Restaurant  Intersection  Italian Restaurant  Japanese Restaurant  \\\n",
       "0                  0             0                   0                    0   \n",
       "1                  0             0                   0                    0   \n",
       "2                  0             0                   0                    0   \n",
       "3                  0             0                   1                    0   \n",
       "4                  0             0                   0                    0   \n",
       "\n",
       "   Juice Bar  Korean Restaurant  Latin American Restaurant  Liquor Store  \\\n",
       "0          0                  0                          0             0   \n",
       "1          0                  0                          0             0   \n",
       "2          0                  0                          0             0   \n",
       "3          0                  0                          0             0   \n",
       "4          0                  0                          0             0   \n",
       "\n",
       "   Market  Martial Arts School  Medical Center  Mediterranean Restaurant  \\\n",
       "0       0                    0               0                         0   \n",
       "1       0                    0               0                         0   \n",
       "2       0                    0               0                         0   \n",
       "3       0                    0               0                         0   \n",
       "4       0                    0               0                         0   \n",
       "\n",
       "   Men's Store  Mexican Restaurant  Middle Eastern Restaurant  Movie Theater  \\\n",
       "0            0                   0                          0              0   \n",
       "1            0                   0                          0              0   \n",
       "2            0                   0                          0              0   \n",
       "3            0                   0                          0              0   \n",
       "4            0                   0                          0              0   \n",
       "\n",
       "   Moving Target  Music Venue  Neighborhood_cat  New American Restaurant  \\\n",
       "0              0            0                 0                        0   \n",
       "1              0            0                 0                        0   \n",
       "2              0            0                 0                        0   \n",
       "3              0            0                 0                        0   \n",
       "4              0            0                 0                        0   \n",
       "\n",
       "   Nudist Beach  Office  Optical Shop  Organic Grocery  Other Great Outdoors  \\\n",
       "0             0       0             0                0                     0   \n",
       "1             0       0             0                0                     0   \n",
       "2             0       0             0                0                     0   \n",
       "3             0       0             0                0                     0   \n",
       "4             0       0             0                0                     0   \n",
       "\n",
       "   Paper / Office Supplies Store  Park  Performing Arts Venue  Pet Store  \\\n",
       "0                              0     0                      0          0   \n",
       "1                              0     0                      0          0   \n",
       "2                              0     1                      0          0   \n",
       "3                              0     0                      0          0   \n",
       "4                              0     0                      0          0   \n",
       "\n",
       "   Pharmacy  Pizza Place  Plaza  Pool  Pool Hall  Pub  Ramen Restaurant  \\\n",
       "0         0            0      0     0          0    0                 0   \n",
       "1         0            0      0     0          0    0                 0   \n",
       "2         0            0      0     0          0    0                 0   \n",
       "3         0            0      0     0          0    0                 0   \n",
       "4         0            0      0     0          0    0                 0   \n",
       "\n",
       "   Record Shop  Rental Car Location  Residential Building (Apartment / Condo)  \\\n",
       "0            0                    0                                         0   \n",
       "1            0                    0                                         0   \n",
       "2            0                    0                                         0   \n",
       "3            0                    0                                         0   \n",
       "4            0                    0                                         0   \n",
       "\n",
       "   Restaurant  Rock Climbing Spot  Rock Club  Salon / Barbershop  \\\n",
       "0           0                   0          0                   0   \n",
       "1           0                   0          0                   0   \n",
       "2           0                   0          0                   0   \n",
       "3           0                   0          0                   0   \n",
       "4           0                   0          0                   0   \n",
       "\n",
       "   Sandwich Place  Scenic Lookout  Sculpture Garden  Seafood Restaurant  \\\n",
       "0               0               0                 0                   0   \n",
       "1               0               0                 0                   0   \n",
       "2               0               0                 0                   0   \n",
       "3               0               0                 0                   0   \n",
       "4               1               0                 0                   0   \n",
       "\n",
       "   Shopping Mall  Skating Rink  Smoke Shop  Smoothie Shop  Snack Place  Spa  \\\n",
       "0              0             0           0              0            0    0   \n",
       "1              0             0           0              0            0    0   \n",
       "2              0             0           0              0            0    0   \n",
       "3              0             0           0              0            0    0   \n",
       "4              0             0           0              0            0    0   \n",
       "\n",
       "   Spanish Restaurant  Speakeasy  Sporting Goods Shop  Sports Bar  \\\n",
       "0                   0          0                    0           0   \n",
       "1                   0          0                    0           0   \n",
       "2                   0          0                    0           0   \n",
       "3                   0          0                    0           0   \n",
       "4                   0          0                    0           0   \n",
       "\n",
       "   Stationery Store  Steakhouse  Supermarket  Sushi Restaurant  \\\n",
       "0                 0           0            0                 0   \n",
       "1                 0           0            0                 0   \n",
       "2                 0           0            0                 0   \n",
       "3                 0           0            0                 0   \n",
       "4                 0           0            0                 0   \n",
       "\n",
       "   Szechuan Restaurant  Taco Place  Taiwanese Restaurant  Tea Room  \\\n",
       "0                    0           0                     0         0   \n",
       "1                    0           0                     0         0   \n",
       "2                    0           0                     0         0   \n",
       "3                    0           0                     0         0   \n",
       "4                    0           0                     0         0   \n",
       "\n",
       "   Tennis Court  Thai Restaurant  Theater  Theme Restaurant  Track  Trail  \\\n",
       "0             0                0        0                 0      0      0   \n",
       "1             0                0        0                 0      0      0   \n",
       "2             0                0        0                 0      0      0   \n",
       "3             0                0        0                 0      0      0   \n",
       "4             0                0        0                 0      0      0   \n",
       "\n",
       "   Train Station  Vegetarian / Vegan Restaurant  Video Game Store  \\\n",
       "0              0                              0                 0   \n",
       "1              0                              0                 0   \n",
       "2              0                              0                 0   \n",
       "3              0                              0                 0   \n",
       "4              0                              0                 0   \n",
       "\n",
       "   Vietnamese Restaurant  Warehouse Store  Wings Joint  Women's Store  \\\n",
       "0                      0                0            0              0   \n",
       "1                      0                0            0              0   \n",
       "2                      0                0            0              0   \n",
       "3                      0                0            0              0   \n",
       "4                      0                0            0              0   \n",
       "\n",
       "   Xinjiang Restaurant  Yoga Studio  Zoo Exhibit  \n",
       "0                    0            0            0  \n",
       "1                    0            0            0  \n",
       "2                    0            0            0  \n",
       "3                    0            0            0  \n",
       "4                    0            0            0  "
      ],
      "text/html": "<div>\n<style scoped>\n    .dataframe tbody tr th:only-of-type {\n        vertical-align: middle;\n    }\n\n    .dataframe tbody tr th {\n        vertical-align: top;\n    }\n\n    .dataframe thead th {\n        text-align: right;\n    }\n</style>\n<table border=\"1\" class=\"dataframe\">\n  <thead>\n    <tr style=\"text-align: right;\">\n      <th></th>\n      <th>PostalCode</th>\n      <th>Neighborhood</th>\n      <th>African Restaurant</th>\n      <th>Airport</th>\n      <th>Airport Lounge</th>\n      <th>American Restaurant</th>\n      <th>Animal Shelter</th>\n      <th>Antique Shop</th>\n      <th>Art Gallery</th>\n      <th>Arts &amp; Crafts Store</th>\n      <th>Asian Restaurant</th>\n      <th>Athletics &amp; Sports</th>\n      <th>Auto Dealership</th>\n      <th>Auto Garage</th>\n      <th>Automotive Shop</th>\n      <th>BBQ Joint</th>\n      <th>Baby Store</th>\n      <th>Badminton Court</th>\n      <th>Bagel Shop</th>\n      <th>Bakery</th>\n      <th>Bank</th>\n      <th>Bar</th>\n      <th>Baseball Stadium</th>\n      <th>Beer Bar</th>\n      <th>Beer Store</th>\n      <th>Big Box Store</th>\n      <th>Bike Shop</th>\n      <th>Bistro</th>\n      <th>Boat or Ferry</th>\n      <th>Bookstore</th>\n      <th>Botanical Garden</th>\n      <th>Boutique</th>\n      <th>Breakfast Spot</th>\n      <th>Brewery</th>\n      <th>Bubble Tea Shop</th>\n      <th>Burger Joint</th>\n      <th>Burrito Place</th>\n      <th>Bus Line</th>\n      <th>Bus Stop</th>\n      <th>Café</th>\n      <th>Campground</th>\n      <th>Cantonese Restaurant</th>\n      <th>Caribbean Restaurant</th>\n      <th>Cheese Shop</th>\n      <th>Chinese Restaurant</th>\n      <th>Chocolate Shop</th>\n      <th>Circus</th>\n      <th>Climbing Gym</th>\n      <th>Clothing Store</th>\n      <th>Cocktail Bar</th>\n      <th>Coffee Shop</th>\n      <th>Comic Shop</th>\n      <th>Concert Hall</th>\n      <th>Convenience Store</th>\n      <th>Cosmetics Shop</th>\n      <th>Coworking Space</th>\n      <th>Creperie</th>\n      <th>Curling Ice</th>\n      <th>Dance Studio</th>\n      <th>Deli / Bodega</th>\n      <th>Department Store</th>\n      <th>Diner</th>\n      <th>Discount Store</th>\n      <th>Distribution Center</th>\n      <th>Dive Bar</th>\n      <th>Dog Run</th>\n      <th>Doner Restaurant</th>\n      <th>Electronics Store</th>\n      <th>Falafel Restaurant</th>\n      <th>Farm</th>\n      <th>Farmers Market</th>\n      <th>Fast Food Restaurant</th>\n      <th>Filipino Restaurant</th>\n      <th>Fish &amp; Chips Shop</th>\n      <th>Fish Market</th>\n      <th>Flea Market</th>\n      <th>Food Court</th>\n      <th>Food Truck</th>\n      <th>French Restaurant</th>\n      <th>Fried Chicken Joint</th>\n      <th>Furniture / Home Store</th>\n      <th>Garden</th>\n      <th>Gas Station</th>\n      <th>Gastropub</th>\n      <th>Gay Bar</th>\n      <th>Gift Shop</th>\n      <th>Golf Course</th>\n      <th>Government Building</th>\n      <th>Greek Restaurant</th>\n      <th>Grocery Store</th>\n      <th>Gym</th>\n      <th>Gym / Fitness Center</th>\n      <th>Harbor / Marina</th>\n      <th>Historic Site</th>\n      <th>Hookah Bar</th>\n      <th>Hostel</th>\n      <th>Hotel</th>\n      <th>Hotel Bar</th>\n      <th>Housing Development</th>\n      <th>Ice Cream Shop</th>\n      <th>Indian Chinese Restaurant</th>\n      <th>Indian Restaurant</th>\n      <th>Intersection</th>\n      <th>Italian Restaurant</th>\n      <th>Japanese Restaurant</th>\n      <th>Juice Bar</th>\n      <th>Korean Restaurant</th>\n      <th>Latin American Restaurant</th>\n      <th>Liquor Store</th>\n      <th>Market</th>\n      <th>Martial Arts School</th>\n      <th>Medical Center</th>\n      <th>Mediterranean Restaurant</th>\n      <th>Men's Store</th>\n      <th>Mexican Restaurant</th>\n      <th>Middle Eastern Restaurant</th>\n      <th>Movie Theater</th>\n      <th>Moving Target</th>\n      <th>Music Venue</th>\n      <th>Neighborhood_cat</th>\n      <th>New American Restaurant</th>\n      <th>Nudist Beach</th>\n      <th>Office</th>\n      <th>Optical Shop</th>\n      <th>Organic Grocery</th>\n      <th>Other Great Outdoors</th>\n      <th>Paper / Office Supplies Store</th>\n      <th>Park</th>\n      <th>Performing Arts Venue</th>\n      <th>Pet Store</th>\n      <th>Pharmacy</th>\n      <th>Pizza Place</th>\n      <th>Plaza</th>\n      <th>Pool</th>\n      <th>Pool Hall</th>\n      <th>Pub</th>\n      <th>Ramen Restaurant</th>\n      <th>Record Shop</th>\n      <th>Rental Car Location</th>\n      <th>Residential Building (Apartment / Condo)</th>\n      <th>Restaurant</th>\n      <th>Rock Climbing Spot</th>\n      <th>Rock Club</th>\n      <th>Salon / Barbershop</th>\n      <th>Sandwich Place</th>\n      <th>Scenic Lookout</th>\n      <th>Sculpture Garden</th>\n      <th>Seafood Restaurant</th>\n      <th>Shopping Mall</th>\n      <th>Skating Rink</th>\n      <th>Smoke Shop</th>\n      <th>Smoothie Shop</th>\n      <th>Snack Place</th>\n      <th>Spa</th>\n      <th>Spanish Restaurant</th>\n      <th>Speakeasy</th>\n      <th>Sporting Goods Shop</th>\n      <th>Sports Bar</th>\n      <th>Stationery Store</th>\n      <th>Steakhouse</th>\n      <th>Supermarket</th>\n      <th>Sushi Restaurant</th>\n      <th>Szechuan Restaurant</th>\n      <th>Taco Place</th>\n      <th>Taiwanese Restaurant</th>\n      <th>Tea Room</th>\n      <th>Tennis Court</th>\n      <th>Thai Restaurant</th>\n      <th>Theater</th>\n      <th>Theme Restaurant</th>\n      <th>Track</th>\n      <th>Trail</th>\n      <th>Train Station</th>\n      <th>Vegetarian / Vegan Restaurant</th>\n      <th>Video Game Store</th>\n      <th>Vietnamese Restaurant</th>\n      <th>Warehouse Store</th>\n      <th>Wings Joint</th>\n      <th>Women's Store</th>\n      <th>Xinjiang Restaurant</th>\n      <th>Yoga Studio</th>\n      <th>Zoo Exhibit</th>\n    </tr>\n  </thead>\n  <tbody>\n    <tr>\n      <th>0</th>\n      <td>M5G</td>\n      <td>Central Bay Street</td>\n      <td>0</td>\n      <td>0</td>\n      <td>0</td>\n      <td>0</td>\n      <td>0</td>\n      <td>0</td>\n      <td>0</td>\n      <td>0</td>\n      <td>0</td>\n      <td>0</td>\n      <td>0</td>\n      <td>0</td>\n      <td>0</td>\n      <td>0</td>\n      <td>0</td>\n      <td>0</td>\n      <td>0</td>\n      <td>0</td>\n      <td>0</td>\n      <td>0</td>\n      <td>0</td>\n      <td>0</td>\n      <td>0</td>\n      <td>0</td>\n      <td>0</td>\n      <td>0</td>\n      <td>0</td>\n      <td>0</td>\n      <td>0</td>\n      <td>0</td>\n      <td>0</td>\n      <td>0</td>\n      <td>0</td>\n      <td>0</td>\n      <td>0</td>\n      <td>0</td>\n      <td>0</td>\n      <td>0</td>\n      <td>0</td>\n      <td>0</td>\n      <td>0</td>\n      <td>0</td>\n      <td>0</td>\n      <td>0</td>\n      <td>0</td>\n      <td>0</td>\n      <td>0</td>\n      <td>0</td>\n      <td>1</td>\n      <td>0</td>\n      <td>0</td>\n      <td>0</td>\n      <td>0</td>\n      <td>0</td>\n      <td>0</td>\n      <td>0</td>\n      <td>0</td>\n      <td>0</td>\n      <td>0</td>\n      <td>0</td>\n      <td>0</td>\n      <td>0</td>\n      <td>0</td>\n      <td>0</td>\n      <td>0</td>\n      <td>0</td>\n      <td>0</td>\n      <td>0</td>\n      <td>0</td>\n      <td>0</td>\n      <td>0</td>\n      <td>0</td>\n      <td>0</td>\n      <td>0</td>\n      <td>0</td>\n      <td>0</td>\n      <td>0</td>\n      <td>0</td>\n      <td>0</td>\n      <td>0</td>\n      <td>0</td>\n      <td>0</td>\n      <td>0</td>\n      <td>0</td>\n      <td>0</td>\n      <td>0</td>\n      <td>0</td>\n      <td>0</td>\n      <td>0</td>\n      <td>0</td>\n      <td>0</td>\n      <td>0</td>\n      <td>0</td>\n      <td>0</td>\n      <td>0</td>\n      <td>0</td>\n      <td>0</td>\n      <td>0</td>\n      <td>0</td>\n      <td>0</td>\n      <td>0</td>\n      <td>0</td>\n      <td>0</td>\n      <td>0</td>\n      <td>0</td>\n      <td>0</td>\n      <td>0</td>\n      <td>0</td>\n      <td>0</td>\n      <td>0</td>\n      <td>0</td>\n      <td>0</td>\n      <td>0</td>\n      <td>0</td>\n      <td>0</td>\n      <td>0</td>\n      <td>0</td>\n      <td>0</td>\n      <td>0</td>\n      <td>0</td>\n      <td>0</td>\n      <td>0</td>\n      <td>0</td>\n      <td>0</td>\n      <td>0</td>\n      <td>0</td>\n      <td>0</td>\n      <td>0</td>\n      <td>0</td>\n      <td>0</td>\n      <td>0</td>\n      <td>0</td>\n      <td>0</td>\n      <td>0</td>\n      <td>0</td>\n      <td>0</td>\n      <td>0</td>\n      <td>0</td>\n      <td>0</td>\n      <td>0</td>\n      <td>0</td>\n      <td>0</td>\n      <td>0</td>\n      <td>0</td>\n      <td>0</td>\n      <td>0</td>\n      <td>0</td>\n      <td>0</td>\n      <td>0</td>\n      <td>0</td>\n      <td>0</td>\n      <td>0</td>\n      <td>0</td>\n      <td>0</td>\n      <td>0</td>\n      <td>0</td>\n      <td>0</td>\n      <td>0</td>\n      <td>0</td>\n      <td>0</td>\n      <td>0</td>\n      <td>0</td>\n      <td>0</td>\n      <td>0</td>\n      <td>0</td>\n      <td>0</td>\n      <td>0</td>\n      <td>0</td>\n      <td>0</td>\n      <td>0</td>\n      <td>0</td>\n      <td>0</td>\n      <td>0</td>\n      <td>0</td>\n      <td>0</td>\n      <td>0</td>\n      <td>0</td>\n      <td>0</td>\n      <td>0</td>\n      <td>0</td>\n    </tr>\n    <tr>\n      <th>1</th>\n      <td>M5G</td>\n      <td>Central Bay Street</td>\n      <td>0</td>\n      <td>0</td>\n      <td>0</td>\n      <td>0</td>\n      <td>0</td>\n      <td>0</td>\n      <td>0</td>\n      <td>0</td>\n      <td>0</td>\n      <td>0</td>\n      <td>0</td>\n      <td>0</td>\n      <td>0</td>\n      <td>0</td>\n      <td>0</td>\n      <td>0</td>\n      <td>0</td>\n      <td>0</td>\n      <td>0</td>\n      <td>0</td>\n      <td>0</td>\n      <td>0</td>\n      <td>0</td>\n      <td>0</td>\n      <td>0</td>\n      <td>0</td>\n      <td>0</td>\n      <td>0</td>\n      <td>0</td>\n      <td>0</td>\n      <td>0</td>\n      <td>0</td>\n      <td>0</td>\n      <td>0</td>\n      <td>0</td>\n      <td>0</td>\n      <td>0</td>\n      <td>0</td>\n      <td>0</td>\n      <td>0</td>\n      <td>0</td>\n      <td>0</td>\n      <td>0</td>\n      <td>0</td>\n      <td>0</td>\n      <td>0</td>\n      <td>0</td>\n      <td>0</td>\n      <td>1</td>\n      <td>0</td>\n      <td>0</td>\n      <td>0</td>\n      <td>0</td>\n      <td>0</td>\n      <td>0</td>\n      <td>0</td>\n      <td>0</td>\n      <td>0</td>\n      <td>0</td>\n      <td>0</td>\n      <td>0</td>\n      <td>0</td>\n      <td>0</td>\n      <td>0</td>\n      <td>0</td>\n      <td>0</td>\n      <td>0</td>\n      <td>0</td>\n      <td>0</td>\n      <td>0</td>\n      <td>0</td>\n      <td>0</td>\n      <td>0</td>\n      <td>0</td>\n      <td>0</td>\n      <td>0</td>\n      <td>0</td>\n      <td>0</td>\n      <td>0</td>\n      <td>0</td>\n      <td>0</td>\n      <td>0</td>\n      <td>0</td>\n      <td>0</td>\n      <td>0</td>\n      <td>0</td>\n      <td>0</td>\n      <td>0</td>\n      <td>0</td>\n      <td>0</td>\n      <td>0</td>\n      <td>0</td>\n      <td>0</td>\n      <td>0</td>\n      <td>0</td>\n      <td>0</td>\n      <td>0</td>\n      <td>0</td>\n      <td>0</td>\n      <td>0</td>\n      <td>0</td>\n      <td>0</td>\n      <td>0</td>\n      <td>0</td>\n      <td>0</td>\n      <td>0</td>\n      <td>0</td>\n      <td>0</td>\n      <td>0</td>\n      <td>0</td>\n      <td>0</td>\n      <td>0</td>\n      <td>0</td>\n      <td>0</td>\n      <td>0</td>\n      <td>0</td>\n      <td>0</td>\n      <td>0</td>\n      <td>0</td>\n      <td>0</td>\n      <td>0</td>\n      <td>0</td>\n      <td>0</td>\n      <td>0</td>\n      <td>0</td>\n      <td>0</td>\n      <td>0</td>\n      <td>0</td>\n      <td>0</td>\n      <td>0</td>\n      <td>0</td>\n      <td>0</td>\n      <td>0</td>\n      <td>0</td>\n      <td>0</td>\n      <td>0</td>\n      <td>0</td>\n      <td>0</td>\n      <td>0</td>\n      <td>0</td>\n      <td>0</td>\n      <td>0</td>\n      <td>0</td>\n      <td>0</td>\n      <td>0</td>\n      <td>0</td>\n      <td>0</td>\n      <td>0</td>\n      <td>0</td>\n      <td>0</td>\n      <td>0</td>\n      <td>0</td>\n      <td>0</td>\n      <td>0</td>\n      <td>0</td>\n      <td>0</td>\n      <td>0</td>\n      <td>0</td>\n      <td>0</td>\n      <td>0</td>\n      <td>0</td>\n      <td>0</td>\n      <td>0</td>\n      <td>0</td>\n      <td>0</td>\n      <td>0</td>\n      <td>0</td>\n      <td>0</td>\n      <td>0</td>\n      <td>0</td>\n      <td>0</td>\n      <td>0</td>\n      <td>0</td>\n      <td>0</td>\n      <td>0</td>\n      <td>0</td>\n      <td>0</td>\n      <td>0</td>\n      <td>0</td>\n      <td>0</td>\n    </tr>\n    <tr>\n      <th>2</th>\n      <td>M5G</td>\n      <td>Central Bay Street</td>\n      <td>0</td>\n      <td>0</td>\n      <td>0</td>\n      <td>0</td>\n      <td>0</td>\n      <td>0</td>\n      <td>0</td>\n      <td>0</td>\n      <td>0</td>\n      <td>0</td>\n      <td>0</td>\n      <td>0</td>\n      <td>0</td>\n      <td>0</td>\n      <td>0</td>\n      <td>0</td>\n      <td>0</td>\n      <td>0</td>\n      <td>0</td>\n      <td>0</td>\n      <td>0</td>\n      <td>0</td>\n      <td>0</td>\n      <td>0</td>\n      <td>0</td>\n      <td>0</td>\n      <td>0</td>\n      <td>0</td>\n      <td>0</td>\n      <td>0</td>\n      <td>0</td>\n      <td>0</td>\n      <td>0</td>\n      <td>0</td>\n      <td>0</td>\n      <td>0</td>\n      <td>0</td>\n      <td>0</td>\n      <td>0</td>\n      <td>0</td>\n      <td>0</td>\n      <td>0</td>\n      <td>0</td>\n      <td>0</td>\n      <td>0</td>\n      <td>0</td>\n      <td>0</td>\n      <td>0</td>\n      <td>0</td>\n      <td>0</td>\n      <td>0</td>\n      <td>0</td>\n      <td>0</td>\n      <td>0</td>\n      <td>0</td>\n      <td>0</td>\n      <td>0</td>\n      <td>0</td>\n      <td>0</td>\n      <td>0</td>\n      <td>0</td>\n      <td>0</td>\n      <td>0</td>\n      <td>0</td>\n      <td>0</td>\n      <td>0</td>\n      <td>0</td>\n      <td>0</td>\n      <td>0</td>\n      <td>0</td>\n      <td>0</td>\n      <td>0</td>\n      <td>0</td>\n      <td>0</td>\n      <td>0</td>\n      <td>0</td>\n      <td>0</td>\n      <td>0</td>\n      <td>0</td>\n      <td>0</td>\n      <td>0</td>\n      <td>0</td>\n      <td>0</td>\n      <td>0</td>\n      <td>0</td>\n      <td>0</td>\n      <td>0</td>\n      <td>0</td>\n      <td>0</td>\n      <td>0</td>\n      <td>0</td>\n      <td>0</td>\n      <td>0</td>\n      <td>0</td>\n      <td>0</td>\n      <td>0</td>\n      <td>0</td>\n      <td>0</td>\n      <td>0</td>\n      <td>0</td>\n      <td>0</td>\n      <td>0</td>\n      <td>0</td>\n      <td>0</td>\n      <td>0</td>\n      <td>0</td>\n      <td>0</td>\n      <td>0</td>\n      <td>0</td>\n      <td>0</td>\n      <td>0</td>\n      <td>0</td>\n      <td>0</td>\n      <td>0</td>\n      <td>0</td>\n      <td>0</td>\n      <td>0</td>\n      <td>0</td>\n      <td>0</td>\n      <td>0</td>\n      <td>0</td>\n      <td>0</td>\n      <td>0</td>\n      <td>0</td>\n      <td>0</td>\n      <td>1</td>\n      <td>0</td>\n      <td>0</td>\n      <td>0</td>\n      <td>0</td>\n      <td>0</td>\n      <td>0</td>\n      <td>0</td>\n      <td>0</td>\n      <td>0</td>\n      <td>0</td>\n      <td>0</td>\n      <td>0</td>\n      <td>0</td>\n      <td>0</td>\n      <td>0</td>\n      <td>0</td>\n      <td>0</td>\n      <td>0</td>\n      <td>0</td>\n      <td>0</td>\n      <td>0</td>\n      <td>0</td>\n      <td>0</td>\n      <td>0</td>\n      <td>0</td>\n      <td>0</td>\n      <td>0</td>\n      <td>0</td>\n      <td>0</td>\n      <td>0</td>\n      <td>0</td>\n      <td>0</td>\n      <td>0</td>\n      <td>0</td>\n      <td>0</td>\n      <td>0</td>\n      <td>0</td>\n      <td>0</td>\n      <td>0</td>\n      <td>0</td>\n      <td>0</td>\n      <td>0</td>\n      <td>0</td>\n      <td>0</td>\n      <td>0</td>\n      <td>0</td>\n      <td>0</td>\n      <td>0</td>\n      <td>0</td>\n      <td>0</td>\n      <td>0</td>\n      <td>0</td>\n      <td>0</td>\n      <td>0</td>\n    </tr>\n    <tr>\n      <th>3</th>\n      <td>M5G</td>\n      <td>Central Bay Street</td>\n      <td>0</td>\n      <td>0</td>\n      <td>0</td>\n      <td>0</td>\n      <td>0</td>\n      <td>0</td>\n      <td>0</td>\n      <td>0</td>\n      <td>0</td>\n      <td>0</td>\n      <td>0</td>\n      <td>0</td>\n      <td>0</td>\n      <td>0</td>\n      <td>0</td>\n      <td>0</td>\n      <td>0</td>\n      <td>0</td>\n      <td>0</td>\n      <td>0</td>\n      <td>0</td>\n      <td>0</td>\n      <td>0</td>\n      <td>0</td>\n      <td>0</td>\n      <td>0</td>\n      <td>0</td>\n      <td>0</td>\n      <td>0</td>\n      <td>0</td>\n      <td>0</td>\n      <td>0</td>\n      <td>0</td>\n      <td>0</td>\n      <td>0</td>\n      <td>0</td>\n      <td>0</td>\n      <td>0</td>\n      <td>0</td>\n      <td>0</td>\n      <td>0</td>\n      <td>0</td>\n      <td>0</td>\n      <td>0</td>\n      <td>0</td>\n      <td>0</td>\n      <td>0</td>\n      <td>0</td>\n      <td>0</td>\n      <td>0</td>\n      <td>0</td>\n      <td>0</td>\n      <td>0</td>\n      <td>0</td>\n      <td>0</td>\n      <td>0</td>\n      <td>0</td>\n      <td>0</td>\n      <td>0</td>\n      <td>0</td>\n      <td>0</td>\n      <td>0</td>\n      <td>0</td>\n      <td>0</td>\n      <td>0</td>\n      <td>0</td>\n      <td>0</td>\n      <td>0</td>\n      <td>0</td>\n      <td>0</td>\n      <td>0</td>\n      <td>0</td>\n      <td>0</td>\n      <td>0</td>\n      <td>0</td>\n      <td>0</td>\n      <td>0</td>\n      <td>0</td>\n      <td>0</td>\n      <td>0</td>\n      <td>0</td>\n      <td>0</td>\n      <td>0</td>\n      <td>0</td>\n      <td>0</td>\n      <td>0</td>\n      <td>0</td>\n      <td>0</td>\n      <td>0</td>\n      <td>0</td>\n      <td>0</td>\n      <td>0</td>\n      <td>0</td>\n      <td>0</td>\n      <td>0</td>\n      <td>0</td>\n      <td>0</td>\n      <td>0</td>\n      <td>0</td>\n      <td>0</td>\n      <td>0</td>\n      <td>1</td>\n      <td>0</td>\n      <td>0</td>\n      <td>0</td>\n      <td>0</td>\n      <td>0</td>\n      <td>0</td>\n      <td>0</td>\n      <td>0</td>\n      <td>0</td>\n      <td>0</td>\n      <td>0</td>\n      <td>0</td>\n      <td>0</td>\n      <td>0</td>\n      <td>0</td>\n      <td>0</td>\n      <td>0</td>\n      <td>0</td>\n      <td>0</td>\n      <td>0</td>\n      <td>0</td>\n      <td>0</td>\n      <td>0</td>\n      <td>0</td>\n      <td>0</td>\n      <td>0</td>\n      <td>0</td>\n      <td>0</td>\n      <td>0</td>\n      <td>0</td>\n      <td>0</td>\n      <td>0</td>\n      <td>0</td>\n      <td>0</td>\n      <td>0</td>\n      <td>0</td>\n      <td>0</td>\n      <td>0</td>\n      <td>0</td>\n      <td>0</td>\n      <td>0</td>\n      <td>0</td>\n      <td>0</td>\n      <td>0</td>\n      <td>0</td>\n      <td>0</td>\n      <td>0</td>\n      <td>0</td>\n      <td>0</td>\n      <td>0</td>\n      <td>0</td>\n      <td>0</td>\n      <td>0</td>\n      <td>0</td>\n      <td>0</td>\n      <td>0</td>\n      <td>0</td>\n      <td>0</td>\n      <td>0</td>\n      <td>0</td>\n      <td>0</td>\n      <td>0</td>\n      <td>0</td>\n      <td>0</td>\n      <td>0</td>\n      <td>0</td>\n      <td>0</td>\n      <td>0</td>\n      <td>0</td>\n      <td>0</td>\n      <td>0</td>\n      <td>0</td>\n      <td>0</td>\n      <td>0</td>\n      <td>0</td>\n      <td>0</td>\n      <td>0</td>\n      <td>0</td>\n    </tr>\n    <tr>\n      <th>4</th>\n      <td>M5G</td>\n      <td>Central Bay Street</td>\n      <td>0</td>\n      <td>0</td>\n      <td>0</td>\n      <td>0</td>\n      <td>0</td>\n      <td>0</td>\n      <td>0</td>\n      <td>0</td>\n      <td>0</td>\n      <td>0</td>\n      <td>0</td>\n      <td>0</td>\n      <td>0</td>\n      <td>0</td>\n      <td>0</td>\n      <td>0</td>\n      <td>0</td>\n      <td>0</td>\n      <td>0</td>\n      <td>0</td>\n      <td>0</td>\n      <td>0</td>\n      <td>0</td>\n      <td>0</td>\n      <td>0</td>\n      <td>0</td>\n      <td>0</td>\n      <td>0</td>\n      <td>0</td>\n      <td>0</td>\n      <td>0</td>\n      <td>0</td>\n      <td>0</td>\n      <td>0</td>\n      <td>0</td>\n      <td>0</td>\n      <td>0</td>\n      <td>0</td>\n      <td>0</td>\n      <td>0</td>\n      <td>0</td>\n      <td>0</td>\n      <td>0</td>\n      <td>0</td>\n      <td>0</td>\n      <td>0</td>\n      <td>0</td>\n      <td>0</td>\n      <td>0</td>\n      <td>0</td>\n      <td>0</td>\n      <td>0</td>\n      <td>0</td>\n      <td>0</td>\n      <td>0</td>\n      <td>0</td>\n      <td>0</td>\n      <td>0</td>\n      <td>0</td>\n      <td>0</td>\n      <td>0</td>\n      <td>0</td>\n      <td>0</td>\n      <td>0</td>\n      <td>0</td>\n      <td>0</td>\n      <td>0</td>\n      <td>0</td>\n      <td>0</td>\n      <td>0</td>\n      <td>0</td>\n      <td>0</td>\n      <td>0</td>\n      <td>0</td>\n      <td>0</td>\n      <td>0</td>\n      <td>0</td>\n      <td>0</td>\n      <td>0</td>\n      <td>0</td>\n      <td>0</td>\n      <td>0</td>\n      <td>0</td>\n      <td>0</td>\n      <td>0</td>\n      <td>0</td>\n      <td>0</td>\n      <td>0</td>\n      <td>0</td>\n      <td>0</td>\n      <td>0</td>\n      <td>0</td>\n      <td>0</td>\n      <td>0</td>\n      <td>0</td>\n      <td>0</td>\n      <td>0</td>\n      <td>0</td>\n      <td>0</td>\n      <td>0</td>\n      <td>0</td>\n      <td>0</td>\n      <td>0</td>\n      <td>0</td>\n      <td>0</td>\n      <td>0</td>\n      <td>0</td>\n      <td>0</td>\n      <td>0</td>\n      <td>0</td>\n      <td>0</td>\n      <td>0</td>\n      <td>0</td>\n      <td>0</td>\n      <td>0</td>\n      <td>0</td>\n      <td>0</td>\n      <td>0</td>\n      <td>0</td>\n      <td>0</td>\n      <td>0</td>\n      <td>0</td>\n      <td>0</td>\n      <td>0</td>\n      <td>0</td>\n      <td>0</td>\n      <td>0</td>\n      <td>0</td>\n      <td>0</td>\n      <td>0</td>\n      <td>0</td>\n      <td>0</td>\n      <td>0</td>\n      <td>0</td>\n      <td>0</td>\n      <td>0</td>\n      <td>0</td>\n      <td>0</td>\n      <td>0</td>\n      <td>0</td>\n      <td>0</td>\n      <td>0</td>\n      <td>1</td>\n      <td>0</td>\n      <td>0</td>\n      <td>0</td>\n      <td>0</td>\n      <td>0</td>\n      <td>0</td>\n      <td>0</td>\n      <td>0</td>\n      <td>0</td>\n      <td>0</td>\n      <td>0</td>\n      <td>0</td>\n      <td>0</td>\n      <td>0</td>\n      <td>0</td>\n      <td>0</td>\n      <td>0</td>\n      <td>0</td>\n      <td>0</td>\n      <td>0</td>\n      <td>0</td>\n      <td>0</td>\n      <td>0</td>\n      <td>0</td>\n      <td>0</td>\n      <td>0</td>\n      <td>0</td>\n      <td>0</td>\n      <td>0</td>\n      <td>0</td>\n      <td>0</td>\n      <td>0</td>\n      <td>0</td>\n      <td>0</td>\n      <td>0</td>\n      <td>0</td>\n      <td>0</td>\n    </tr>\n  </tbody>\n</table>\n</div>"
     },
     "metadata": {},
     "execution_count": 122
    }
   ],
   "source": [
    "# one hot encoding\n",
    "toronto_onehot = pd.get_dummies(toronto_venues[['Venue Category']], prefix=\"\", prefix_sep=\"\")\n",
    "\n",
    "#add PostalCode and Neighborhood column\n",
    "if 'Neighborhood' in toronto_onehot.columns:\n",
    "    toronto_onehot.rename(columns={'Neighborhood':'Neighborhood_cat'},inplace=True) #one of the categories is named Neighborhood and creates conflicts\n",
    "\n",
    "cols = ['Neighborhood', 'PostalCode']\n",
    "for col in cols:\n",
    "    ls = toronto_venues[col]\n",
    "    toronto_onehot.insert(loc=0,column=col,value=ls)\n",
    "\n",
    "toronto_onehot.head()"
   ]
  },
  {
   "source": [
    "Group rows by postalcode area and by take the mean of the frequency of occurrence of each category"
   ],
   "cell_type": "markdown",
   "metadata": {}
  },
  {
   "cell_type": "code",
   "execution_count": 126,
   "metadata": {},
   "outputs": [
    {
     "output_type": "execute_result",
     "data": {
      "text/plain": [
       "am Shop  \\\n",
       "0   0.000000       0.00             0.000000        0.000000   \n",
       "1   0.000000       0.00             0.000000        0.057143   \n",
       "2   0.000000       0.00             0.000000        0.000000   \n",
       "3   0.000000       0.00             0.000000        0.000000   \n",
       "4   0.000000       0.00             0.000000        0.000000   \n",
       "5   0.000000       0.00             0.013158        0.013158   \n",
       "6   0.010000       0.01             0.000000        0.020000   \n",
       "7   0.020000       0.01             0.000000        0.000000   \n",
       "8   0.010000       0.00             0.000000        0.000000   \n",
       "9   0.029412       0.00             0.000000        0.029412   \n",
       "10  0.000000       0.00             0.000000        0.000000   \n",
       "11  0.000000       0.00             0.000000        0.032258   \n",
       "\n",
       "    Indian Chinese Restaurant  Indian Restaurant  Intersection  \\\n",
       "0                    0.000000           0.000000      0.000000   \n",
       "1                    0.000000           0.028571      0.028571   \n",
       "2                    0.018868           0.018868      0.037736   \n",
       "3                    0.000000           0.000000      0.055556   \n",
       "4                    0.000000           0.029412      0.058824   \n",
       "5                    0.000000           0.065789      0.026316   \n",
       "6                    0.000000           0.000000      0.000000   \n",
       "7                    0.000000           0.000000      0.000000   \n",
       "8                    0.000000           0.000000      0.000000   \n",
       "9                    0.000000           0.000000      0.000000   \n",
       "10                   0.000000           0.000000      0.000000   \n",
       "11                   0.000000           0.032258      0.000000   \n",
       "\n",
       "    Italian Restaurant  Japanese Restaurant  Juice Bar  Korean Restaurant  \\\n",
       "0             0.000000             0.000000       0.00           0.000000   \n",
       "1             0.000000             0.028571       0.00           0.000000   \n",
       "2             0.018868             0.000000       0.00           0.018868   \n",
       "3             0.000000             0.000000       0.00           0.018519   \n",
       "4             0.000000             0.000000       0.00           0.000000   \n",
       "5             0.000000             0.013158       0.00           0.000000   \n",
       "6             0.020000             0.000000       0.00           0.000000   \n",
       "7             0.030000             0.030000       0.00           0.000000   \n",
       "8             0.010000             0.020000       0.01           0.000000   \n",
       "9             0.000000             0.000000       0.00           0.000000   \n",
       "10            0.052632             0.052632       0.00           0.000000   \n",
       "11            0.000000             0.000000       0.00           0.000000   \n",
       "\n",
       "    Latin American Restaurant  Liquor Store    Market  Martial Arts School  \\\n",
       "0                        0.00      0.031250  0.000000             0.000000   \n",
       "1                        0.00      0.028571  0.000000             0.000000   \n",
       "2                        0.00      0.000000  0.000000             0.000000   \n",
       "3                        0.00      0.000000  0.000000             0.000000   \n",
       "4                        0.00      0.000000  0.000000             0.029412   \n",
       "5                        0.00      0.013158  0.000000             0.000000   \n",
       "6                        0.01      0.000000  0.000000             0.000000   \n",
       "7                        0.00      0.000000  0.000000             0.000000   \n",
       "8                        0.00      0.000000  0.000000             0.000000   \n",
       "9                        0.00      0.000000  0.014706             0.000000   \n",
       "10                       0.00      0.000000  0.000000             0.000000   \n",
       "11                       0.00      0.000000  0.000000             0.000000   \n",
       "\n",
       "    Medical Center  Mediterranean Restaurant  Men's Store  Mexican Restaurant  \\\n",
       "0         0.000000                  0.000000     0.000000            0.000000   \n",
       "1         0.000000                  0.000000     0.000000            0.000000   \n",
       "2         0.018868                  0.018868     0.000000            0.000000   \n",
       "3         0.000000                  0.000000     0.000000            0.000000   \n",
       "4         0.000000                  0.000000     0.029412            0.029412   \n",
       "5         0.000000                  0.000000     0.000000            0.000000   \n",
       "6         0.000000                  0.010000     0.000000            0.000000   \n",
       "7         0.000000                  0.010000     0.000000            0.000000   \n",
       "8         0.000000                  0.010000     0.010000            0.020000   \n",
       "9         0.000000                  0.000000     0.000000            0.000000   \n",
       "10        0.000000                  0.000000     0.000000            0.052632   \n",
       "11        0.000000                  0.000000     0.000000            0.000000   \n",
       "\n",
       "    Middle Eastern Restaurant  Movie Theater  Moving Target  Music Venue  \\\n",
       "0                    0.000000           0.00       0.000000         0.00   \n",
       "1                    0.000000           0.00       0.000000         0.00   \n",
       "2                    0.075472           0.00       0.018868         0.00   \n",
       "3                    0.000000           0.00       0.000000         0.00   \n",
       "4                    0.000000           0.00       0.000000         0.00   \n",
       "5                    0.013158           0.00       0.000000         0.00   \n",
       "6                    0.010000           0.00       0.000000         0.00   \n",
       "7                    0.020000           0.01       0.000000         0.00   \n",
       "8                    0.000000           0.00       0.000000         0.01   \n",
       "9                    0.000000           0.00       0.000000         0.00   \n",
       "10                   0.000000           0.00       0.000000         0.00   \n",
       "11                   0.000000           0.00       0.000000         0.00   \n",
       "\n",
       "    Neighborhood_cat  New American Restaurant  Nudist Beach    Office  \\\n",
       "0               0.00                     0.00      0.000000  0.000000   \n",
       "1               0.00                     0.00      0.000000  0.000000   \n",
       "2               0.00                     0.00      0.000000  0.000000   \n",
       "3               0.00                     0.00      0.000000  0.000000   \n",
       "4               0.00                     0.00      0.000000  0.029412   \n",
       "5               0.00                     0.00      0.000000  0.000000   \n",
       "6               0.01                     0.00      0.000000  0.000000   \n",
       "7               0.00                     0.00      0.000000  0.000000   \n",
       "8               0.01                     0.01      0.000000  0.000000   \n",
       "9               0.00                     0.00      0.014706  0.000000   \n",
       "10              0.00                     0.00      0.000000  0.000000   \n",
       "11              0.00                     0.00      0.000000  0.000000   \n",
       "\n",
       "    Optical Shop  Organic Grocery  Other Great Outdoors  \\\n",
       "0       0.000000             0.00               0.03125   \n",
       "1       0.028571             0.00               0.00000   \n",
       "2       0.000000             0.00               0.00000   \n",
       "3       0.000000             0.00               0.00000   \n",
       "4       0.000000             0.00               0.00000   \n",
       "5       0.000000             0.00               0.00000   \n",
       "6       0.000000             0.00               0.00000   \n",
       "7       0.000000             0.00               0.00000   \n",
       "8       0.000000             0.01               0.00000   \n",
       "9       0.000000             0.00               0.00000   \n",
       "10      0.000000             0.00               0.00000   \n",
       "11      0.000000             0.00               0.00000   \n",
       "\n",
       "    Paper / Office Supplies Store      Park  Performing Arts Venue  Pet Store  \\\n",
       "0                        0.031250  0.031250               0.000000   0.000000   \n",
       "1                        0.000000  0.028571               0.000000   0.000000   \n",
       "2                        0.000000  0.018868               0.000000   0.000000   \n",
       "3                        0.000000  0.074074               0.000000   0.000000   \n",
       "4                        0.000000  0.058824               0.000000   0.000000   \n",
       "5                        0.013158  0.026316               0.000000   0.013158   \n",
       "6                        0.000000  0.040000               0.000000   0.020000   \n",
       "7                        0.000000  0.040000               0.020000   0.010000   \n",
       "8                        0.000000  0.050000               0.000000   0.000000   \n",
       "9                        0.000000  0.117647               0.014706   0.000000   \n",
       "10                       0.000000  0.157895               0.000000   0.000000   \n",
       "11                       0.000000  0.000000               0.000000   0.000000   \n",
       "\n",
       "    Pharmacy  Pizza Place     Plaza  Pool  Pool Hall   Pub  Ramen Restaurant  \\\n",
       "0   0.000000     0.062500  0.000000  0.00   0.000000  0.00          0.000000   \n",
       "1   0.085714     0.057143  0.000000  0.00   0.000000  0.00          0.000000   \n",
       "2   0.018868     0.056604  0.018868  0.00   0.018868  0.00          0.000000   \n",
       "3   0.074074     0.037037  0.000000  0.00   0.000000  0.00          0.000000   \n",
       "4   0.088235     0.088235  0.000000  0.00   0.000000  0.00          0.000000   \n",
       "5   0.013158     0.013158  0.000000  0.00   0.000000  0.00          0.000000   \n",
       "6   0.010000     0.030000  0.000000  0.00   0.000000  0.03          0.000000   \n",
       "7   0.000000     0.010000  0.000000  0.01   0.000000  0.03          0.000000   \n",
       "8   0.000000     0.030000  0.020000  0.00   0.000000  0.01          0.030000   \n",
       "9   0.000000     0.029412  0.000000  0.00   0.000000  0.00          0.014706   \n",
       "10  0.052632     0.000000  0.000000  0.00   0.000000  0.00          0.000000   \n",
       "11  0.032258     0.096774  0.000000  0.00   0.000000  0.00          0.000000   \n",
       "\n",
       "    Record Shop  Rental Car Location  \\\n",
       "0          0.00             0.000000   \n",
       "1          0.00             0.000000   \n",
       "2          0.00             0.037736   \n",
       "3          0.00             0.000000   \n",
       "4          0.00             0.000000   \n",
       "5          0.00             0.000000   \n",
       "6          0.00             0.000000   \n",
       "7          0.00             0.000000   \n",
       "8          0.01             0.000000   \n",
       "9          0.00             0.000000   \n",
       "10         0.00             0.000000   \n",
       "11         0.00             0.000000   \n",
       "\n",
       "    Residential Building (Apartment / Condo)  Restaurant  Rock Climbing Spot  \\\n",
       "0                                   0.000000    0.062500            0.000000   \n",
       "1                                   0.000000    0.000000            0.000000   \n",
       "2                                   0.000000    0.037736            0.000000   \n",
       "3                                   0.018519    0.000000            0.000000   \n",
       "4                                   0.000000    0.029412            0.029412   \n",
       "5                                   0.000000    0.039474            0.000000   \n",
       "6                                   0.000000    0.030000            0.000000   \n",
       "7                                   0.000000    0.050000            0.000000   \n",
       "8                                   0.000000    0.050000            0.000000   \n",
       "9                                   0.000000    0.029412            0.000000   \n",
       "10                                  0.000000    0.000000            0.000000   \n",
       "11                                  0.000000    0.032258            0.000000   \n",
       "\n",
       "    Rock Club  Salon / Barbershop  Sandwich Place  Scenic Lookout  \\\n",
       "0        0.00                0.00        0.000000        0.000000   \n",
       "1        0.00                0.00        0.114286        0.000000   \n",
       "2        0.00                0.00        0.037736        0.000000   \n",
       "3        0.00                0.00        0.055556        0.000000   \n",
       "4        0.00                0.00        0.029412        0.000000   \n",
       "5        0.00                0.00        0.026316        0.000000   \n",
       "6        0.01                0.00        0.000000        0.000000   \n",
       "7        0.01                0.00        0.000000        0.000000   \n",
       "8        0.00                0.01        0.020000        0.000000   \n",
       "9        0.00                0.00        0.000000        0.029412   \n",
       "10       0.00                0.00        0.000000        0.000000   \n",
       "11       0.00                0.00        0.064516        0.000000   \n",
       "\n",
       "    Sculpture Garden  Seafood Restaurant  Shopping Mall  Skating Rink  \\\n",
       "0           0.000000            0.000000       0.000000      0.000000   \n",
       "1           0.000000            0.000000       0.000000      0.000000   \n",
       "2           0.000000            0.018868       0.000000      0.018868   \n",
       "3           0.000000            0.000000       0.018519      0.000000   \n",
       "4           0.000000            0.000000       0.000000      0.029412   \n",
       "5           0.000000            0.000000       0.013158      0.013158   \n",
       "6           0.000000            0.000000       0.000000      0.000000   \n",
       "7           0.000000            0.010000       0.000000      0.000000   \n",
       "8           0.000000            0.000000       0.010000      0.000000   \n",
       "9           0.014706            0.014706       0.000000      0.014706   \n",
       "10          0.000000            0.000000       0.052632      0.052632   \n",
       "11          0.000000            0.000000       0.000000      0.000000   \n",
       "\n",
       "    Smoke Shop  Smoothie Shop  Snack Place      Spa  Spanish Restaurant  \\\n",
       "0     0.000000       0.000000         0.00  0.03125                0.00   \n",
       "1     0.000000       0.000000         0.00  0.00000                0.00   \n",
       "2     0.000000       0.000000         0.00  0.00000                0.00   \n",
       "3     0.000000       0.000000         0.00  0.00000                0.00   \n",
       "4     0.000000       0.000000         0.00  0.00000                0.00   \n",
       "5     0.013158       0.013158         0.00  0.00000                0.00   \n",
       "6     0.000000       0.000000         0.01  0.00000                0.00   \n",
       "7     0.000000       0.000000         0.00  0.00000                0.01   \n",
       "8     0.000000       0.000000         0.00  0.00000                0.00   \n",
       "9     0.000000       0.000000         0.00  0.00000                0.00   \n",
       "10    0.000000       0.000000         0.00  0.00000                0.00   \n",
       "11    0.000000       0.000000         0.00  0.00000                0.00   \n",
       "\n",
       "    Speakeasy  Sporting Goods Shop  Sports Bar  Stationery Store  Steakhouse  \\\n",
       "0        0.00             0.000000    0.000000              0.00    0.000000   \n",
       "1        0.00             0.000000    0.000000              0.00    0.000000   \n",
       "2        0.00             0.000000    0.000000              0.00    0.000000   \n",
       "3        0.00             0.000000    0.000000              0.00    0.000000   \n",
       "4        0.00             0.000000    0.000000              0.00    0.000000   \n",
       "5        0.00             0.026316    0.013158              0.00    0.000000   \n",
       "6        0.00             0.000000    0.000000              0.01    0.000000   \n",
       "7        0.00             0.000000    0.000000              0.00    0.000000   \n",
       "8        0.01             0.000000    0.000000              0.00    0.010000   \n",
       "9        0.00             0.000000    0.000000              0.00    0.000000   \n",
       "10       0.00             0.000000    0.052632              0.00    0.000000   \n",
       "11       0.00             0.000000    0.000000              0.00    0.032258   \n",
       "\n",
       "    Supermarket  Sushi Restaurant  Szechuan Restaurant  Taco Place  \\\n",
       "0      0.031250          0.000000             0.000000        0.00   \n",
       "1      0.000000          0.000000             0.000000        0.00   \n",
       "2      0.018868          0.000000             0.000000        0.00   \n",
       "3      0.037037          0.037037             0.018519        0.00   \n",
       "4      0.000000          0.000000             0.000000        0.00   \n",
       "5      0.039474          0.026316             0.000000        0.00   \n",
       "6      0.000000          0.010000             0.000000        0.01   \n",
       "7      0.000000          0.000000             0.000000        0.01   \n",
       "8      0.000000          0.000000             0.000000        0.00   \n",
       "9      0.000000          0.014706             0.000000        0.00   \n",
       "10     0.000000          0.000000             0.000000        0.00   \n",
       "11     0.000000          0.000000             0.000000        0.00   \n",
       "\n",
       "    Taiwanese Restaurant  Tea Room  Tennis Court  Thai Restaurant   Theater  \\\n",
       "0               0.000000      0.00      0.000000         0.000000  0.000000   \n",
       "1               0.000000      0.00      0.000000         0.000000  0.000000   \n",
       "2               0.000000      0.00      0.000000         0.000000  0.000000   \n",
       "3               0.018519      0.00      0.018519         0.000000  0.000000   \n",
       "4               0.000000      0.00      0.000000         0.000000  0.000000   \n",
       "5               0.000000      0.00      0.000000         0.026316  0.000000   \n",
       "6               0.000000      0.00      0.000000         0.020000  0.000000   \n",
       "7               0.000000      0.00      0.000000         0.020000  0.020000   \n",
       "8               0.000000      0.01      0.000000         0.030000  0.020000   \n",
       "9               0.000000      0.00      0.000000         0.000000  0.014706   \n",
       "10              0.000000      0.00      0.000000         0.000000  0.000000   \n",
       "11              0.000000      0.00      0.000000         0.000000  0.000000   \n",
       "\n",
       "    Theme Restaurant     Track     Trail  Train Station  \\\n",
       "0               0.00  0.000000  0.031250       0.000000   \n",
       "1               0.00  0.000000  0.000000       0.000000   \n",
       "2               0.00  0.000000  0.000000       0.000000   \n",
       "3               0.00  0.000000  0.000000       0.018519   \n",
       "4               0.00  0.000000  0.000000       0.000000   \n",
       "5               0.00  0.000000  0.013158       0.000000   \n",
       "6               0.00  0.000000  0.000000       0.000000   \n",
       "7               0.00  0.000000  0.000000       0.000000   \n",
       "8               0.01  0.000000  0.000000       0.000000   \n",
       "9               0.00  0.029412  0.029412       0.000000   \n",
       "10              0.00  0.000000  0.000000       0.000000   \n",
       "11              0.00  0.000000  0.000000       0.000000   \n",
       "\n",
       "    Vegetarian / Vegan Restaurant  Video Game Store  Vietnamese Restaurant  \\\n",
       "0                            0.00           0.03125               0.000000   \n",
       "1                            0.00           0.00000               0.000000   \n",
       "2                            0.00           0.00000               0.018868   \n",
       "3                            0.00           0.00000               0.000000   \n",
       "4                            0.00           0.00000               0.000000   \n",
       "5                            0.00           0.00000               0.000000   \n",
       "6                            0.00           0.00000               0.040000   \n",
       "7                            0.01           0.00000               0.010000   \n",
       "8                            0.01           0.00000               0.000000   \n",
       "9                            0.00           0.00000               0.000000   \n",
       "10                           0.00           0.00000               0.105263   \n",
       "11                           0.00           0.00000               0.000000   \n",
       "\n",
       "    Warehouse Store  Wings Joint  Women's Store  Xinjiang Restaurant  \\\n",
       "0          0.000000     0.000000        0.03125             0.000000   \n",
       "1          0.000000     0.028571        0.00000             0.028571   \n",
       "2          0.018868     0.000000        0.00000             0.000000   \n",
       "3          0.000000     0.000000        0.00000             0.000000   \n",
       "4          0.000000     0.000000        0.00000             0.000000   \n",
       "5          0.013158     0.013158        0.00000             0.000000   \n",
       "6          0.000000     0.000000        0.00000             0.000000   \n",
       "7          0.000000     0.000000        0.00000             0.000000   \n",
       "8          0.000000     0.000000        0.00000             0.000000   \n",
       "9          0.000000     0.000000        0.00000             0.000000   \n",
       "10         0.000000     0.000000        0.00000             0.000000   \n",
       "11         0.000000     0.000000        0.00000             0.000000   \n",
       "\n",
       "    Yoga Studio  Zoo Exhibit  \n",
       "0      0.000000       0.3125  \n",
       "1      0.000000       0.0000  \n",
       "2      0.000000       0.0000  \n",
       "3      0.000000       0.0000  \n",
       "4      0.000000       0.0000  \n",
       "5      0.013158       0.0000  \n",
       "6      0.000000       0.0000  \n",
       "7      0.000000       0.0000  \n",
       "8      0.020000       0.0000  \n",
       "9      0.014706       0.0000  \n",
       "10     0.000000       0.0000  \n",
       "11     0.000000       0.0000  "
      ],
      "text/html": "<div>\n<style scoped>\n    .dataframe tbody tr th:only-of-type {\n        vertical-align: middle;\n    }\n\n    .dataframe tbody tr th {\n        vertical-align: top;\n    }\n\n    .dataframe thead th {\n        text-align: right;\n    }\n</style>\n<table border=\"1\" class=\"dataframe\">\n  <thead>\n    <tr style=\"text-align: right;\">\n      <th></th>\n      <th>PostalCode</th>\n      <th>African Restaurant</th>\n      <th>Airport</th>\n      <th>Airport Lounge</th>\n      <th>American Restaurant</th>\n      <th>Animal Shelter</th>\n      <th>Antique Shop</th>\n      <th>Art Gallery</th>\n      <th>Arts &amp; Crafts Store</th>\n      <th>Asian Restaurant</th>\n      <th>Athletics &amp; Sports</th>\n      <th>Auto Dealership</th>\n      <th>Auto Garage</th>\n      <th>Automotive Shop</th>\n      <th>BBQ Joint</th>\n      <th>Baby Store</th>\n      <th>Badminton Court</th>\n      <th>Bagel Shop</th>\n      <th>Bakery</th>\n      <th>Bank</th>\n      <th>Bar</th>\n      <th>Baseball Stadium</th>\n      <th>Beer Bar</th>\n      <th>Beer Store</th>\n      <th>Big Box Store</th>\n      <th>Bike Shop</th>\n      <th>Bistro</th>\n      <th>Boat or Ferry</th>\n      <th>Bookstore</th>\n      <th>Botanical Garden</th>\n      <th>Boutique</th>\n      <th>Breakfast Spot</th>\n      <th>Brewery</th>\n      <th>Bubble Tea Shop</th>\n      <th>Burger Joint</th>\n      <th>Burrito Place</th>\n      <th>Bus Line</th>\n      <th>Bus Stop</th>\n      <th>Café</th>\n      <th>Campground</th>\n      <th>Cantonese Restaurant</th>\n      <th>Caribbean Restaurant</th>\n      <th>Cheese Shop</th>\n      <th>Chinese Restaurant</th>\n      <th>Chocolate Shop</th>\n      <th>Circus</th>\n      <th>Climbing Gym</th>\n      <th>Clothing Store</th>\n      <th>Cocktail Bar</th>\n      <th>Coffee Shop</th>\n      <th>Comic Shop</th>\n      <th>Concert Hall</th>\n      <th>Convenience Store</th>\n      <th>Cosmetics Shop</th>\n      <th>Coworking Space</th>\n      <th>Creperie</th>\n      <th>Curling Ice</th>\n      <th>Dance Studio</th>\n      <th>Deli / Bodega</th>\n      <th>Department Store</th>\n      <th>Diner</th>\n      <th>Discount Store</th>\n      <th>Distribution Center</th>\n      <th>Dive Bar</th>\n      <th>Dog Run</th>\n      <th>Doner Restaurant</th>\n      <th>Electronics Store</th>\n      <th>Falafel Restaurant</th>\n      <th>Farm</th>\n      <th>Farmers Market</th>\n      <th>Fast Food Restaurant</th>\n      <th>Filipino Restaurant</th>\n      <th>Fish &amp; Chips Shop</th>\n      <th>Fish Market</th>\n      <th>Flea Market</th>\n      <th>Food Court</th>\n      <th>Food Truck</th>\n      <th>French Restaurant</th>\n      <th>Fried Chicken Joint</th>\n      <th>Furniture / Home Store</th>\n      <th>Garden</th>\n      <th>Gas Station</th>\n      <th>Gastropub</th>\n      <th>Gay Bar</th>\n      <th>Gift Shop</th>\n      <th>Golf Course</th>\n      <th>Government Building</th>\n      <th>Greek Restaurant</th>\n      <th>Grocery Store</th>\n      <th>Gym</th>\n      <th>Gym / Fitness Center</th>\n      <th>Harbor / Marina</th>\n      <th>Historic Site</th>\n      <th>Hookah Bar</th>\n      <th>Hostel</th>\n      <th>Hotel</th>\n      <th>Hotel Bar</th>\n      <th>Housing Development</th>\n      <th>Ice Cream Shop</th>\n      <th>Indian Chinese Restaurant</th>\n      <th>Indian Restaurant</th>\n      <th>Intersection</th>\n      <th>Italian Restaurant</th>\n      <th>Japanese Restaurant</th>\n      <th>Juice Bar</th>\n      <th>Korean Restaurant</th>\n      <th>Latin American Restaurant</th>\n      <th>Liquor Store</th>\n      <th>Market</th>\n      <th>Martial Arts School</th>\n      <th>Medical Center</th>\n      <th>Mediterranean Restaurant</th>\n      <th>Men's Store</th>\n      <th>Mexican Restaurant</th>\n      <th>Middle Eastern Restaurant</th>\n      <th>Movie Theater</th>\n      <th>Moving Target</th>\n      <th>Music Venue</th>\n      <th>Neighborhood_cat</th>\n      <th>New American Restaurant</th>\n      <th>Nudist Beach</th>\n      <th>Office</th>\n      <th>Optical Shop</th>\n      <th>Organic Grocery</th>\n      <th>Other Great Outdoors</th>\n      <th>Paper / Office Supplies Store</th>\n      <th>Park</th>\n      <th>Performing Arts Venue</th>\n      <th>Pet Store</th>\n      <th>Pharmacy</th>\n      <th>Pizza Place</th>\n      <th>Plaza</th>\n      <th>Pool</th>\n      <th>Pool Hall</th>\n      <th>Pub</th>\n      <th>Ramen Restaurant</th>\n      <th>Record Shop</th>\n      <th>Rental Car Location</th>\n      <th>Residential Building (Apartment / Condo)</th>\n      <th>Restaurant</th>\n      <th>Rock Climbing Spot</th>\n      <th>Rock Club</th>\n      <th>Salon / Barbershop</th>\n      <th>Sandwich Place</th>\n      <th>Scenic Lookout</th>\n      <th>Sculpture Garden</th>\n      <th>Seafood Restaurant</th>\n      <th>Shopping Mall</th>\n      <th>Skating Rink</th>\n      <th>Smoke Shop</th>\n      <th>Smoothie Shop</th>\n      <th>Snack Place</th>\n      <th>Spa</th>\n      <th>Spanish Restaurant</th>\n      <th>Speakeasy</th>\n      <th>Sporting Goods Shop</th>\n      <th>Sports Bar</th>\n      <th>Stationery Store</th>\n      <th>Steakhouse</th>\n      <th>Supermarket</th>\n      <th>Sushi Restaurant</th>\n      <th>Szechuan Restaurant</th>\n      <th>Taco Place</th>\n      <th>Taiwanese Restaurant</th>\n      <th>Tea Room</th>\n      <th>Tennis Court</th>\n      <th>Thai Restaurant</th>\n      <th>Theater</th>\n      <th>Theme Restaurant</th>\n      <th>Track</th>\n      <th>Trail</th>\n      <th>Train Station</th>\n      <th>Vegetarian / Vegan Restaurant</th>\n      <th>Video Game Store</th>\n      <th>Vietnamese Restaurant</th>\n      <th>Warehouse Store</th>\n      <th>Wings Joint</th>\n      <th>Women's Store</th>\n      <th>Xinjiang Restaurant</th>\n      <th>Yoga Studio</th>\n      <th>Zoo Exhibit</th>\n    </tr>\n  </thead>\n  <tbody>\n    <tr>\n      <th>0</th>\n      <td>M1B</td>\n      <td>0.031250</td>\n      <td>0.000000</td>\n      <td>0.000000</td>\n      <td>0.00</td>\n      <td>0.00</td>\n      <td>0.00</td>\n      <td>0.000000</td>\n      <td>0.00</td>\n      <td>0.000000</td>\n      <td>0.000000</td>\n      <td>0.000000</td>\n      <td>0.000000</td>\n      <td>0.000000</td>\n      <td>0.000000</td>\n      <td>0.000000</td>\n      <td>0.000000</td>\n      <td>0.000000</td>\n      <td>0.000000</td>\n      <td>0.031250</td>\n      <td>0.000000</td>\n      <td>0.000000</td>\n      <td>0.00</td>\n      <td>0.000000</td>\n      <td>0.000000</td>\n      <td>0.000000</td>\n      <td>0.00</td>\n      <td>0.000000</td>\n      <td>0.000000</td>\n      <td>0.00</td>\n      <td>0.00</td>\n      <td>0.000000</td>\n      <td>0.000000</td>\n      <td>0.000000</td>\n      <td>0.000000</td>\n      <td>0.00</td>\n      <td>0.000000</td>\n      <td>0.000000</td>\n      <td>0.000000</td>\n      <td>0.000000</td>\n      <td>0.000000</td>\n      <td>0.031250</td>\n      <td>0.00</td>\n      <td>0.031250</td>\n      <td>0.00</td>\n      <td>0.00</td>\n      <td>0.00</td>\n      <td>0.000000</td>\n      <td>0.00</td>\n      <td>0.031250</td>\n      <td>0.00</td>\n      <td>0.00</td>\n      <td>0.000000</td>\n      <td>0.03125</td>\n      <td>0.00</td>\n      <td>0.00</td>\n      <td>0.000000</td>\n      <td>0.000000</td>\n      <td>0.00</td>\n      <td>0.000000</td>\n      <td>0.000000</td>\n      <td>0.000000</td>\n      <td>0.00</td>\n      <td>0.00</td>\n      <td>0.000000</td>\n      <td>0.00</td>\n      <td>0.000000</td>\n      <td>0.00</td>\n      <td>0.00</td>\n      <td>0.00</td>\n      <td>0.062500</td>\n      <td>0.000000</td>\n      <td>0.000000</td>\n      <td>0.000000</td>\n      <td>0.000000</td>\n      <td>0.000000</td>\n      <td>0.00</td>\n      <td>0.00</td>\n      <td>0.000000</td>\n      <td>0.000000</td>\n      <td>0.000000</td>\n      <td>0.031250</td>\n      <td>0.000000</td>\n      <td>0.00</td>\n      <td>0.00</td>\n      <td>0.000000</td>\n      <td>0.00</td>\n      <td>0.000000</td>\n      <td>0.000000</td>\n      <td>0.000000</td>\n      <td>0.000000</td>\n      <td>0.000000</td>\n      <td>0.000000</td>\n      <td>0.000000</td>\n      <td>0.00</td>\n      <td>0.000000</td>\n      <td>0.00</td>\n      <td>0.000000</td>\n      <td>0.000000</td>\n      <td>0.000000</td>\n      <td>0.000000</td>\n      <td>0.000000</td>\n      <td>0.000000</td>\n      <td>0.000000</td>\n      <td>0.00</td>\n      <td>0.000000</td>\n      <td>0.00</td>\n      <td>0.031250</td>\n      <td>0.000000</td>\n      <td>0.000000</td>\n      <td>0.000000</td>\n      <td>0.000000</td>\n      <td>0.000000</td>\n      <td>0.000000</td>\n      <td>0.000000</td>\n      <td>0.00</td>\n      <td>0.000000</td>\n      <td>0.00</td>\n      <td>0.00</td>\n      <td>0.00</td>\n      <td>0.000000</td>\n      <td>0.000000</td>\n      <td>0.000000</td>\n      <td>0.00</td>\n      <td>0.03125</td>\n      <td>0.031250</td>\n      <td>0.031250</td>\n      <td>0.000000</td>\n      <td>0.000000</td>\n      <td>0.000000</td>\n      <td>0.062500</td>\n      <td>0.000000</td>\n      <td>0.00</td>\n      <td>0.000000</td>\n      <td>0.00</td>\n      <td>0.000000</td>\n      <td>0.00</td>\n      <td>0.000000</td>\n      <td>0.000000</td>\n      <td>0.062500</td>\n      <td>0.000000</td>\n      <td>0.00</td>\n      <td>0.00</td>\n      <td>0.000000</td>\n      <td>0.000000</td>\n      <td>0.000000</td>\n      <td>0.000000</td>\n      <td>0.000000</td>\n      <td>0.000000</td>\n      <td>0.000000</td>\n      <td>0.000000</td>\n      <td>0.00</td>\n      <td>0.03125</td>\n      <td>0.00</td>\n      <td>0.00</td>\n      <td>0.000000</td>\n      <td>0.000000</td>\n      <td>0.00</td>\n      <td>0.000000</td>\n      <td>0.031250</td>\n      <td>0.000000</td>\n      <td>0.000000</td>\n      <td>0.00</td>\n      <td>0.000000</td>\n      <td>0.00</td>\n      <td>0.000000</td>\n      <td>0.000000</td>\n      <td>0.000000</td>\n      <td>0.00</td>\n      <td>0.000000</td>\n      <td>0.031250</td>\n      <td>0.000000</td>\n      <td>0.00</td>\n      <td>0.03125</td>\n      <td>0.000000</td>\n      <td>0.000000</td>\n      <td>0.000000</td>\n      <td>0.03125</td>\n      <td>0.000000</td>\n      <td>0.000000</td>\n      <td>0.3125</td>\n    </tr>\n    <tr>\n      <th>1</th>\n      <td>M1J</td>\n      <td>0.000000</td>\n      <td>0.000000</td>\n      <td>0.000000</td>\n      <td>0.00</td>\n      <td>0.00</td>\n      <td>0.00</td>\n      <td>0.000000</td>\n      <td>0.00</td>\n      <td>0.000000</td>\n      <td>0.000000</td>\n      <td>0.000000</td>\n      <td>0.000000</td>\n      <td>0.000000</td>\n      <td>0.000000</td>\n      <td>0.000000</td>\n      <td>0.000000</td>\n      <td>0.000000</td>\n      <td>0.000000</td>\n      <td>0.057143</td>\n      <td>0.000000</td>\n      <td>0.000000</td>\n      <td>0.00</td>\n      <td>0.028571</td>\n      <td>0.028571</td>\n      <td>0.000000</td>\n      <td>0.00</td>\n      <td>0.000000</td>\n      <td>0.028571</td>\n      <td>0.00</td>\n      <td>0.00</td>\n      <td>0.028571</td>\n      <td>0.000000</td>\n      <td>0.000000</td>\n      <td>0.000000</td>\n      <td>0.00</td>\n      <td>0.000000</td>\n      <td>0.028571</td>\n      <td>0.000000</td>\n      <td>0.000000</td>\n      <td>0.000000</td>\n      <td>0.000000</td>\n      <td>0.00</td>\n      <td>0.028571</td>\n      <td>0.00</td>\n      <td>0.00</td>\n      <td>0.00</td>\n      <td>0.000000</td>\n      <td>0.00</td>\n      <td>0.057143</td>\n      <td>0.00</td>\n      <td>0.00</td>\n      <td>0.000000</td>\n      <td>0.00000</td>\n      <td>0.00</td>\n      <td>0.00</td>\n      <td>0.000000</td>\n      <td>0.000000</td>\n      <td>0.00</td>\n      <td>0.000000</td>\n      <td>0.028571</td>\n      <td>0.000000</td>\n      <td>0.00</td>\n      <td>0.00</td>\n      <td>0.000000</td>\n      <td>0.00</td>\n      <td>0.000000</td>\n      <td>0.00</td>\n      <td>0.00</td>\n      <td>0.00</td>\n      <td>0.028571</td>\n      <td>0.000000</td>\n      <td>0.000000</td>\n      <td>0.000000</td>\n      <td>0.000000</td>\n      <td>0.000000</td>\n      <td>0.00</td>\n      <td>0.00</td>\n      <td>0.000000</td>\n      <td>0.000000</td>\n      <td>0.000000</td>\n      <td>0.028571</td>\n      <td>0.000000</td>\n      <td>0.00</td>\n      <td>0.00</td>\n      <td>0.000000</td>\n      <td>0.00</td>\n      <td>0.000000</td>\n      <td>0.085714</td>\n      <td>0.000000</td>\n      <td>0.000000</td>\n      <td>0.000000</td>\n      <td>0.000000</td>\n      <td>0.000000</td>\n      <td>0.00</td>\n      <td>0.000000</td>\n      <td>0.00</td>\n      <td>0.000000</td>\n      <td>0.057143</td>\n      <td>0.000000</td>\n      <td>0.028571</td>\n      <td>0.028571</td>\n      <td>0.000000</td>\n      <td>0.028571</td>\n      <td>0.00</td>\n      <td>0.000000</td>\n      <td>0.00</td>\n      <td>0.028571</td>\n      <td>0.000000</td>\n      <td>0.000000</td>\n      <td>0.000000</td>\n      <td>0.000000</td>\n      <td>0.000000</td>\n      <td>0.000000</td>\n      <td>0.000000</td>\n      <td>0.00</td>\n      <td>0.000000</td>\n      <td>0.00</td>\n      <td>0.00</td>\n      <td>0.00</td>\n      <td>0.000000</td>\n      <td>0.000000</td>\n      <td>0.028571</td>\n      <td>0.00</td>\n      <td>0.00000</td>\n      <td>0.000000</td>\n      <td>0.028571</td>\n      <td>0.000000</td>\n      <td>0.000000</td>\n      <td>0.085714</td>\n      <td>0.057143</td>\n      <td>0.000000</td>\n      <td>0.00</td>\n      <td>0.000000</td>\n      <td>0.00</td>\n      <td>0.000000</td>\n      <td>0.00</td>\n      <td>0.000000</td>\n      <td>0.000000</td>\n      <td>0.000000</td>\n      <td>0.000000</td>\n      <td>0.00</td>\n      <td>0.00</td>\n      <td>0.114286</td>\n      <td>0.000000</td>\n      <td>0.000000</td>\n      <td>0.000000</td>\n      <td>0.000000</td>\n      <td>0.000000</td>\n      <td>0.000000</td>\n      <td>0.000000</td>\n      <td>0.00</td>\n      <td>0.00000</td>\n      <td>0.00</td>\n      <td>0.00</td>\n      <td>0.000000</td>\n      <td>0.000000</td>\n      <td>0.00</td>\n      <td>0.000000</td>\n      <td>0.000000</td>\n      <td>0.000000</td>\n      <td>0.000000</td>\n      <td>0.00</td>\n      <td>0.000000</td>\n      <td>0.00</td>\n      <td>0.000000</td>\n      <td>0.000000</td>\n      <td>0.000000</td>\n      <td>0.00</td>\n      <td>0.000000</td>\n      <td>0.000000</td>\n      <td>0.000000</td>\n      <td>0.00</td>\n      <td>0.00000</td>\n      <td>0.000000</td>\n      <td>0.000000</td>\n      <td>0.028571</td>\n      <td>0.00000</td>\n      <td>0.028571</td>\n      <td>0.000000</td>\n      <td>0.0000</td>\n    </tr>\n    <tr>\n      <th>2</th>\n      <td>M1R</td>\n      <td>0.018868</td>\n      <td>0.000000</td>\n      <td>0.000000</td>\n      <td>0.00</td>\n      <td>0.00</td>\n      <td>0.00</td>\n      <td>0.000000</td>\n      <td>0.00</td>\n      <td>0.018868</td>\n      <td>0.000000</td>\n      <td>0.000000</td>\n      <td>0.000000</td>\n      <td>0.018868</td>\n      <td>0.000000</td>\n      <td>0.000000</td>\n      <td>0.018868</td>\n      <td>0.000000</td>\n      <td>0.018868</td>\n      <td>0.000000</td>\n      <td>0.000000</td>\n      <td>0.000000</td>\n      <td>0.00</td>\n      <td>0.000000</td>\n      <td>0.000000</td>\n      <td>0.000000</td>\n      <td>0.00</td>\n      <td>0.000000</td>\n      <td>0.000000</td>\n      <td>0.00</td>\n      <td>0.00</td>\n      <td>0.018868</td>\n      <td>0.000000</td>\n      <td>0.000000</td>\n      <td>0.037736</td>\n      <td>0.00</td>\n      <td>0.000000</td>\n      <td>0.000000</td>\n      <td>0.000000</td>\n      <td>0.000000</td>\n      <td>0.000000</td>\n      <td>0.000000</td>\n      <td>0.00</td>\n      <td>0.018868</td>\n      <td>0.00</td>\n      <td>0.00</td>\n      <td>0.00</td>\n      <td>0.000000</td>\n      <td>0.00</td>\n      <td>0.037736</td>\n      <td>0.00</td>\n      <td>0.00</td>\n      <td>0.000000</td>\n      <td>0.00000</td>\n      <td>0.00</td>\n      <td>0.00</td>\n      <td>0.000000</td>\n      <td>0.000000</td>\n      <td>0.00</td>\n      <td>0.000000</td>\n      <td>0.000000</td>\n      <td>0.018868</td>\n      <td>0.00</td>\n      <td>0.00</td>\n      <td>0.000000</td>\n      <td>0.00</td>\n      <td>0.000000</td>\n      <td>0.00</td>\n      <td>0.00</td>\n      <td>0.00</td>\n      <td>0.018868</td>\n      <td>0.018868</td>\n      <td>0.000000</td>\n      <td>0.018868</td>\n      <td>0.018868</td>\n      <td>0.000000</td>\n      <td>0.00</td>\n      <td>0.00</td>\n      <td>0.000000</td>\n      <td>0.000000</td>\n      <td>0.000000</td>\n      <td>0.018868</td>\n      <td>0.000000</td>\n      <td>0.00</td>\n      <td>0.00</td>\n      <td>0.000000</td>\n      <td>0.00</td>\n      <td>0.018868</td>\n      <td>0.056604</td>\n      <td>0.000000</td>\n      <td>0.000000</td>\n      <td>0.000000</td>\n      <td>0.000000</td>\n      <td>0.018868</td>\n      <td>0.00</td>\n      <td>0.000000</td>\n      <td>0.00</td>\n      <td>0.000000</td>\n      <td>0.000000</td>\n      <td>0.018868</td>\n      <td>0.018868</td>\n      <td>0.037736</td>\n      <td>0.018868</td>\n      <td>0.000000</td>\n      <td>0.00</td>\n      <td>0.018868</td>\n      <td>0.00</td>\n      <td>0.000000</td>\n      <td>0.000000</td>\n      <td>0.000000</td>\n      <td>0.018868</td>\n      <td>0.018868</td>\n      <td>0.000000</td>\n      <td>0.000000</td>\n      <td>0.075472</td>\n      <td>0.00</td>\n      <td>0.018868</td>\n      <td>0.00</td>\n      <td>0.00</td>\n      <td>0.00</td>\n      <td>0.000000</td>\n      <td>0.000000</td>\n      <td>0.000000</td>\n      <td>0.00</td>\n      <td>0.00000</td>\n      <td>0.000000</td>\n      <td>0.018868</td>\n      <td>0.000000</td>\n      <td>0.000000</td>\n      <td>0.018868</td>\n      <td>0.056604</td>\n      <td>0.018868</td>\n      <td>0.00</td>\n      <td>0.018868</td>\n      <td>0.00</td>\n      <td>0.000000</td>\n      <td>0.00</td>\n      <td>0.037736</td>\n      <td>0.000000</td>\n      <td>0.037736</td>\n      <td>0.000000</td>\n      <td>0.00</td>\n      <td>0.00</td>\n      <td>0.037736</td>\n      <td>0.000000</td>\n      <td>0.000000</td>\n      <td>0.018868</td>\n      <td>0.000000</td>\n      <td>0.018868</td>\n      <td>0.000000</td>\n      <td>0.000000</td>\n      <td>0.00</td>\n      <td>0.00000</td>\n      <td>0.00</td>\n      <td>0.00</td>\n      <td>0.000000</td>\n      <td>0.000000</td>\n      <td>0.00</td>\n      <td>0.000000</td>\n      <td>0.018868</td>\n      <td>0.000000</td>\n      <td>0.000000</td>\n      <td>0.00</td>\n      <td>0.000000</td>\n      <td>0.00</td>\n      <td>0.000000</td>\n      <td>0.000000</td>\n      <td>0.000000</td>\n      <td>0.00</td>\n      <td>0.000000</td>\n      <td>0.000000</td>\n      <td>0.000000</td>\n      <td>0.00</td>\n      <td>0.00000</td>\n      <td>0.018868</td>\n      <td>0.018868</td>\n      <td>0.000000</td>\n      <td>0.00000</td>\n      <td>0.000000</td>\n      <td>0.000000</td>\n      <td>0.0000</td>\n    </tr>\n    <tr>\n      <th>3</th>\n      <td>M2H</td>\n      <td>0.000000</td>\n      <td>0.000000</td>\n      <td>0.000000</td>\n      <td>0.00</td>\n      <td>0.00</td>\n      <td>0.00</td>\n      <td>0.000000</td>\n      <td>0.00</td>\n      <td>0.000000</td>\n      <td>0.000000</td>\n      <td>0.000000</td>\n      <td>0.000000</td>\n      <td>0.000000</td>\n      <td>0.018519</td>\n      <td>0.000000</td>\n      <td>0.000000</td>\n      <td>0.000000</td>\n      <td>0.037037</td>\n      <td>0.074074</td>\n      <td>0.000000</td>\n      <td>0.000000</td>\n      <td>0.00</td>\n      <td>0.000000</td>\n      <td>0.000000</td>\n      <td>0.000000</td>\n      <td>0.00</td>\n      <td>0.000000</td>\n      <td>0.000000</td>\n      <td>0.00</td>\n      <td>0.00</td>\n      <td>0.000000</td>\n      <td>0.000000</td>\n      <td>0.018519</td>\n      <td>0.000000</td>\n      <td>0.00</td>\n      <td>0.000000</td>\n      <td>0.000000</td>\n      <td>0.000000</td>\n      <td>0.018519</td>\n      <td>0.037037</td>\n      <td>0.000000</td>\n      <td>0.00</td>\n      <td>0.111111</td>\n      <td>0.00</td>\n      <td>0.00</td>\n      <td>0.00</td>\n      <td>0.000000</td>\n      <td>0.00</td>\n      <td>0.092593</td>\n      <td>0.00</td>\n      <td>0.00</td>\n      <td>0.018519</td>\n      <td>0.00000</td>\n      <td>0.00</td>\n      <td>0.00</td>\n      <td>0.000000</td>\n      <td>0.000000</td>\n      <td>0.00</td>\n      <td>0.000000</td>\n      <td>0.018519</td>\n      <td>0.000000</td>\n      <td>0.00</td>\n      <td>0.00</td>\n      <td>0.000000</td>\n      <td>0.00</td>\n      <td>0.000000</td>\n      <td>0.00</td>\n      <td>0.00</td>\n      <td>0.00</td>\n      <td>0.000000</td>\n      <td>0.000000</td>\n      <td>0.000000</td>\n      <td>0.000000</td>\n      <td>0.000000</td>\n      <td>0.000000</td>\n      <td>0.00</td>\n      <td>0.00</td>\n      <td>0.000000</td>\n      <td>0.000000</td>\n      <td>0.000000</td>\n      <td>0.000000</td>\n      <td>0.000000</td>\n      <td>0.00</td>\n      <td>0.00</td>\n      <td>0.018519</td>\n      <td>0.00</td>\n      <td>0.000000</td>\n      <td>0.037037</td>\n      <td>0.000000</td>\n      <td>0.000000</td>\n      <td>0.000000</td>\n      <td>0.000000</td>\n      <td>0.000000</td>\n      <td>0.00</td>\n      <td>0.000000</td>\n      <td>0.00</td>\n      <td>0.000000</td>\n      <td>0.000000</td>\n      <td>0.000000</td>\n      <td>0.000000</td>\n      <td>0.055556</td>\n      <td>0.000000</td>\n      <td>0.000000</td>\n      <td>0.00</td>\n      <td>0.018519</td>\n      <td>0.00</td>\n      <td>0.000000</td>\n      <td>0.000000</td>\n      <td>0.000000</td>\n      <td>0.000000</td>\n      <td>0.000000</td>\n      <td>0.000000</td>\n      <td>0.000000</td>\n      <td>0.000000</td>\n      <td>0.00</td>\n      <td>0.000000</td>\n      <td>0.00</td>\n      <td>0.00</td>\n      <td>0.00</td>\n      <td>0.000000</td>\n      <td>0.000000</td>\n      <td>0.000000</td>\n      <td>0.00</td>\n      <td>0.00000</td>\n      <td>0.000000</td>\n      <td>0.074074</td>\n      <td>0.000000</td>\n      <td>0.000000</td>\n      <td>0.074074</td>\n      <td>0.037037</td>\n      <td>0.000000</td>\n      <td>0.00</td>\n      <td>0.000000</td>\n      <td>0.00</td>\n      <td>0.000000</td>\n      <td>0.00</td>\n      <td>0.000000</td>\n      <td>0.018519</td>\n      <td>0.000000</td>\n      <td>0.000000</td>\n      <td>0.00</td>\n      <td>0.00</td>\n      <td>0.055556</td>\n      <td>0.000000</td>\n      <td>0.000000</td>\n      <td>0.000000</td>\n      <td>0.018519</td>\n      <td>0.000000</td>\n      <td>0.000000</td>\n      <td>0.000000</td>\n      <td>0.00</td>\n      <td>0.00000</td>\n      <td>0.00</td>\n      <td>0.00</td>\n      <td>0.000000</td>\n      <td>0.000000</td>\n      <td>0.00</td>\n      <td>0.000000</td>\n      <td>0.037037</td>\n      <td>0.037037</td>\n      <td>0.018519</td>\n      <td>0.00</td>\n      <td>0.018519</td>\n      <td>0.00</td>\n      <td>0.018519</td>\n      <td>0.000000</td>\n      <td>0.000000</td>\n      <td>0.00</td>\n      <td>0.000000</td>\n      <td>0.000000</td>\n      <td>0.018519</td>\n      <td>0.00</td>\n      <td>0.00000</td>\n      <td>0.000000</td>\n      <td>0.000000</td>\n      <td>0.000000</td>\n      <td>0.00000</td>\n      <td>0.000000</td>\n      <td>0.000000</td>\n      <td>0.0000</td>\n    </tr>\n    <tr>\n      <th>4</th>\n      <td>M4B</td>\n      <td>0.000000</td>\n      <td>0.000000</td>\n      <td>0.000000</td>\n      <td>0.00</td>\n      <td>0.00</td>\n      <td>0.00</td>\n      <td>0.000000</td>\n      <td>0.00</td>\n      <td>0.000000</td>\n      <td>0.029412</td>\n      <td>0.000000</td>\n      <td>0.000000</td>\n      <td>0.000000</td>\n      <td>0.029412</td>\n      <td>0.000000</td>\n      <td>0.000000</td>\n      <td>0.000000</td>\n      <td>0.029412</td>\n      <td>0.029412</td>\n      <td>0.000000</td>\n      <td>0.000000</td>\n      <td>0.00</td>\n      <td>0.000000</td>\n      <td>0.000000</td>\n      <td>0.000000</td>\n      <td>0.00</td>\n      <td>0.000000</td>\n      <td>0.000000</td>\n      <td>0.00</td>\n      <td>0.00</td>\n      <td>0.000000</td>\n      <td>0.029412</td>\n      <td>0.000000</td>\n      <td>0.000000</td>\n      <td>0.00</td>\n      <td>0.000000</td>\n      <td>0.000000</td>\n      <td>0.000000</td>\n      <td>0.000000</td>\n      <td>0.000000</td>\n      <td>0.000000</td>\n      <td>0.00</td>\n      <td>0.000000</td>\n      <td>0.00</td>\n      <td>0.00</td>\n      <td>0.00</td>\n      <td>0.000000</td>\n      <td>0.00</td>\n      <td>0.029412</td>\n      <td>0.00</td>\n      <td>0.00</td>\n      <td>0.029412</td>\n      <td>0.00000</td>\n      <td>0.00</td>\n      <td>0.00</td>\n      <td>0.029412</td>\n      <td>0.000000</td>\n      <td>0.00</td>\n      <td>0.000000</td>\n      <td>0.000000</td>\n      <td>0.000000</td>\n      <td>0.00</td>\n      <td>0.00</td>\n      <td>0.000000</td>\n      <td>0.00</td>\n      <td>0.000000</td>\n      <td>0.00</td>\n      <td>0.00</td>\n      <td>0.00</td>\n      <td>0.058824</td>\n      <td>0.000000</td>\n      <td>0.000000</td>\n      <td>0.000000</td>\n      <td>0.029412</td>\n      <td>0.000000</td>\n      <td>0.00</td>\n      <td>0.00</td>\n      <td>0.000000</td>\n      <td>0.000000</td>\n      <td>0.000000</td>\n      <td>0.000000</td>\n      <td>0.029412</td>\n      <td>0.00</td>\n      <td>0.00</td>\n      <td>0.000000</td>\n      <td>0.00</td>\n      <td>0.000000</td>\n      <td>0.029412</td>\n      <td>0.000000</td>\n      <td>0.058824</td>\n      <td>0.000000</td>\n      <td>0.000000</td>\n      <td>0.000000</td>\n      <td>0.00</td>\n      <td>0.000000</td>\n      <td>0.00</td>\n      <td>0.000000</td>\n      <td>0.000000</td>\n      <td>0.000000</td>\n      <td>0.029412</td>\n      <td>0.058824</td>\n      <td>0.000000</td>\n      <td>0.000000</td>\n      <td>0.00</td>\n      <td>0.000000</td>\n      <td>0.00</td>\n      <td>0.000000</td>\n      <td>0.000000</td>\n      <td>0.029412</td>\n      <td>0.000000</td>\n      <td>0.000000</td>\n      <td>0.029412</td>\n      <td>0.029412</td>\n      <td>0.000000</td>\n      <td>0.00</td>\n      <td>0.000000</td>\n      <td>0.00</td>\n      <td>0.00</td>\n      <td>0.00</td>\n      <td>0.000000</td>\n      <td>0.029412</td>\n      <td>0.000000</td>\n      <td>0.00</td>\n      <td>0.00000</td>\n      <td>0.000000</td>\n      <td>0.058824</td>\n      <td>0.000000</td>\n      <td>0.000000</td>\n      <td>0.088235</td>\n      <td>0.088235</td>\n      <td>0.000000</td>\n      <td>0.00</td>\n      <td>0.000000</td>\n      <td>0.00</td>\n      <td>0.000000</td>\n      <td>0.00</td>\n      <td>0.000000</td>\n      <td>0.000000</td>\n      <td>0.029412</td>\n      <td>0.029412</td>\n      <td>0.00</td>\n      <td>0.00</td>\n      <td>0.029412</td>\n      <td>0.000000</td>\n      <td>0.000000</td>\n      <td>0.000000</td>\n      <td>0.000000</td>\n      <td>0.029412</td>\n      <td>0.000000</td>\n      <td>0.000000</td>\n      <td>0.00</td>\n      <td>0.00000</td>\n      <td>0.00</td>\n      <td>0.00</td>\n      <td>0.000000</td>\n      <td>0.000000</td>\n      <td>0.00</td>\n      <td>0.000000</td>\n      <td>0.000000</td>\n      <td>0.000000</td>\n      <td>0.000000</td>\n      <td>0.00</td>\n      <td>0.000000</td>\n      <td>0.00</td>\n      <td>0.000000</td>\n      <td>0.000000</td>\n      <td>0.000000</td>\n      <td>0.00</td>\n      <td>0.000000</td>\n      <td>0.000000</td>\n      <td>0.000000</td>\n      <td>0.00</td>\n      <td>0.00000</td>\n      <td>0.000000</td>\n      <td>0.000000</td>\n      <td>0.000000</td>\n      <td>0.00000</td>\n      <td>0.000000</td>\n      <td>0.000000</td>\n      <td>0.0000</td>\n    </tr>\n    <tr>\n      <th>5</th>\n      <td>M4G</td>\n      <td>0.000000</td>\n      <td>0.000000</td>\n      <td>0.000000</td>\n      <td>0.00</td>\n      <td>0.00</td>\n      <td>0.00</td>\n      <td>0.000000</td>\n      <td>0.00</td>\n      <td>0.013158</td>\n      <td>0.000000</td>\n      <td>0.013158</td>\n      <td>0.000000</td>\n      <td>0.000000</td>\n      <td>0.013158</td>\n      <td>0.013158</td>\n      <td>0.000000</td>\n      <td>0.013158</td>\n      <td>0.052632</td>\n      <td>0.013158</td>\n      <td>0.000000</td>\n      <td>0.000000</td>\n      <td>0.00</td>\n      <td>0.000000</td>\n      <td>0.000000</td>\n      <td>0.013158</td>\n      <td>0.00</td>\n      <td>0.000000</td>\n      <td>0.000000</td>\n      <td>0.00</td>\n      <td>0.00</td>\n      <td>0.013158</td>\n      <td>0.013158</td>\n      <td>0.000000</td>\n      <td>0.026316</td>\n      <td>0.00</td>\n      <td>0.000000</td>\n      <td>0.000000</td>\n      <td>0.013158</td>\n      <td>0.000000</td>\n      <td>0.000000</td>\n      <td>0.000000</td>\n      <td>0.00</td>\n      <td>0.000000</td>\n      <td>0.00</td>\n      <td>0.00</td>\n      <td>0.00</td>\n      <td>0.000000</td>\n      <td>0.00</td>\n      <td>0.052632</td>\n      <td>0.00</td>\n      <td>0.00</td>\n      <td>0.013158</td>\n      <td>0.00000</td>\n      <td>0.00</td>\n      <td>0.00</td>\n      <td>0.013158</td>\n      <td>0.000000</td>\n      <td>0.00</td>\n      <td>0.013158</td>\n      <td>0.000000</td>\n      <td>0.013158</td>\n      <td>0.00</td>\n      <td>0.00</td>\n      <td>0.000000</td>\n      <td>0.00</td>\n      <td>0.026316</td>\n      <td>0.00</td>\n      <td>0.00</td>\n      <td>0.00</td>\n      <td>0.000000</td>\n      <td>0.000000</td>\n      <td>0.013158</td>\n      <td>0.013158</td>\n      <td>0.000000</td>\n      <td>0.000000</td>\n      <td>0.00</td>\n      <td>0.00</td>\n      <td>0.000000</td>\n      <td>0.013158</td>\n      <td>0.000000</td>\n      <td>0.013158</td>\n      <td>0.000000</td>\n      <td>0.00</td>\n      <td>0.00</td>\n      <td>0.000000</td>\n      <td>0.00</td>\n      <td>0.000000</td>\n      <td>0.039474</td>\n      <td>0.013158</td>\n      <td>0.013158</td>\n      <td>0.000000</td>\n      <td>0.000000</td>\n      <td>0.000000</td>\n      <td>0.00</td>\n      <td>0.000000</td>\n      <td>0.00</td>\n      <td>0.013158</td>\n      <td>0.013158</td>\n      <td>0.000000</td>\n      <td>0.065789</td>\n      <td>0.026316</td>\n      <td>0.000000</td>\n      <td>0.013158</td>\n      <td>0.00</td>\n      <td>0.000000</td>\n      <td>0.00</td>\n      <td>0.013158</td>\n      <td>0.000000</td>\n      <td>0.000000</td>\n      <td>0.000000</td>\n      <td>0.000000</td>\n      <td>0.000000</td>\n      <td>0.000000</td>\n      <td>0.013158</td>\n      <td>0.00</td>\n      <td>0.000000</td>\n      <td>0.00</td>\n      <td>0.00</td>\n      <td>0.00</td>\n      <td>0.000000</td>\n      <td>0.000000</td>\n      <td>0.000000</td>\n      <td>0.00</td>\n      <td>0.00000</td>\n      <td>0.013158</td>\n      <td>0.026316</td>\n      <td>0.000000</td>\n      <td>0.013158</td>\n      <td>0.013158</td>\n      <td>0.013158</td>\n      <td>0.000000</td>\n      <td>0.00</td>\n      <td>0.000000</td>\n      <td>0.00</td>\n      <td>0.000000</td>\n      <td>0.00</td>\n      <td>0.000000</td>\n      <td>0.000000</td>\n      <td>0.039474</td>\n      <td>0.000000</td>\n      <td>0.00</td>\n      <td>0.00</td>\n      <td>0.026316</td>\n      <td>0.000000</td>\n      <td>0.000000</td>\n      <td>0.000000</td>\n      <td>0.013158</td>\n      <td>0.013158</td>\n      <td>0.013158</td>\n      <td>0.013158</td>\n      <td>0.00</td>\n      <td>0.00000</td>\n      <td>0.00</td>\n      <td>0.00</td>\n      <td>0.026316</td>\n      <td>0.013158</td>\n      <td>0.00</td>\n      <td>0.000000</td>\n      <td>0.039474</td>\n      <td>0.026316</td>\n      <td>0.000000</td>\n      <td>0.00</td>\n      <td>0.000000</td>\n      <td>0.00</td>\n      <td>0.000000</td>\n      <td>0.026316</td>\n      <td>0.000000</td>\n      <td>0.00</td>\n      <td>0.000000</td>\n      <td>0.013158</td>\n      <td>0.000000</td>\n      <td>0.00</td>\n      <td>0.00000</td>\n      <td>0.000000</td>\n      <td>0.013158</td>\n      <td>0.013158</td>\n      <td>0.00000</td>\n      <td>0.000000</td>\n      <td>0.013158</td>\n      <td>0.0000</td>\n    </tr>\n    <tr>\n      <th>6</th>\n      <td>M4M</td>\n      <td>0.000000</td>\n      <td>0.000000</td>\n      <td>0.000000</td>\n      <td>0.02</td>\n      <td>0.00</td>\n      <td>0.01</td>\n      <td>0.000000</td>\n      <td>0.01</td>\n      <td>0.010000</td>\n      <td>0.000000</td>\n      <td>0.000000</td>\n      <td>0.000000</td>\n      <td>0.000000</td>\n      <td>0.010000</td>\n      <td>0.000000</td>\n      <td>0.000000</td>\n      <td>0.000000</td>\n      <td>0.040000</td>\n      <td>0.020000</td>\n      <td>0.040000</td>\n      <td>0.000000</td>\n      <td>0.00</td>\n      <td>0.010000</td>\n      <td>0.000000</td>\n      <td>0.000000</td>\n      <td>0.00</td>\n      <td>0.000000</td>\n      <td>0.010000</td>\n      <td>0.00</td>\n      <td>0.01</td>\n      <td>0.010000</td>\n      <td>0.030000</td>\n      <td>0.000000</td>\n      <td>0.000000</td>\n      <td>0.01</td>\n      <td>0.000000</td>\n      <td>0.000000</td>\n      <td>0.050000</td>\n      <td>0.000000</td>\n      <td>0.000000</td>\n      <td>0.010000</td>\n      <td>0.00</td>\n      <td>0.000000</td>\n      <td>0.00</td>\n      <td>0.00</td>\n      <td>0.01</td>\n      <td>0.000000</td>\n      <td>0.01</td>\n      <td>0.120000</td>\n      <td>0.01</td>\n      <td>0.00</td>\n      <td>0.000000</td>\n      <td>0.00000</td>\n      <td>0.01</td>\n      <td>0.00</td>\n      <td>0.010000</td>\n      <td>0.000000</td>\n      <td>0.00</td>\n      <td>0.000000</td>\n      <td>0.040000</td>\n      <td>0.000000</td>\n      <td>0.00</td>\n      <td>0.01</td>\n      <td>0.000000</td>\n      <td>0.00</td>\n      <td>0.020000</td>\n      <td>0.00</td>\n      <td>0.00</td>\n      <td>0.00</td>\n      <td>0.000000</td>\n      <td>0.000000</td>\n      <td>0.000000</td>\n      <td>0.000000</td>\n      <td>0.010000</td>\n      <td>0.000000</td>\n      <td>0.00</td>\n      <td>0.02</td>\n      <td>0.000000</td>\n      <td>0.000000</td>\n      <td>0.000000</td>\n      <td>0.000000</td>\n      <td>0.000000</td>\n      <td>0.00</td>\n      <td>0.00</td>\n      <td>0.000000</td>\n      <td>0.01</td>\n      <td>0.000000</td>\n      <td>0.030000</td>\n      <td>0.010000</td>\n      <td>0.010000</td>\n      <td>0.000000</td>\n      <td>0.000000</td>\n      <td>0.000000</td>\n      <td>0.00</td>\n      <td>0.010000</td>\n      <td>0.01</td>\n      <td>0.000000</td>\n      <td>0.020000</td>\n      <td>0.000000</td>\n      <td>0.000000</td>\n      <td>0.000000</td>\n      <td>0.020000</td>\n      <td>0.000000</td>\n      <td>0.00</td>\n      <td>0.000000</td>\n      <td>0.01</td>\n      <td>0.000000</td>\n      <td>0.000000</td>\n      <td>0.000000</td>\n      <td>0.000000</td>\n      <td>0.010000</td>\n      <td>0.000000</td>\n      <td>0.000000</td>\n      <td>0.010000</td>\n      <td>0.00</td>\n      <td>0.000000</td>\n      <td>0.00</td>\n      <td>0.01</td>\n      <td>0.00</td>\n      <td>0.000000</td>\n      <td>0.000000</td>\n      <td>0.000000</td>\n      <td>0.00</td>\n      <td>0.00000</td>\n      <td>0.000000</td>\n      <td>0.040000</td>\n      <td>0.000000</td>\n      <td>0.020000</td>\n      <td>0.010000</td>\n      <td>0.030000</td>\n      <td>0.000000</td>\n      <td>0.00</td>\n      <td>0.000000</td>\n      <td>0.03</td>\n      <td>0.000000</td>\n      <td>0.00</td>\n      <td>0.000000</td>\n      <td>0.000000</td>\n      <td>0.030000</td>\n      <td>0.000000</td>\n      <td>0.01</td>\n      <td>0.00</td>\n      <td>0.000000</td>\n      <td>0.000000</td>\n      <td>0.000000</td>\n      <td>0.000000</td>\n      <td>0.000000</td>\n      <td>0.000000</td>\n      <td>0.000000</td>\n      <td>0.000000</td>\n      <td>0.01</td>\n      <td>0.00000</td>\n      <td>0.00</td>\n      <td>0.00</td>\n      <td>0.000000</td>\n      <td>0.000000</td>\n      <td>0.01</td>\n      <td>0.000000</td>\n      <td>0.000000</td>\n      <td>0.010000</td>\n      <td>0.000000</td>\n      <td>0.01</td>\n      <td>0.000000</td>\n      <td>0.00</td>\n      <td>0.000000</td>\n      <td>0.020000</td>\n      <td>0.000000</td>\n      <td>0.00</td>\n      <td>0.000000</td>\n      <td>0.000000</td>\n      <td>0.000000</td>\n      <td>0.00</td>\n      <td>0.00000</td>\n      <td>0.040000</td>\n      <td>0.000000</td>\n      <td>0.000000</td>\n      <td>0.00000</td>\n      <td>0.000000</td>\n      <td>0.000000</td>\n      <td>0.0000</td>\n    </tr>\n    <tr>\n      <th>7</th>\n      <td>M5A</td>\n      <td>0.000000</td>\n      <td>0.000000</td>\n      <td>0.000000</td>\n      <td>0.00</td>\n      <td>0.01</td>\n      <td>0.00</td>\n      <td>0.010000</td>\n      <td>0.00</td>\n      <td>0.010000</td>\n      <td>0.020000</td>\n      <td>0.000000</td>\n      <td>0.000000</td>\n      <td>0.000000</td>\n      <td>0.010000</td>\n      <td>0.000000</td>\n      <td>0.000000</td>\n      <td>0.000000</td>\n      <td>0.020000</td>\n      <td>0.000000</td>\n      <td>0.020000</td>\n      <td>0.000000</td>\n      <td>0.00</td>\n      <td>0.000000</td>\n      <td>0.000000</td>\n      <td>0.000000</td>\n      <td>0.01</td>\n      <td>0.000000</td>\n      <td>0.000000</td>\n      <td>0.01</td>\n      <td>0.00</td>\n      <td>0.000000</td>\n      <td>0.010000</td>\n      <td>0.000000</td>\n      <td>0.000000</td>\n      <td>0.00</td>\n      <td>0.000000</td>\n      <td>0.000000</td>\n      <td>0.070000</td>\n      <td>0.000000</td>\n      <td>0.000000</td>\n      <td>0.000000</td>\n      <td>0.00</td>\n      <td>0.000000</td>\n      <td>0.01</td>\n      <td>0.01</td>\n      <td>0.00</td>\n      <td>0.000000</td>\n      <td>0.00</td>\n      <td>0.130000</td>\n      <td>0.00</td>\n      <td>0.00</td>\n      <td>0.000000</td>\n      <td>0.01000</td>\n      <td>0.00</td>\n      <td>0.01</td>\n      <td>0.010000</td>\n      <td>0.000000</td>\n      <td>0.01</td>\n      <td>0.000000</td>\n      <td>0.030000</td>\n      <td>0.000000</td>\n      <td>0.00</td>\n      <td>0.01</td>\n      <td>0.000000</td>\n      <td>0.00</td>\n      <td>0.020000</td>\n      <td>0.00</td>\n      <td>0.01</td>\n      <td>0.03</td>\n      <td>0.000000</td>\n      <td>0.000000</td>\n      <td>0.000000</td>\n      <td>0.000000</td>\n      <td>0.000000</td>\n      <td>0.000000</td>\n      <td>0.02</td>\n      <td>0.00</td>\n      <td>0.000000</td>\n      <td>0.000000</td>\n      <td>0.010000</td>\n      <td>0.000000</td>\n      <td>0.030000</td>\n      <td>0.00</td>\n      <td>0.01</td>\n      <td>0.000000</td>\n      <td>0.00</td>\n      <td>0.000000</td>\n      <td>0.010000</td>\n      <td>0.010000</td>\n      <td>0.010000</td>\n      <td>0.000000</td>\n      <td>0.010000</td>\n      <td>0.000000</td>\n      <td>0.00</td>\n      <td>0.020000</td>\n      <td>0.01</td>\n      <td>0.000000</td>\n      <td>0.000000</td>\n      <td>0.000000</td>\n      <td>0.000000</td>\n      <td>0.000000</td>\n      <td>0.030000</td>\n      <td>0.030000</td>\n      <td>0.00</td>\n      <td>0.000000</td>\n      <td>0.00</td>\n      <td>0.000000</td>\n      <td>0.000000</td>\n      <td>0.000000</td>\n      <td>0.000000</td>\n      <td>0.010000</td>\n      <td>0.000000</td>\n      <td>0.000000</td>\n      <td>0.020000</td>\n      <td>0.01</td>\n      <td>0.000000</td>\n      <td>0.00</td>\n      <td>0.00</td>\n      <td>0.00</td>\n      <td>0.000000</td>\n      <td>0.000000</td>\n      <td>0.000000</td>\n      <td>0.00</td>\n      <td>0.00000</td>\n      <td>0.000000</td>\n      <td>0.040000</td>\n      <td>0.020000</td>\n      <td>0.010000</td>\n      <td>0.000000</td>\n      <td>0.010000</td>\n      <td>0.000000</td>\n      <td>0.01</td>\n      <td>0.000000</td>\n      <td>0.03</td>\n      <td>0.000000</td>\n      <td>0.00</td>\n      <td>0.000000</td>\n      <td>0.000000</td>\n      <td>0.050000</td>\n      <td>0.000000</td>\n      <td>0.01</td>\n      <td>0.00</td>\n      <td>0.000000</td>\n      <td>0.000000</td>\n      <td>0.000000</td>\n      <td>0.010000</td>\n      <td>0.000000</td>\n      <td>0.000000</td>\n      <td>0.000000</td>\n      <td>0.000000</td>\n      <td>0.00</td>\n      <td>0.00000</td>\n      <td>0.01</td>\n      <td>0.00</td>\n      <td>0.000000</td>\n      <td>0.000000</td>\n      <td>0.00</td>\n      <td>0.000000</td>\n      <td>0.000000</td>\n      <td>0.000000</td>\n      <td>0.000000</td>\n      <td>0.01</td>\n      <td>0.000000</td>\n      <td>0.00</td>\n      <td>0.000000</td>\n      <td>0.020000</td>\n      <td>0.020000</td>\n      <td>0.00</td>\n      <td>0.000000</td>\n      <td>0.000000</td>\n      <td>0.000000</td>\n      <td>0.01</td>\n      <td>0.00000</td>\n      <td>0.010000</td>\n      <td>0.000000</td>\n      <td>0.000000</td>\n      <td>0.00000</td>\n      <td>0.000000</td>\n      <td>0.000000</td>\n      <td>0.0000</td>\n    </tr>\n    <tr>\n      <th>8</th>\n      <td>M5G</td>\n      <td>0.000000</td>\n      <td>0.000000</td>\n      <td>0.000000</td>\n      <td>0.01</td>\n      <td>0.00</td>\n      <td>0.00</td>\n      <td>0.020000</td>\n      <td>0.02</td>\n      <td>0.000000</td>\n      <td>0.000000</td>\n      <td>0.000000</td>\n      <td>0.000000</td>\n      <td>0.000000</td>\n      <td>0.000000</td>\n      <td>0.000000</td>\n      <td>0.000000</td>\n      <td>0.000000</td>\n      <td>0.010000</td>\n      <td>0.000000</td>\n      <td>0.000000</td>\n      <td>0.000000</td>\n      <td>0.01</td>\n      <td>0.000000</td>\n      <td>0.000000</td>\n      <td>0.000000</td>\n      <td>0.00</td>\n      <td>0.000000</td>\n      <td>0.020000</td>\n      <td>0.01</td>\n      <td>0.00</td>\n      <td>0.010000</td>\n      <td>0.000000</td>\n      <td>0.020000</td>\n      <td>0.000000</td>\n      <td>0.02</td>\n      <td>0.000000</td>\n      <td>0.000000</td>\n      <td>0.060000</td>\n      <td>0.000000</td>\n      <td>0.000000</td>\n      <td>0.000000</td>\n      <td>0.01</td>\n      <td>0.000000</td>\n      <td>0.00</td>\n      <td>0.00</td>\n      <td>0.00</td>\n      <td>0.010000</td>\n      <td>0.00</td>\n      <td>0.070000</td>\n      <td>0.00</td>\n      <td>0.01</td>\n      <td>0.000000</td>\n      <td>0.01000</td>\n      <td>0.00</td>\n      <td>0.01</td>\n      <td>0.000000</td>\n      <td>0.020000</td>\n      <td>0.00</td>\n      <td>0.010000</td>\n      <td>0.020000</td>\n      <td>0.000000</td>\n      <td>0.01</td>\n      <td>0.00</td>\n      <td>0.000000</td>\n      <td>0.01</td>\n      <td>0.000000</td>\n      <td>0.01</td>\n      <td>0.00</td>\n      <td>0.01</td>\n      <td>0.010000</td>\n      <td>0.000000</td>\n      <td>0.000000</td>\n      <td>0.000000</td>\n      <td>0.000000</td>\n      <td>0.000000</td>\n      <td>0.00</td>\n      <td>0.01</td>\n      <td>0.000000</td>\n      <td>0.010000</td>\n      <td>0.000000</td>\n      <td>0.000000</td>\n      <td>0.010000</td>\n      <td>0.01</td>\n      <td>0.00</td>\n      <td>0.000000</td>\n      <td>0.00</td>\n      <td>0.000000</td>\n      <td>0.010000</td>\n      <td>0.010000</td>\n      <td>0.000000</td>\n      <td>0.000000</td>\n      <td>0.010000</td>\n      <td>0.000000</td>\n      <td>0.01</td>\n      <td>0.010000</td>\n      <td>0.00</td>\n      <td>0.000000</td>\n      <td>0.000000</td>\n      <td>0.000000</td>\n      <td>0.000000</td>\n      <td>0.000000</td>\n      <td>0.010000</td>\n      <td>0.020000</td>\n      <td>0.01</td>\n      <td>0.000000</td>\n      <td>0.00</td>\n      <td>0.000000</td>\n      <td>0.000000</td>\n      <td>0.000000</td>\n      <td>0.000000</td>\n      <td>0.010000</td>\n      <td>0.010000</td>\n      <td>0.020000</td>\n      <td>0.000000</td>\n      <td>0.00</td>\n      <td>0.000000</td>\n      <td>0.01</td>\n      <td>0.01</td>\n      <td>0.01</td>\n      <td>0.000000</td>\n      <td>0.000000</td>\n      <td>0.000000</td>\n      <td>0.01</td>\n      <td>0.00000</td>\n      <td>0.000000</td>\n      <td>0.050000</td>\n      <td>0.000000</td>\n      <td>0.000000</td>\n      <td>0.000000</td>\n      <td>0.030000</td>\n      <td>0.020000</td>\n      <td>0.00</td>\n      <td>0.000000</td>\n      <td>0.01</td>\n      <td>0.030000</td>\n      <td>0.01</td>\n      <td>0.000000</td>\n      <td>0.000000</td>\n      <td>0.050000</td>\n      <td>0.000000</td>\n      <td>0.00</td>\n      <td>0.01</td>\n      <td>0.020000</td>\n      <td>0.000000</td>\n      <td>0.000000</td>\n      <td>0.000000</td>\n      <td>0.010000</td>\n      <td>0.000000</td>\n      <td>0.000000</td>\n      <td>0.000000</td>\n      <td>0.00</td>\n      <td>0.00000</td>\n      <td>0.00</td>\n      <td>0.01</td>\n      <td>0.000000</td>\n      <td>0.000000</td>\n      <td>0.00</td>\n      <td>0.010000</td>\n      <td>0.000000</td>\n      <td>0.000000</td>\n      <td>0.000000</td>\n      <td>0.00</td>\n      <td>0.000000</td>\n      <td>0.01</td>\n      <td>0.000000</td>\n      <td>0.030000</td>\n      <td>0.020000</td>\n      <td>0.01</td>\n      <td>0.000000</td>\n      <td>0.000000</td>\n      <td>0.000000</td>\n      <td>0.01</td>\n      <td>0.00000</td>\n      <td>0.000000</td>\n      <td>0.000000</td>\n      <td>0.000000</td>\n      <td>0.00000</td>\n      <td>0.000000</td>\n      <td>0.020000</td>\n      <td>0.0000</td>\n    </tr>\n    <tr>\n      <th>9</th>\n      <td>M5V</td>\n      <td>0.000000</td>\n      <td>0.014706</td>\n      <td>0.014706</td>\n      <td>0.00</td>\n      <td>0.00</td>\n      <td>0.00</td>\n      <td>0.014706</td>\n      <td>0.00</td>\n      <td>0.000000</td>\n      <td>0.014706</td>\n      <td>0.000000</td>\n      <td>0.000000</td>\n      <td>0.000000</td>\n      <td>0.014706</td>\n      <td>0.000000</td>\n      <td>0.000000</td>\n      <td>0.000000</td>\n      <td>0.000000</td>\n      <td>0.000000</td>\n      <td>0.014706</td>\n      <td>0.014706</td>\n      <td>0.00</td>\n      <td>0.000000</td>\n      <td>0.000000</td>\n      <td>0.000000</td>\n      <td>0.00</td>\n      <td>0.029412</td>\n      <td>0.000000</td>\n      <td>0.00</td>\n      <td>0.00</td>\n      <td>0.000000</td>\n      <td>0.029412</td>\n      <td>0.000000</td>\n      <td>0.000000</td>\n      <td>0.00</td>\n      <td>0.000000</td>\n      <td>0.000000</td>\n      <td>0.088235</td>\n      <td>0.000000</td>\n      <td>0.000000</td>\n      <td>0.014706</td>\n      <td>0.00</td>\n      <td>0.000000</td>\n      <td>0.00</td>\n      <td>0.00</td>\n      <td>0.00</td>\n      <td>0.000000</td>\n      <td>0.00</td>\n      <td>0.073529</td>\n      <td>0.00</td>\n      <td>0.00</td>\n      <td>0.000000</td>\n      <td>0.00000</td>\n      <td>0.00</td>\n      <td>0.00</td>\n      <td>0.000000</td>\n      <td>0.014706</td>\n      <td>0.00</td>\n      <td>0.000000</td>\n      <td>0.014706</td>\n      <td>0.000000</td>\n      <td>0.00</td>\n      <td>0.00</td>\n      <td>0.014706</td>\n      <td>0.00</td>\n      <td>0.000000</td>\n      <td>0.00</td>\n      <td>0.00</td>\n      <td>0.00</td>\n      <td>0.014706</td>\n      <td>0.000000</td>\n      <td>0.000000</td>\n      <td>0.000000</td>\n      <td>0.000000</td>\n      <td>0.000000</td>\n      <td>0.00</td>\n      <td>0.00</td>\n      <td>0.000000</td>\n      <td>0.000000</td>\n      <td>0.014706</td>\n      <td>0.000000</td>\n      <td>0.000000</td>\n      <td>0.00</td>\n      <td>0.00</td>\n      <td>0.000000</td>\n      <td>0.00</td>\n      <td>0.000000</td>\n      <td>0.000000</td>\n      <td>0.058824</td>\n      <td>0.000000</td>\n      <td>0.044118</td>\n      <td>0.014706</td>\n      <td>0.000000</td>\n      <td>0.00</td>\n      <td>0.029412</td>\n      <td>0.00</td>\n      <td>0.000000</td>\n      <td>0.029412</td>\n      <td>0.000000</td>\n      <td>0.000000</td>\n      <td>0.000000</td>\n      <td>0.000000</td>\n      <td>0.000000</td>\n      <td>0.00</td>\n      <td>0.000000</td>\n      <td>0.00</td>\n      <td>0.000000</td>\n      <td>0.014706</td>\n      <td>0.000000</td>\n      <td>0.000000</td>\n      <td>0.000000</td>\n      <td>0.000000</td>\n      <td>0.000000</td>\n      <td>0.000000</td>\n      <td>0.00</td>\n      <td>0.000000</td>\n      <td>0.00</td>\n      <td>0.00</td>\n      <td>0.00</td>\n      <td>0.014706</td>\n      <td>0.000000</td>\n      <td>0.000000</td>\n      <td>0.00</td>\n      <td>0.00000</td>\n      <td>0.000000</td>\n      <td>0.117647</td>\n      <td>0.014706</td>\n      <td>0.000000</td>\n      <td>0.000000</td>\n      <td>0.029412</td>\n      <td>0.000000</td>\n      <td>0.00</td>\n      <td>0.000000</td>\n      <td>0.00</td>\n      <td>0.014706</td>\n      <td>0.00</td>\n      <td>0.000000</td>\n      <td>0.000000</td>\n      <td>0.029412</td>\n      <td>0.000000</td>\n      <td>0.00</td>\n      <td>0.00</td>\n      <td>0.000000</td>\n      <td>0.029412</td>\n      <td>0.014706</td>\n      <td>0.014706</td>\n      <td>0.000000</td>\n      <td>0.014706</td>\n      <td>0.000000</td>\n      <td>0.000000</td>\n      <td>0.00</td>\n      <td>0.00000</td>\n      <td>0.00</td>\n      <td>0.00</td>\n      <td>0.000000</td>\n      <td>0.000000</td>\n      <td>0.00</td>\n      <td>0.000000</td>\n      <td>0.000000</td>\n      <td>0.014706</td>\n      <td>0.000000</td>\n      <td>0.00</td>\n      <td>0.000000</td>\n      <td>0.00</td>\n      <td>0.000000</td>\n      <td>0.000000</td>\n      <td>0.014706</td>\n      <td>0.00</td>\n      <td>0.029412</td>\n      <td>0.029412</td>\n      <td>0.000000</td>\n      <td>0.00</td>\n      <td>0.00000</td>\n      <td>0.000000</td>\n      <td>0.000000</td>\n      <td>0.000000</td>\n      <td>0.00000</td>\n      <td>0.000000</td>\n      <td>0.014706</td>\n      <td>0.0000</td>\n    </tr>\n    <tr>\n      <th>10</th>\n      <td>M9L</td>\n      <td>0.000000</td>\n      <td>0.000000</td>\n      <td>0.000000</td>\n      <td>0.00</td>\n      <td>0.00</td>\n      <td>0.00</td>\n      <td>0.000000</td>\n      <td>0.00</td>\n      <td>0.105263</td>\n      <td>0.000000</td>\n      <td>0.000000</td>\n      <td>0.000000</td>\n      <td>0.000000</td>\n      <td>0.000000</td>\n      <td>0.000000</td>\n      <td>0.000000</td>\n      <td>0.000000</td>\n      <td>0.052632</td>\n      <td>0.052632</td>\n      <td>0.000000</td>\n      <td>0.000000</td>\n      <td>0.00</td>\n      <td>0.000000</td>\n      <td>0.000000</td>\n      <td>0.000000</td>\n      <td>0.00</td>\n      <td>0.000000</td>\n      <td>0.000000</td>\n      <td>0.00</td>\n      <td>0.00</td>\n      <td>0.000000</td>\n      <td>0.000000</td>\n      <td>0.000000</td>\n      <td>0.000000</td>\n      <td>0.00</td>\n      <td>0.000000</td>\n      <td>0.000000</td>\n      <td>0.000000</td>\n      <td>0.000000</td>\n      <td>0.000000</td>\n      <td>0.000000</td>\n      <td>0.00</td>\n      <td>0.000000</td>\n      <td>0.00</td>\n      <td>0.00</td>\n      <td>0.00</td>\n      <td>0.000000</td>\n      <td>0.00</td>\n      <td>0.052632</td>\n      <td>0.00</td>\n      <td>0.00</td>\n      <td>0.000000</td>\n      <td>0.00000</td>\n      <td>0.00</td>\n      <td>0.00</td>\n      <td>0.000000</td>\n      <td>0.000000</td>\n      <td>0.00</td>\n      <td>0.000000</td>\n      <td>0.000000</td>\n      <td>0.000000</td>\n      <td>0.00</td>\n      <td>0.00</td>\n      <td>0.000000</td>\n      <td>0.00</td>\n      <td>0.052632</td>\n      <td>0.00</td>\n      <td>0.00</td>\n      <td>0.00</td>\n      <td>0.000000</td>\n      <td>0.000000</td>\n      <td>0.000000</td>\n      <td>0.000000</td>\n      <td>0.000000</td>\n      <td>0.052632</td>\n      <td>0.00</td>\n      <td>0.00</td>\n      <td>0.000000</td>\n      <td>0.000000</td>\n      <td>0.000000</td>\n      <td>0.000000</td>\n      <td>0.000000</td>\n      <td>0.00</td>\n      <td>0.00</td>\n      <td>0.000000</td>\n      <td>0.00</td>\n      <td>0.000000</td>\n      <td>0.000000</td>\n      <td>0.000000</td>\n      <td>0.000000</td>\n      <td>0.000000</td>\n      <td>0.000000</td>\n      <td>0.000000</td>\n      <td>0.00</td>\n      <td>0.000000</td>\n      <td>0.00</td>\n      <td>0.000000</td>\n      <td>0.000000</td>\n      <td>0.000000</td>\n      <td>0.000000</td>\n      <td>0.000000</td>\n      <td>0.052632</td>\n      <td>0.052632</td>\n      <td>0.00</td>\n      <td>0.000000</td>\n      <td>0.00</td>\n      <td>0.000000</td>\n      <td>0.000000</td>\n      <td>0.000000</td>\n      <td>0.000000</td>\n      <td>0.000000</td>\n      <td>0.000000</td>\n      <td>0.052632</td>\n      <td>0.000000</td>\n      <td>0.00</td>\n      <td>0.000000</td>\n      <td>0.00</td>\n      <td>0.00</td>\n      <td>0.00</td>\n      <td>0.000000</td>\n      <td>0.000000</td>\n      <td>0.000000</td>\n      <td>0.00</td>\n      <td>0.00000</td>\n      <td>0.000000</td>\n      <td>0.157895</td>\n      <td>0.000000</td>\n      <td>0.000000</td>\n      <td>0.052632</td>\n      <td>0.000000</td>\n      <td>0.000000</td>\n      <td>0.00</td>\n      <td>0.000000</td>\n      <td>0.00</td>\n      <td>0.000000</td>\n      <td>0.00</td>\n      <td>0.000000</td>\n      <td>0.000000</td>\n      <td>0.000000</td>\n      <td>0.000000</td>\n      <td>0.00</td>\n      <td>0.00</td>\n      <td>0.000000</td>\n      <td>0.000000</td>\n      <td>0.000000</td>\n      <td>0.000000</td>\n      <td>0.052632</td>\n      <td>0.052632</td>\n      <td>0.000000</td>\n      <td>0.000000</td>\n      <td>0.00</td>\n      <td>0.00000</td>\n      <td>0.00</td>\n      <td>0.00</td>\n      <td>0.000000</td>\n      <td>0.052632</td>\n      <td>0.00</td>\n      <td>0.000000</td>\n      <td>0.000000</td>\n      <td>0.000000</td>\n      <td>0.000000</td>\n      <td>0.00</td>\n      <td>0.000000</td>\n      <td>0.00</td>\n      <td>0.000000</td>\n      <td>0.000000</td>\n      <td>0.000000</td>\n      <td>0.00</td>\n      <td>0.000000</td>\n      <td>0.000000</td>\n      <td>0.000000</td>\n      <td>0.00</td>\n      <td>0.00000</td>\n      <td>0.105263</td>\n      <td>0.000000</td>\n      <td>0.000000</td>\n      <td>0.00000</td>\n      <td>0.000000</td>\n      <td>0.000000</td>\n      <td>0.0000</td>\n    </tr>\n    <tr>\n      <th>11</th>\n      <td>M9V</td>\n      <td>0.000000</td>\n      <td>0.000000</td>\n      <td>0.000000</td>\n      <td>0.00</td>\n      <td>0.00</td>\n      <td>0.00</td>\n      <td>0.000000</td>\n      <td>0.00</td>\n      <td>0.000000</td>\n      <td>0.000000</td>\n      <td>0.000000</td>\n      <td>0.032258</td>\n      <td>0.000000</td>\n      <td>0.000000</td>\n      <td>0.000000</td>\n      <td>0.000000</td>\n      <td>0.000000</td>\n      <td>0.000000</td>\n      <td>0.000000</td>\n      <td>0.000000</td>\n      <td>0.000000</td>\n      <td>0.00</td>\n      <td>0.032258</td>\n      <td>0.000000</td>\n      <td>0.000000</td>\n      <td>0.00</td>\n      <td>0.000000</td>\n      <td>0.000000</td>\n      <td>0.00</td>\n      <td>0.00</td>\n      <td>0.000000</td>\n      <td>0.000000</td>\n      <td>0.000000</td>\n      <td>0.032258</td>\n      <td>0.00</td>\n      <td>0.032258</td>\n      <td>0.000000</td>\n      <td>0.000000</td>\n      <td>0.000000</td>\n      <td>0.000000</td>\n      <td>0.032258</td>\n      <td>0.00</td>\n      <td>0.000000</td>\n      <td>0.00</td>\n      <td>0.00</td>\n      <td>0.00</td>\n      <td>0.032258</td>\n      <td>0.00</td>\n      <td>0.161290</td>\n      <td>0.00</td>\n      <td>0.00</td>\n      <td>0.000000</td>\n      <td>0.00000</td>\n      <td>0.00</td>\n      <td>0.00</td>\n      <td>0.000000</td>\n      <td>0.000000</td>\n      <td>0.00</td>\n      <td>0.000000</td>\n      <td>0.000000</td>\n      <td>0.000000</td>\n      <td>0.00</td>\n      <td>0.00</td>\n      <td>0.000000</td>\n      <td>0.00</td>\n      <td>0.000000</td>\n      <td>0.00</td>\n      <td>0.00</td>\n      <td>0.00</td>\n      <td>0.129032</td>\n      <td>0.000000</td>\n      <td>0.000000</td>\n      <td>0.000000</td>\n      <td>0.032258</td>\n      <td>0.000000</td>\n      <td>0.00</td>\n      <td>0.00</td>\n      <td>0.032258</td>\n      <td>0.000000</td>\n      <td>0.000000</td>\n      <td>0.000000</td>\n      <td>0.000000</td>\n      <td>0.00</td>\n      <td>0.00</td>\n      <td>0.000000</td>\n      <td>0.00</td>\n      <td>0.032258</td>\n      <td>0.096774</td>\n      <td>0.000000</td>\n      <td>0.000000</td>\n      <td>0.000000</td>\n      <td>0.000000</td>\n      <td>0.000000</td>\n      <td>0.00</td>\n      <td>0.000000</td>\n      <td>0.00</td>\n      <td>0.000000</td>\n      <td>0.032258</td>\n      <td>0.000000</td>\n      <td>0.032258</td>\n      <td>0.000000</td>\n      <td>0.000000</td>\n      <td>0.000000</td>\n      <td>0.00</td>\n      <td>0.000000</td>\n      <td>0.00</td>\n      <td>0.000000</td>\n      <td>0.000000</td>\n      <td>0.000000</td>\n      <td>0.000000</td>\n      <td>0.000000</td>\n      <td>0.000000</td>\n      <td>0.000000</td>\n      <td>0.000000</td>\n      <td>0.00</td>\n      <td>0.000000</td>\n      <td>0.00</td>\n      <td>0.00</td>\n      <td>0.00</td>\n      <td>0.000000</td>\n      <td>0.000000</td>\n      <td>0.000000</td>\n      <td>0.00</td>\n      <td>0.00000</td>\n      <td>0.000000</td>\n      <td>0.000000</td>\n      <td>0.000000</td>\n      <td>0.000000</td>\n      <td>0.032258</td>\n      <td>0.096774</td>\n      <td>0.000000</td>\n      <td>0.00</td>\n      <td>0.000000</td>\n      <td>0.00</td>\n      <td>0.000000</td>\n      <td>0.00</td>\n      <td>0.000000</td>\n      <td>0.000000</td>\n      <td>0.032258</td>\n      <td>0.000000</td>\n      <td>0.00</td>\n      <td>0.00</td>\n      <td>0.064516</td>\n      <td>0.000000</td>\n      <td>0.000000</td>\n      <td>0.000000</td>\n      <td>0.000000</td>\n      <td>0.000000</td>\n      <td>0.000000</td>\n      <td>0.000000</td>\n      <td>0.00</td>\n      <td>0.00000</td>\n      <td>0.00</td>\n      <td>0.00</td>\n      <td>0.000000</td>\n      <td>0.000000</td>\n      <td>0.00</td>\n      <td>0.032258</td>\n      <td>0.000000</td>\n      <td>0.000000</td>\n      <td>0.000000</td>\n      <td>0.00</td>\n      <td>0.000000</td>\n      <td>0.00</td>\n      <td>0.000000</td>\n      <td>0.000000</td>\n      <td>0.000000</td>\n      <td>0.00</td>\n      <td>0.000000</td>\n      <td>0.000000</td>\n      <td>0.000000</td>\n      <td>0.00</td>\n      <td>0.00000</td>\n      <td>0.000000</td>\n      <td>0.000000</td>\n      <td>0.000000</td>\n      <td>0.00000</td>\n      <td>0.000000</td>\n      <td>0.000000</td>\n      <td>0.0000</td>\n    </tr>\n  </tbody>\n</table>\n</div>"
     },
     "metadata": {},
     "execution_count": 126
    }
   ],
   "source": [
    "toronto_group = toronto_onehot.groupby('PostalCode').mean().reset_index()\n",
    "toronto_group.head(12)"
   ]
  },
  {
   "cell_type": "code",
   "execution_count": null,
   "metadata": {},
   "outputs": [],
   "source": [
    "Let's define the 10 most frequent categories for each postal code"
   ]
  },
  {
   "cell_type": "code",
   "execution_count": null,
   "metadata": {},
   "outputs": [],
   "source": [
    "#function to sort 10 most frequent venues from a dataframe row. Returns a series.\n",
    "def return_most_common_venues(row, num_top_venues):\n",
    "    row_categories = row.iloc[1:]\n",
    "    row_categories_sorted = row_categories.sort_values(ascending=False)\n",
    "    \n",
    "    return row_categories_sorted.index.values[0:num_top_venues] #we use the series' indes which are the type of venues"
   ]
  },
  {
   "source": [
    "## References:\n",
    "[1]: [https://www.coursera.org/learn/applied-data-science-capstone/peer/I1bDq/segmenting-and-clustering-neighborhoods-in-toronto/submit](https://www.coursera.org/learn/applied-data-science-capstone/peer/I1bDq/segmenting-and-clustering-neighborhoods-in-toronto/submit)."
   ],
   "cell_type": "markdown",
   "metadata": {}
  }
 ]
}